{
 "cells": [
  {
   "cell_type": "code",
   "execution_count": 1,
   "metadata": {},
   "outputs": [
    {
     "name": "stdout",
     "output_type": "stream",
     "text": [
      "<class 'str'>\n"
     ]
    }
   ],
   "source": [
    "# String\n",
    "c = 'hello'\n",
    "print(type(c))"
   ]
  },
  {
   "cell_type": "code",
   "execution_count": 2,
   "metadata": {},
   "outputs": [
    {
     "name": "stdout",
     "output_type": "stream",
     "text": [
      "<class 'int'>\n"
     ]
    }
   ],
   "source": [
    "# Integer\n",
    "a = 1\n",
    "print(type(a))"
   ]
  },
  {
   "cell_type": "code",
   "execution_count": 3,
   "metadata": {},
   "outputs": [
    {
     "name": "stdout",
     "output_type": "stream",
     "text": [
      "<class 'float'>\n"
     ]
    }
   ],
   "source": [
    "# Float\n",
    "b = 1.0\n",
    "print(type(b))"
   ]
  },
  {
   "cell_type": "code",
   "execution_count": 4,
   "metadata": {},
   "outputs": [
    {
     "name": "stdout",
     "output_type": "stream",
     "text": [
      "<class 'bool'>\n"
     ]
    }
   ],
   "source": [
    "# Boolean\n",
    "d = True\n",
    "print(type(d))"
   ]
  },
  {
   "cell_type": "code",
   "execution_count": 5,
   "metadata": {},
   "outputs": [
    {
     "name": "stdout",
     "output_type": "stream",
     "text": [
      "<class 'NoneType'>\n"
     ]
    }
   ],
   "source": [
    "# None\n",
    "e = None\n",
    "print(type(e))"
   ]
  },
  {
   "cell_type": "code",
   "execution_count": 6,
   "metadata": {},
   "outputs": [
    {
     "name": "stdout",
     "output_type": "stream",
     "text": [
      "<class 'str'>\n"
     ]
    }
   ],
   "source": [
    "# Cast integer to string\n",
    "print(type(str(a)))"
   ]
  },
  {
   "cell_type": "code",
   "execution_count": 7,
   "metadata": {},
   "outputs": [
    {
     "name": "stdout",
     "output_type": "stream",
     "text": [
      "Hello World\n"
     ]
    }
   ],
   "source": [
    "# Assigning and combining strings\n",
    "a = 'Hello'\n",
    "b = 'World'\n",
    "print(a + ' ' + b)"
   ]
  },
  {
   "cell_type": "code",
   "execution_count": 8,
   "metadata": {},
   "outputs": [
    {
     "name": "stdout",
     "output_type": "stream",
     "text": [
      "My name is Shawn\n"
     ]
    }
   ],
   "source": [
    "# f-strings\n",
    "firstname = 'Shawn'\n",
    "print(f'My name is {firstname}')"
   ]
  },
  {
   "cell_type": "code",
   "execution_count": 9,
   "metadata": {},
   "outputs": [
    {
     "name": "stdout",
     "output_type": "stream",
     "text": [
      "My name is Shawn Rhoads\n"
     ]
    }
   ],
   "source": [
    "# Combining f-strings\n",
    "firstname = 'Shawn'\n",
    "lastname = 'Rhoads'\n",
    "\n",
    "print(f'My name is {firstname} {lastname}')"
   ]
  },
  {
   "cell_type": "code",
   "execution_count": 10,
   "metadata": {
    "scrolled": true
   },
   "outputs": [
    {
     "name": "stdout",
     "output_type": "stream",
     "text": [
      "HelloHelloHelloHelloHello\n"
     ]
    }
   ],
   "source": [
    "# Repeat String without spaces\n",
    "print(str(a)*5)"
   ]
  },
  {
   "cell_type": "code",
   "execution_count": 11,
   "metadata": {},
   "outputs": [
    {
     "name": "stdout",
     "output_type": "stream",
     "text": [
      "Hello Hello Hello Hello Hello \n"
     ]
    }
   ],
   "source": [
    "# Repeat String with spaces\n",
    "print(str(a+' ')*5)"
   ]
  },
  {
   "cell_type": "code",
   "execution_count": 12,
   "metadata": {},
   "outputs": [
    {
     "name": "stdout",
     "output_type": "stream",
     "text": [
      "a = 9\n"
     ]
    }
   ],
   "source": [
    "# Addition\n",
    "a = 2 + 7\n",
    "print(f'a = {a}')"
   ]
  },
  {
   "cell_type": "code",
   "execution_count": 13,
   "metadata": {},
   "outputs": [
    {
     "name": "stdout",
     "output_type": "stream",
     "text": [
      "b = a-5 = 9-5 = 4\n"
     ]
    }
   ],
   "source": [
    "# Subtraction\n",
    "b = a - 5\n",
    "print(f'b = a-5 = {a}-5 = {b}')"
   ]
  },
  {
   "cell_type": "code",
   "execution_count": 14,
   "metadata": {},
   "outputs": [
    {
     "name": "stdout",
     "output_type": "stream",
     "text": [
      "b*2 = 4*2 = 8\n"
     ]
    }
   ],
   "source": [
    "# Multiplication\n",
    "print(f'b*2 = {b}*2 = {b*2}')"
   ]
  },
  {
   "cell_type": "code",
   "execution_count": 15,
   "metadata": {},
   "outputs": [
    {
     "name": "stdout",
     "output_type": "stream",
     "text": [
      "a/3 = 9/3 = 3.0\n"
     ]
    }
   ],
   "source": [
    "# Division\n",
    "print(f'a/3 = {a}/3 = {a/3}')"
   ]
  },
  {
   "cell_type": "code",
   "execution_count": 16,
   "metadata": {},
   "outputs": [
    {
     "name": "stdout",
     "output_type": "stream",
     "text": [
      "b^2 = b**2 = 4**2 = 16\n"
     ]
    }
   ],
   "source": [
    "# Exponentiation\n",
    "print(f'b^2 = b**2 = {b}**2 = {b**2}')"
   ]
  },
  {
   "cell_type": "code",
   "execution_count": 17,
   "metadata": {},
   "outputs": [
    {
     "name": "stdout",
     "output_type": "stream",
     "text": [
      "(Modulo returns the remainder of dividing the left hand operand by right hand operand)\n",
      "remainder of b/9 = remainder of 4/9 = 4\n"
     ]
    }
   ],
   "source": [
    "# Modulo \n",
    "print('(Modulo returns the remainder of dividing the left hand operand by right hand operand)')\n",
    "print(f'remainder of b/9 = remainder of {b}/9 = {b%9}')"
   ]
  },
  {
   "cell_type": "code",
   "execution_count": 18,
   "metadata": {},
   "outputs": [
    {
     "name": "stdout",
     "output_type": "stream",
     "text": [
      "a==b: False\n",
      "a==c: False\n",
      "a!=b: True\n",
      "\n"
     ]
    }
   ],
   "source": [
    "# Works for strings\n",
    "a = 'hello'\n",
    "b = 'world'\n",
    "c = 'Hello'\n",
    "print('a==b: ' + str(a==b))\n",
    "print('a==c: ' + str(a==c))\n",
    "print('a!=b: ' + str(a!=b))\n",
    "print()"
   ]
  },
  {
   "cell_type": "code",
   "execution_count": 19,
   "metadata": {},
   "outputs": [
    {
     "name": "stdout",
     "output_type": "stream",
     "text": [
      "d < e: True\n",
      "d >= e: False\n"
     ]
    }
   ],
   "source": [
    "# Works for numeric\n",
    "d = 5\n",
    "e = 8\n",
    "print('d < e: ' + str(d < e))\n",
    "print('d >= e: ' + str(d >= e))"
   ]
  },
  {
   "cell_type": "code",
   "execution_count": 20,
   "metadata": {},
   "outputs": [
    {
     "name": "stdout",
     "output_type": "stream",
     "text": [
      "n is non-0 or not None\n"
     ]
    }
   ],
   "source": [
    "n = 2\n",
    "\n",
    "if n:\n",
    "    print(\"n is non-0 or not None\")"
   ]
  },
  {
   "cell_type": "code",
   "execution_count": 21,
   "metadata": {},
   "outputs": [
    {
     "name": "stdout",
     "output_type": "stream",
     "text": [
      "n is not string\n"
     ]
    }
   ],
   "source": [
    "if n is None:\n",
    "    print(\"n is None\")\n",
    "    \n",
    "if n is not str:\n",
    "    print(\"n is not string\")"
   ]
  },
  {
   "cell_type": "code",
   "execution_count": 22,
   "metadata": {},
   "outputs": [
    {
     "name": "stdout",
     "output_type": "stream",
     "text": [
      "y > x\n"
     ]
    }
   ],
   "source": [
    "x = 20\n",
    "y = 21\n",
    "\n",
    "if y > x:\n",
    "    print('y > x')\n",
    "elif y < x:\n",
    "    print('y < x')"
   ]
  },
  {
   "cell_type": "code",
   "execution_count": 23,
   "metadata": {},
   "outputs": [
    {
     "name": "stdout",
     "output_type": "stream",
     "text": [
      "True\n"
     ]
    }
   ],
   "source": [
    "if x==20 and y==21:\n",
    "    print('True')\n",
    "else:\n",
    "    print('False')"
   ]
  },
  {
   "cell_type": "code",
   "execution_count": 24,
   "metadata": {},
   "outputs": [
    {
     "name": "stdout",
     "output_type": "stream",
     "text": [
      "True\n"
     ]
    }
   ],
   "source": [
    "if x==20 or y==100:\n",
    "    print('True')\n",
    "else:\n",
    "    print('False')"
   ]
  },
  {
   "cell_type": "code",
   "execution_count": 25,
   "metadata": {},
   "outputs": [
    {
     "name": "stdout",
     "output_type": "stream",
     "text": [
      "False\n"
     ]
    }
   ],
   "source": [
    "if x==200 or y==100:\n",
    "    print('True')\n",
    "else:\n",
    "    print('False')"
   ]
  },
  {
   "cell_type": "code",
   "execution_count": 26,
   "metadata": {
    "scrolled": true
   },
   "outputs": [
    {
     "name": "stdout",
     "output_type": "stream",
     "text": [
      "0 0\n",
      "1 1\n",
      "2 3\n",
      "3 6\n",
      "4 10\n",
      "5 15\n",
      "6 21\n",
      "7 28\n",
      "8 36\n",
      "9 45\n",
      "Exited with x==10\n"
     ]
    }
   ],
   "source": [
    "x = 0\n",
    "end = 10\n",
    "\n",
    "csum = 0\n",
    "while x < end:\n",
    "    csum += x\n",
    "    print(x, csum)\n",
    "    x += 1\n",
    "print(\"Exited with x==%d\" % x )"
   ]
  },
  {
   "cell_type": "code",
   "execution_count": 27,
   "metadata": {},
   "outputs": [
    {
     "name": "stdout",
     "output_type": "stream",
     "text": [
      "[1, 2, 3]\n"
     ]
    }
   ],
   "source": [
    "list_a = [1,2,3]\n",
    "print(list_a)"
   ]
  },
  {
   "cell_type": "code",
   "execution_count": 28,
   "metadata": {},
   "outputs": [
    {
     "name": "stdout",
     "output_type": "stream",
     "text": [
      "['hello', 'bye', 'hi']\n"
     ]
    }
   ],
   "source": [
    "list_of_strings = ['hello', 'bye', 'hi']\n",
    "print(list_of_strings)"
   ]
  },
  {
   "cell_type": "code",
   "execution_count": 29,
   "metadata": {},
   "outputs": [
    {
     "name": "stdout",
     "output_type": "stream",
     "text": [
      "list\n",
      "['of', 'things']\n"
     ]
    }
   ],
   "source": [
    "# Indexing and Slicing\n",
    "list_b = ['list','of','things']\n",
    "print(list_b[0])\n",
    "print(list_b[1:3])"
   ]
  },
  {
   "cell_type": "code",
   "execution_count": 30,
   "metadata": {},
   "outputs": [
    {
     "data": {
      "text/plain": [
       "[1, 3, 5]"
      ]
     },
     "execution_count": 30,
     "metadata": {},
     "output_type": "execute_result"
    }
   ],
   "source": [
    "list = [1,2,3,4,5]\n",
    "list[0::2]"
   ]
  },
  {
   "cell_type": "code",
   "execution_count": 31,
   "metadata": {},
   "outputs": [
    {
     "name": "stdout",
     "output_type": "stream",
     "text": [
      "['list', 'of', 'python', 'things']\n"
     ]
    }
   ],
   "source": [
    "# List methods (insert)\n",
    "list_b.insert(2,'python')\n",
    "print(list_b)"
   ]
  },
  {
   "cell_type": "code",
   "execution_count": 32,
   "metadata": {},
   "outputs": [
    {
     "name": "stdout",
     "output_type": "stream",
     "text": [
      "['list', 'of', 'python', 'things', '.']\n"
     ]
    }
   ],
   "source": [
    "# List methods (append)\n",
    "list_b.append('.')\n",
    "print(list_b)"
   ]
  },
  {
   "cell_type": "code",
   "execution_count": 33,
   "metadata": {},
   "outputs": [
    {
     "name": "stdout",
     "output_type": "stream",
     "text": [
      "PSYC 347 - Computational Models of Human Social Behavior and Neuroscience\n",
      "PSYC 347 - COMPUTATIONAL MODELS OF HUMAN SOCIAL BEHAVIOR AND NEUROSCIENCE\n"
     ]
    }
   ],
   "source": [
    "# Methods could be applied to other objects (like strings)\n",
    "example_string = 'PSYC 347 - Computational Models of Human Social Behavior and Neuroscience'\n",
    "print(example_string)\n",
    "print(example_string.upper())"
   ]
  },
  {
   "cell_type": "code",
   "execution_count": 34,
   "metadata": {
    "scrolled": true
   },
   "outputs": [
    {
     "name": "stdout",
     "output_type": "stream",
     "text": [
      "{'one': 'uno'}\n"
     ]
    }
   ],
   "source": [
    "# Dictionaries\n",
    "eng2sp = {}\n",
    "eng2sp['one'] = 'uno'\n",
    "print(eng2sp)"
   ]
  },
  {
   "cell_type": "code",
   "execution_count": 35,
   "metadata": {},
   "outputs": [
    {
     "name": "stdout",
     "output_type": "stream",
     "text": [
      "{'one': 'uno', 'two': 'dos', 'three': 'tres'}\n"
     ]
    }
   ],
   "source": [
    "eng2sp = {'one': 'uno', 'two': 'dos', 'three': 'tres'}\n",
    "print(eng2sp)"
   ]
  },
  {
   "cell_type": "code",
   "execution_count": 36,
   "metadata": {},
   "outputs": [
    {
     "name": "stdout",
     "output_type": "stream",
     "text": [
      "dict_keys(['one', 'two', 'three'])\n",
      "dict_values(['uno', 'dos', 'tres'])\n"
     ]
    }
   ],
   "source": [
    "# keys vs values\n",
    "print(eng2sp.keys())\n",
    "print(eng2sp.values())"
   ]
  },
  {
   "cell_type": "code",
   "execution_count": 37,
   "metadata": {},
   "outputs": [
    {
     "name": "stdout",
     "output_type": "stream",
     "text": [
      "0\n",
      "1\n",
      "2\n",
      "3\n",
      "4\n",
      "5\n"
     ]
    }
   ],
   "source": [
    "for i in [0, 1, 2, 3, 4, 5]:\n",
    "    print(i)"
   ]
  },
  {
   "cell_type": "code",
   "execution_count": 38,
   "metadata": {},
   "outputs": [
    {
     "name": "stdout",
     "output_type": "stream",
     "text": [
      "0\n",
      "1\n",
      "2\n",
      "3\n",
      "4\n",
      "5\n"
     ]
    }
   ],
   "source": [
    "for i in range(6):\n",
    "    print(i)"
   ]
  },
  {
   "cell_type": "code",
   "execution_count": 39,
   "metadata": {},
   "outputs": [
    {
     "name": "stdout",
     "output_type": "stream",
     "text": [
      "2\n",
      "3\n",
      "4\n"
     ]
    }
   ],
   "source": [
    "for i in range(2,5):\n",
    "    print(i)"
   ]
  },
  {
   "cell_type": "code",
   "execution_count": 40,
   "metadata": {},
   "outputs": [
    {
     "name": "stdout",
     "output_type": "stream",
     "text": [
      "0 P\n",
      "1 S\n",
      "2 Y\n",
      "3 C\n",
      "4 H\n"
     ]
    }
   ],
   "source": [
    "# indexing using for loops\n",
    "list_a = ['P','S','Y','C','H']\n",
    "\n",
    "for index, value in enumerate(list_a):\n",
    "    print(index, value)"
   ]
  },
  {
   "cell_type": "code",
   "execution_count": 41,
   "metadata": {
    "scrolled": false
   },
   "outputs": [
    {
     "name": "stdout",
     "output_type": "stream",
     "text": [
      "P\n",
      "y\n",
      "t\n",
      "h\n",
      "o\n",
      "n\n",
      " \n",
      "i\n",
      "s\n",
      " \n",
      "m\n",
      "a\n",
      "k\n",
      "i\n",
      "n\n",
      "g\n",
      " \n",
      "s\n",
      "c\n",
      "i\n",
      "e\n",
      "n\n",
      "c\n",
      "e\n",
      " \n",
      "e\n",
      "a\n",
      "s\n",
      "i\n",
      "e\n",
      "r\n"
     ]
    }
   ],
   "source": [
    "example_string = \"Python is making science easier\"\n",
    "for c in example_string:\n",
    "    print(c)"
   ]
  },
  {
   "cell_type": "code",
   "execution_count": 42,
   "metadata": {},
   "outputs": [
    {
     "name": "stdout",
     "output_type": "stream",
     "text": [
      "['list', 'of', 'python', 'things', '.']\n",
      "\n",
      "...running for loop\n",
      "\n",
      "['list', 'of', 'python', 'things', '.', 'a', 'b', 'c']\n"
     ]
    }
   ],
   "source": [
    "# appending to lists in for loop\n",
    "print(list_b)\n",
    "\n",
    "print('\\n...running for loop\\n')\n",
    "for value in ['a','b','c']:\n",
    "    list_b.append(value)\n",
    "    \n",
    "print(list_b)"
   ]
  },
  {
   "cell_type": "code",
   "execution_count": 43,
   "metadata": {},
   "outputs": [
    {
     "name": "stdout",
     "output_type": "stream",
     "text": [
      "M\n",
      "O\n",
      "D\n",
      "E\n",
      "L\n",
      "S\n"
     ]
    }
   ],
   "source": [
    "# manipulating lists using for loops\n",
    "for value in ['m','o','d','e','l','s']:\n",
    "    print(value.upper())"
   ]
  },
  {
   "cell_type": "code",
   "execution_count": 44,
   "metadata": {},
   "outputs": [
    {
     "name": "stdout",
     "output_type": "stream",
     "text": [
      "m\n",
      "O\n",
      "d\n",
      "E\n",
      "l\n",
      "S\n"
     ]
    }
   ],
   "source": [
    "# only capitalize every other letter\n",
    "for index, value in enumerate(['m','o','d','e','l','s']):\n",
    "    if index % 2:\n",
    "        print(value.upper())\n",
    "    else:\n",
    "        print(value)"
   ]
  },
  {
   "cell_type": "code",
   "execution_count": 45,
   "metadata": {},
   "outputs": [
    {
     "name": "stdout",
     "output_type": "stream",
     "text": [
      "[90, 99, 108, 117, 126, 135]\n"
     ]
    }
   ],
   "source": [
    "# list comprehension\n",
    "list_example = [10, 11, 12, 13, 14, 15]\n",
    "\n",
    "print([x*9 for x in list_example])"
   ]
  },
  {
   "cell_type": "code",
   "execution_count": 46,
   "metadata": {},
   "outputs": [
    {
     "name": "stdout",
     "output_type": "stream",
     "text": [
      "['WORDS', 'TO', 'CHANGE']\n"
     ]
    }
   ],
   "source": [
    "# List Comprehension with methods\n",
    "list_example2 = ['words', 'to', 'change']\n",
    "\n",
    "print([x.upper() for x in list_example2])"
   ]
  },
  {
   "cell_type": "code",
   "execution_count": 47,
   "metadata": {},
   "outputs": [],
   "source": [
    "def make_upper_case(text):\n",
    "    return (text.upper())"
   ]
  },
  {
   "cell_type": "code",
   "execution_count": 48,
   "metadata": {},
   "outputs": [
    {
     "name": "stdout",
     "output_type": "stream",
     "text": [
      "PYTHON IS MAKING SCIENCE EASIER\n"
     ]
    }
   ],
   "source": [
    "string = \"Python is making science easier\"\n",
    "string_upper = string.upper()\n",
    "print(string_upper)"
   ]
  },
  {
   "cell_type": "code",
   "execution_count": 49,
   "metadata": {},
   "outputs": [
    {
     "data": {
      "text/plain": [
       "'PYTHON IS MAKING SCIENCE EASIER'"
      ]
     },
     "execution_count": 49,
     "metadata": {},
     "output_type": "execute_result"
    }
   ],
   "source": [
    "make_upper_case(string)"
   ]
  },
  {
   "cell_type": "code",
   "execution_count": 50,
   "metadata": {},
   "outputs": [],
   "source": [
    "class Cat:\n",
    "\n",
    "    # Initializer / Instance Attributes\n",
    "    def __init__(self, name, age):\n",
    "        self.name = name\n",
    "        self.age = age\n",
    "        self.hungry = True\n",
    "        self.tired = True\n",
    "\n",
    "    # instance method\n",
    "    def description(self):\n",
    "        __name_age__ = \"{} is {} years old. \".format(self.name, self.age)\n",
    "        \n",
    "        if self.tired == True:\n",
    "            __is_tired__ = \"{} is tired. \".format(self.name)\n",
    "        else:\n",
    "            __is_tired__ = \"{} is not tired. \".format(self.name)\n",
    "        \n",
    "        if self.hungry == True:\n",
    "             __is_hungry__ = \"{} is hungry. \".format(self.name)\n",
    "        else:\n",
    "            __is_hungry__ = \"{} is not hungry. \".format(self.name)\n",
    "        \n",
    "        return str(__name_age__+__is_tired__+__is_hungry__)\n",
    "\n",
    "    # instance method\n",
    "    def meow(self):\n",
    "        return \"{} says {}\".format(self.name, \"Meow! Meow!\")\n",
    "    \n",
    "    def feed(self):\n",
    "        self.hungry = False\n",
    "        print(self.meow())\n",
    "        \n",
    "    def sleep(self):\n",
    "        self.tired = False"
   ]
  },
  {
   "cell_type": "code",
   "execution_count": 51,
   "metadata": {},
   "outputs": [],
   "source": [
    "# Instantiate the Cat object\n",
    "kitty = Cat(\"Fat Cat\", 6)"
   ]
  },
  {
   "cell_type": "code",
   "execution_count": 52,
   "metadata": {},
   "outputs": [
    {
     "name": "stdout",
     "output_type": "stream",
     "text": [
      "Fat Cat is 6 years old. Fat Cat is tired. Fat Cat is hungry. \n",
      "Fat Cat says Meow! Meow!\n"
     ]
    }
   ],
   "source": [
    "# call our instance methods\n",
    "print(kitty.description())\n",
    "print(kitty.meow())"
   ]
  },
  {
   "cell_type": "code",
   "execution_count": 53,
   "metadata": {},
   "outputs": [
    {
     "name": "stdout",
     "output_type": "stream",
     "text": [
      "Fat Cat says Meow! Meow!\n"
     ]
    }
   ],
   "source": [
    "kitty.feed()"
   ]
  },
  {
   "cell_type": "code",
   "execution_count": 54,
   "metadata": {},
   "outputs": [
    {
     "name": "stdout",
     "output_type": "stream",
     "text": [
      "Fat Cat is 6 years old. Fat Cat is tired. Fat Cat is not hungry. \n"
     ]
    }
   ],
   "source": [
    "print(kitty.description())"
   ]
  },
  {
   "cell_type": "code",
   "execution_count": 55,
   "metadata": {},
   "outputs": [],
   "source": [
    "kitty.sleep()"
   ]
  },
  {
   "cell_type": "code",
   "execution_count": 56,
   "metadata": {},
   "outputs": [
    {
     "name": "stdout",
     "output_type": "stream",
     "text": [
      "Fat Cat is 6 years old. Fat Cat is not tired. Fat Cat is not hungry. \n"
     ]
    }
   ],
   "source": [
    "print(kitty.description())"
   ]
  },
  {
   "cell_type": "code",
   "execution_count": 57,
   "metadata": {},
   "outputs": [],
   "source": [
    "kitty.name = 'Shawn'"
   ]
  },
  {
   "cell_type": "code",
   "execution_count": 58,
   "metadata": {},
   "outputs": [
    {
     "data": {
      "text/plain": [
       "'Shawn says Meow! Meow!'"
      ]
     },
     "execution_count": 58,
     "metadata": {},
     "output_type": "execute_result"
    }
   ],
   "source": [
    "kitty.meow()"
   ]
  },
  {
   "cell_type": "code",
   "execution_count": 59,
   "metadata": {},
   "outputs": [],
   "source": [
    "import os\n",
    "from glob import glob"
   ]
  },
  {
   "cell_type": "code",
   "execution_count": 60,
   "metadata": {},
   "outputs": [
    {
     "name": "stdout",
     "output_type": "stream",
     "text": [
      "Not running on Colab... Printing list of files\n",
      "['.\\\\module-01-00_Jupyter-Notebooks-Colab.ipynb', '.\\\\module-01-00_Jupyter-Notebooks.ipynb', '.\\\\module-01-01_Intro-to-Python.ipynb', '.\\\\module-01-02_Working-with-Data.ipynb', '.\\\\module-01-03_Python-Exercises.ipynb']\n"
     ]
    }
   ],
   "source": [
    "if 'google.colab' in str(get_ipython()):\n",
    "    print('Running on Colab... Printing list of directories')\n",
    "    data_file_list = glob('/*')\n",
    "else:\n",
    "    print('Not running on Colab... Printing list of files')\n",
    "    data_file_list = glob(os.path.join(os.path.curdir,'*ipynb'))\n",
    "print(data_file_list)"
   ]
  },
  {
   "cell_type": "code",
   "execution_count": 61,
   "metadata": {},
   "outputs": [
    {
     "name": "stdout",
     "output_type": "stream",
     "text": [
      "['module-01-00_Jupyter-Notebooks-Colab.ipynb', 'module-01-00_Jupyter-Notebooks.ipynb', 'module-01-01_Intro-to-Python.ipynb', 'module-01-02_Working-with-Data.ipynb', 'module-01-03_Python-Exercises.ipynb']\n"
     ]
    }
   ],
   "source": [
    "file_list = []\n",
    "for f in data_file_list:\n",
    "    file_list.append(os.path.basename(f))\n",
    "\n",
    "print(file_list)"
   ]
  },
  {
   "cell_type": "code",
   "execution_count": 62,
   "metadata": {},
   "outputs": [
    {
     "data": {
      "text/plain": [
       "['module-01-00_Jupyter-Notebooks-Colab.ipynb',\n",
       " 'module-01-00_Jupyter-Notebooks.ipynb',\n",
       " 'module-01-01_Intro-to-Python.ipynb',\n",
       " 'module-01-02_Working-with-Data.ipynb',\n",
       " 'module-01-03_Python-Exercises.ipynb']"
      ]
     },
     "execution_count": 62,
     "metadata": {},
     "output_type": "execute_result"
    }
   ],
   "source": [
    "[os.path.basename(x) for x in data_file_list]"
   ]
  },
  {
   "cell_type": "code",
   "execution_count": 63,
   "metadata": {},
   "outputs": [],
   "source": [
    "import numpy as np"
   ]
  },
  {
   "cell_type": "code",
   "execution_count": 64,
   "metadata": {},
   "outputs": [
    {
     "data": {
      "text/plain": [
       "array([ 0,  1,  2,  3,  4,  5,  6,  7,  8,  9, 10, 11, 12, 13, 14])"
      ]
     },
     "execution_count": 64,
     "metadata": {},
     "output_type": "execute_result"
    }
   ],
   "source": [
    "a = np.arange(15) #array of numbers 0 to 14\n",
    "a"
   ]
  },
  {
   "cell_type": "code",
   "execution_count": 65,
   "metadata": {},
   "outputs": [
    {
     "data": {
      "text/plain": [
       "dtype('int32')"
      ]
     },
     "execution_count": 65,
     "metadata": {},
     "output_type": "execute_result"
    }
   ],
   "source": [
    "a.dtype"
   ]
  },
  {
   "cell_type": "code",
   "execution_count": 66,
   "metadata": {},
   "outputs": [
    {
     "name": "stdout",
     "output_type": "stream",
     "text": [
      "[ 0  1  2  3  4  5  6  7  8  9 10 11 12 13 14]\n"
     ]
    }
   ],
   "source": [
    "print(a)"
   ]
  },
  {
   "cell_type": "code",
   "execution_count": 67,
   "metadata": {},
   "outputs": [
    {
     "name": "stdout",
     "output_type": "stream",
     "text": [
      "(15,)\n"
     ]
    }
   ],
   "source": [
    "print(a.shape)"
   ]
  },
  {
   "cell_type": "code",
   "execution_count": 68,
   "metadata": {},
   "outputs": [
    {
     "name": "stdout",
     "output_type": "stream",
     "text": [
      "1\n"
     ]
    }
   ],
   "source": [
    "print(a.ndim)"
   ]
  },
  {
   "cell_type": "code",
   "execution_count": 69,
   "metadata": {},
   "outputs": [
    {
     "name": "stdout",
     "output_type": "stream",
     "text": [
      "int32\n"
     ]
    }
   ],
   "source": [
    "print(a.dtype.name)"
   ]
  },
  {
   "cell_type": "code",
   "execution_count": 70,
   "metadata": {},
   "outputs": [
    {
     "name": "stdout",
     "output_type": "stream",
     "text": [
      "4\n"
     ]
    }
   ],
   "source": [
    "print(a.itemsize)"
   ]
  },
  {
   "cell_type": "code",
   "execution_count": 71,
   "metadata": {},
   "outputs": [
    {
     "name": "stdout",
     "output_type": "stream",
     "text": [
      "15\n"
     ]
    }
   ],
   "source": [
    "print(a.size)"
   ]
  },
  {
   "cell_type": "code",
   "execution_count": 72,
   "metadata": {},
   "outputs": [
    {
     "name": "stdout",
     "output_type": "stream",
     "text": [
      "<class 'numpy.ndarray'>\n"
     ]
    }
   ],
   "source": [
    "print(type(a))"
   ]
  },
  {
   "cell_type": "code",
   "execution_count": 73,
   "metadata": {},
   "outputs": [
    {
     "name": "stdout",
     "output_type": "stream",
     "text": [
      "[6 7 8]\n"
     ]
    }
   ],
   "source": [
    "b = np.array([6, 7, 8])\n",
    "print(b)"
   ]
  },
  {
   "cell_type": "code",
   "execution_count": 74,
   "metadata": {},
   "outputs": [
    {
     "name": "stdout",
     "output_type": "stream",
     "text": [
      "<class 'numpy.ndarray'>\n"
     ]
    }
   ],
   "source": [
    "print(type(b))"
   ]
  },
  {
   "cell_type": "code",
   "execution_count": 75,
   "metadata": {},
   "outputs": [
    {
     "name": "stdout",
     "output_type": "stream",
     "text": [
      "[[1.5 2.  3. ]\n",
      " [4.  5.  6. ]\n",
      " [7.1 7.2 7.3]]\n"
     ]
    }
   ],
   "source": [
    "c = np.array([(1.5, 2 ,3), (4, 5, 6), (7.1, 7.2, 7.3)])\n",
    "print(c)"
   ]
  },
  {
   "cell_type": "code",
   "execution_count": 76,
   "metadata": {},
   "outputs": [
    {
     "name": "stdout",
     "output_type": "stream",
     "text": [
      "(3, 3)\n"
     ]
    }
   ],
   "source": [
    "print(c.shape)"
   ]
  },
  {
   "cell_type": "code",
   "execution_count": 77,
   "metadata": {},
   "outputs": [
    {
     "data": {
      "text/plain": [
       "array([[0., 0., 0., 0.],\n",
       "       [0., 0., 0., 0.],\n",
       "       [0., 0., 0., 0.]])"
      ]
     },
     "execution_count": 77,
     "metadata": {},
     "output_type": "execute_result"
    }
   ],
   "source": [
    "np.zeros((3,4))"
   ]
  },
  {
   "cell_type": "code",
   "execution_count": 78,
   "metadata": {},
   "outputs": [
    {
     "name": "stdout",
     "output_type": "stream",
     "text": [
      "[[[1 1 1 1]\n",
      "  [1 1 1 1]\n",
      "  [1 1 1 1]]\n",
      "\n",
      " [[1 1 1 1]\n",
      "  [1 1 1 1]\n",
      "  [1 1 1 1]]]\n"
     ]
    }
   ],
   "source": [
    "test = np.ones((2,3,4), dtype=np.int16)\n",
    "print(test)"
   ]
  },
  {
   "cell_type": "code",
   "execution_count": 79,
   "metadata": {},
   "outputs": [
    {
     "data": {
      "text/plain": [
       "array([[0.66954076, 0.32580672],\n",
       "       [0.76972359, 0.81617356],\n",
       "       [0.15003408, 0.73422196]])"
      ]
     },
     "execution_count": 79,
     "metadata": {},
     "output_type": "execute_result"
    }
   ],
   "source": [
    "np.random.rand(3,2)"
   ]
  },
  {
   "cell_type": "code",
   "execution_count": 80,
   "metadata": {},
   "outputs": [
    {
     "data": {
      "text/plain": [
       "array([[0.66954076, 0.32580672, 0.76972359],\n",
       "       [0.81617356, 0.15003408, 0.73422196]])"
      ]
     },
     "execution_count": 80,
     "metadata": {},
     "output_type": "execute_result"
    }
   ],
   "source": [
    "np.empty((2,3)) # uninitialized, output may vary"
   ]
  },
  {
   "cell_type": "code",
   "execution_count": 81,
   "metadata": {},
   "outputs": [
    {
     "data": {
      "text/plain": [
       "array([10, 15, 20, 25])"
      ]
     },
     "execution_count": 81,
     "metadata": {},
     "output_type": "execute_result"
    }
   ],
   "source": [
    "np.arange( 10, 30, 5 ) # array from 10 to 30 in increments of 5"
   ]
  },
  {
   "cell_type": "code",
   "execution_count": 82,
   "metadata": {},
   "outputs": [
    {
     "name": "stdout",
     "output_type": "stream",
     "text": [
      "[[0.48962845 0.14493016 0.89306394 0.10025671]\n",
      " [0.80704271 0.56482382 0.36917043 0.99659388]\n",
      " [0.91875917 0.27456516 0.52459408 0.68996906]\n",
      " [0.02774014 0.95046474 0.89763037 0.53412077]]\n"
     ]
    }
   ],
   "source": [
    "example = np.random.rand(4,4)\n",
    "print(example)"
   ]
  },
  {
   "cell_type": "code",
   "execution_count": 83,
   "metadata": {},
   "outputs": [
    {
     "data": {
      "text/plain": [
       "array([[4.89628451, 1.44930161, 8.9306394 , 1.00256713],\n",
       "       [8.07042711, 5.6482382 , 3.69170433, 9.96593881],\n",
       "       [9.1875917 , 2.74565163, 5.24594085, 6.89969057],\n",
       "       [0.2774014 , 9.50464742, 8.97630366, 5.34120774]])"
      ]
     },
     "execution_count": 83,
     "metadata": {},
     "output_type": "execute_result"
    }
   ],
   "source": [
    "example*10"
   ]
  },
  {
   "cell_type": "code",
   "execution_count": 84,
   "metadata": {},
   "outputs": [
    {
     "name": "stdout",
     "output_type": "stream",
     "text": [
      "[0.48962845 0.14493016 0.89306394 0.10025671 0.80704271 0.56482382\n",
      " 0.36917043 0.99659388 0.91875917 0.27456516 0.52459408 0.68996906\n",
      " 0.02774014 0.95046474 0.89763037 0.53412077]\n"
     ]
    }
   ],
   "source": [
    "example_flat = example.ravel()  # returns the array, flattened\n",
    "print(example_flat)"
   ]
  },
  {
   "cell_type": "code",
   "execution_count": 85,
   "metadata": {},
   "outputs": [
    {
     "data": {
      "text/plain": [
       "array([[0.48962845, 0.14493016, 0.89306394, 0.10025671, 0.80704271,\n",
       "        0.56482382, 0.36917043, 0.99659388],\n",
       "       [0.91875917, 0.27456516, 0.52459408, 0.68996906, 0.02774014,\n",
       "        0.95046474, 0.89763037, 0.53412077]])"
      ]
     },
     "execution_count": 85,
     "metadata": {},
     "output_type": "execute_result"
    }
   ],
   "source": [
    "example_flat.reshape(2,8) # returns the array with a modified shape 2x8"
   ]
  },
  {
   "cell_type": "code",
   "execution_count": 86,
   "metadata": {},
   "outputs": [
    {
     "data": {
      "text/plain": [
       "array([[0.48962845, 0.14493016, 0.89306394, 0.10025671],\n",
       "       [0.80704271, 0.56482382, 0.36917043, 0.99659388],\n",
       "       [0.91875917, 0.27456516, 0.52459408, 0.68996906],\n",
       "       [0.02774014, 0.95046474, 0.89763037, 0.53412077]])"
      ]
     },
     "execution_count": 86,
     "metadata": {},
     "output_type": "execute_result"
    }
   ],
   "source": [
    "example_flat.reshape(4,4) # returns the array back to original shape"
   ]
  },
  {
   "cell_type": "code",
   "execution_count": 87,
   "metadata": {},
   "outputs": [
    {
     "name": "stdout",
     "output_type": "stream",
     "text": [
      "[[[0.26978195 0.24028277 0.46650508 0.88580427 0.2087087  0.62933597]\n",
      "  [0.29941482 0.23231773 0.27231364 0.97336605 0.61740401 0.88880069]\n",
      "  [0.84591224 0.92732224 0.57661136 0.47766243 0.44960058 0.4044761 ]]\n",
      "\n",
      " [[0.4590051  0.86545091 0.99543367 0.86176366 0.75619558 0.86523225]\n",
      "  [0.03686272 0.01175915 0.1286083  0.46772419 0.28945186 0.00828485]\n",
      "  [0.7129471  0.38885938 0.88937553 0.61447468 0.82241594 0.56065628]]]\n"
     ]
    }
   ],
   "source": [
    "test = np.random.rand(2,3,6)\n",
    "print(test)"
   ]
  },
  {
   "cell_type": "code",
   "execution_count": 88,
   "metadata": {},
   "outputs": [
    {
     "name": "stdout",
     "output_type": "stream",
     "text": [
      "[0.26978195 0.24028277 0.46650508 0.88580427 0.2087087  0.62933597\n",
      " 0.29941482 0.23231773 0.27231364 0.97336605 0.61740401 0.88880069\n",
      " 0.84591224 0.92732224 0.57661136 0.47766243 0.44960058 0.4044761\n",
      " 0.4590051  0.86545091 0.99543367 0.86176366 0.75619558 0.86523225\n",
      " 0.03686272 0.01175915 0.1286083  0.46772419 0.28945186 0.00828485\n",
      " 0.7129471  0.38885938 0.88937553 0.61447468 0.82241594 0.56065628]\n"
     ]
    }
   ],
   "source": [
    "print(test.ravel())"
   ]
  },
  {
   "cell_type": "code",
   "execution_count": 89,
   "metadata": {},
   "outputs": [
    {
     "name": "stdout",
     "output_type": "stream",
     "text": [
      "[[0.48962845 0.80704271 0.91875917 0.02774014]\n",
      " [0.14493016 0.56482382 0.27456516 0.95046474]\n",
      " [0.89306394 0.36917043 0.52459408 0.89763037]\n",
      " [0.10025671 0.99659388 0.68996906 0.53412077]]\n"
     ]
    }
   ],
   "source": [
    "print(example.transpose())"
   ]
  },
  {
   "cell_type": "code",
   "execution_count": 90,
   "metadata": {},
   "outputs": [
    {
     "name": "stdout",
     "output_type": "stream",
     "text": [
      "The Zen of Python, by Tim Peters\n",
      "\n",
      "Beautiful is better than ugly.\n",
      "Explicit is better than implicit.\n",
      "Simple is better than complex.\n",
      "Complex is better than complicated.\n",
      "Flat is better than nested.\n",
      "Sparse is better than dense.\n",
      "Readability counts.\n",
      "Special cases aren't special enough to break the rules.\n",
      "Although practicality beats purity.\n",
      "Errors should never pass silently.\n",
      "Unless explicitly silenced.\n",
      "In the face of ambiguity, refuse the temptation to guess.\n",
      "There should be one-- and preferably only one --obvious way to do it.\n",
      "Although that way may not be obvious at first unless you're Dutch.\n",
      "Now is better than never.\n",
      "Although never is often better than *right* now.\n",
      "If the implementation is hard to explain, it's a bad idea.\n",
      "If the implementation is easy to explain, it may be a good idea.\n",
      "Namespaces are one honking great idea -- let's do more of those!\n"
     ]
    }
   ],
   "source": [
    "import this"
   ]
  }
 ],
 "metadata": {
  "colab": {
   "collapsed_sections": []
  },
  "interpreter": {
   "hash": "31f2aee4e71d21fbe5cf8b01ff0e069b9275f58929596ceb00d14d90e3e16cd6"
  },
  "kernelspec": {
   "display_name": "Python 3 (ipykernel)",
   "language": "python",
   "name": "python3"
  },
  "language_info": {
   "codemirror_mode": {
    "name": "ipython",
    "version": 3
   },
   "file_extension": ".py",
   "mimetype": "text/x-python",
   "name": "python",
   "nbconvert_exporter": "python",
   "pygments_lexer": "ipython3",
   "version": "3.7.12"
  }
 },
 "nbformat": 4,
 "nbformat_minor": 2
}