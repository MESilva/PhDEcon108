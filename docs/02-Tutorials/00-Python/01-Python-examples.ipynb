{
 "cells": [
  {
   "cell_type": "markdown",
   "id": "7c969cc3-4af9-48aa-8606-39ba7ff4eac2",
   "metadata": {},
   "source": [
    "# Python examples\n",
    "\n",
    "In this notebook, I show several different ways to estimate a linear regression in Python"
   ]
  },
  {
   "cell_type": "markdown",
   "id": "e5c1636a-2a74-43b1-af54-e3c22794f58c",
   "metadata": {},
   "source": [
    "## Linear regression"
   ]
  },
  {
   "cell_type": "markdown",
   "id": "c6b9cd0a-f4b1-4014-9606-c94b98c40743",
   "metadata": {},
   "source": [
    "### Pure python approach\n",
    "\n",
    "see formula for OLS [here](https://en.wikipedia.org/wiki/Simple_linear_regression)"
   ]
  },
  {
   "cell_type": "code",
   "execution_count": 12,
   "id": "9bcd530f-ebc2-4d33-93b4-5bcff59c07b8",
   "metadata": {},
   "outputs": [],
   "source": [
    "# x and y data as python lists\n",
    "\n",
    "x = [3,4,5,6,7,8]\n",
    "y = [0,7,17,26,35,45]\n",
    "\n",
    "n=len(x) # length of x"
   ]
  },
  {
   "cell_type": "code",
   "execution_count": 12,
   "id": "6fe0c551-a413-4301-9f2a-8725ab81b4eb",
   "metadata": {},
   "outputs": [],
   "source": [
    "# an example of `assert` statement, see what happens when you add another value in either x or y above\n",
    "assert len(x) == len(y), f'x and y are not of equal length (len(x)={len(x)}, len(y)={len(y)})'"
   ]
  },
  {
   "cell_type": "code",
   "execution_count": 12,
   "id": "22dc1cf0-eae0-49be-8f6a-f2a015f8ced8",
   "metadata": {},
   "outputs": [],
   "source": [
    "# initialize all accumulators we need (check the expressions for a and b in the link above )\n",
    "sumx = sumxy = sumx2 = sumy = 0\n",
    "for i in range(n):\n",
    "    sumx += x[i]\n",
    "    sumx2 += x[i]**2\n",
    "    sumy += y[i]\n",
    "    sumxy += x[i]*y[i]\n",
    "    "
   ]
  },
  {
   "cell_type": "code",
   "execution_count": 12,
   "id": "6271e0e8-dc41-4cad-9b95-77b57cb62ff0",
   "metadata": {},
   "outputs": [],
   "source": [
    "# compute averages    \n",
    "xm = sumx/n\n",
    "ym = sumy/n"
   ]
  },
  {
   "cell_type": "code",
   "execution_count": 12,
   "id": "ac6628a1-1ca8-4157-8196-0ef323b0252e",
   "metadata": {},
   "outputs": [],
   "source": [
    "# compute bhat and ahat\n",
    "bhat = (sumxy - xm*sumy - ym*sumx + n*xm*ym)/(sumx2 - n*xm**2)\n",
    "ahat = ym - (bhat*xm)"
   ]
  },
  {
   "cell_type": "code",
   "execution_count": 13,
   "id": "4a6b4628-cb20-4052-bdb4-03db0dd842cb",
   "metadata": {},
   "outputs": [
    {
     "name": "stdout",
     "output_type": "stream",
     "text": [
      "\n",
      "the estimate of ahat is -28.3047619047619,\n",
      "the estimate of bhat is 9.085714285714285\n",
      "          \n",
      "\n",
      "the estimate of ahat is -28.30,\n",
      "the estimate of bhat is 9.09\n",
      "          \n"
     ]
    }
   ],
   "source": [
    "# an example of a print statement using a multiline f-string\n",
    "print(f'''\n",
    "the estimate of ahat is {ahat},\n",
    "the estimate of bhat is {bhat}\n",
    "          ''')\n",
    "# add formatting to round the numbers\n",
    "print(f'''\n",
    "the estimate of ahat is {ahat:.2f},\n",
    "the estimate of bhat is {bhat:.2f}\n",
    "          ''')"
   ]
  },
  {
   "cell_type": "markdown",
   "id": "9866ba3e-5eb6-4dd5-b798-4ce7a49420bf",
   "metadata": {},
   "source": [
    "### Using numpy to vectorize the loop"
   ]
  },
  {
   "cell_type": "code",
   "execution_count": 2,
   "id": "41796fde-3373-4fec-b010-268a9ca8123a",
   "metadata": {},
   "outputs": [],
   "source": [
    "# import numpy \n",
    "import numpy as np"
   ]
  },
  {
   "cell_type": "code",
   "execution_count": 3,
   "id": "6f6daa3f-a36b-4678-8e27-7c1f834748f0",
   "metadata": {},
   "outputs": [],
   "source": [
    "# transform x and y from lists to numpy arrays\n",
    "xnp = np.array(x)\n",
    "ynp = np.array(y)"
   ]
  },
  {
   "cell_type": "code",
   "execution_count": 4,
   "id": "52997cc1-07f1-4051-9b2c-14f2c5457180",
   "metadata": {},
   "outputs": [],
   "source": [
    "# version 1 - replicating the steps in the pure python version\n",
    "\n",
    "sumx = np.sum(xnp) \n",
    "sumxy = np.sum(xnp*ynp)\n",
    "sumx2 = np.sum(xnp**2)\n",
    "sumy = np.sum(ynp)\n",
    "    \n",
    "xm = sumx/n\n",
    "ym = sumy/n\n",
    "\n",
    "# compute bhat and ahat\n",
    "bhat_np = (sumxy - xm*sumy)/(sumx2 - n*xm**2)\n",
    "ahat_np = ym - (bhat_np*xm)\n",
    "\n",
    "assert ahat_np == ahat\n",
    "assert bhat_np == bhat"
   ]
  },
  {
   "cell_type": "code",
   "execution_count": 5,
   "id": "a11124cf-c92f-49a8-9a71-3f1d64b79c19",
   "metadata": {},
   "outputs": [],
   "source": [
    "# version 2 - replace the summation in the OLS formula for beta with dot products \n",
    "xm = np.mean(xnp)\n",
    "ym = np.mean(ynp)\n",
    "\n",
    "bhat_np2 = (xnp-xm)@(ynp-ym)/((xnp-xm)@(xnp-xm)) \n",
    "ahat_np2 = ym - bhat_np2*xm # same as above\n",
    "\n",
    "assert ahat_np2 == ahat_np\n",
    "assert bhat_np2 == bhat_np"
   ]
  },
  {
   "cell_type": "markdown",
   "id": "38bb0529-0bdf-457b-ac4d-f0a0a800eaaf",
   "metadata": {},
   "source": [
    "### Using numpy and matrix algebra approach\n",
    "\n",
    "* (see matrix formulation for OLS [here](https://en.wikipedia.org/wiki/Ordinary_least_squares#Matrix/vector_formulation), and explanation of **design matrix** [here](https://en.wikipedia.org/wiki/Design_matrix))"
   ]
  },
  {
   "cell_type": "code",
   "execution_count": 6,
   "id": "f3025373-8b3a-40a3-ac00-d5deda4a59ae",
   "metadata": {},
   "outputs": [
    {
     "name": "stdout",
     "output_type": "stream",
     "text": [
      "Y_mat is:\n",
      " [[ 0]\n",
      " [ 7]\n",
      " [17]\n",
      " [26]\n",
      " [35]\n",
      " [45]]\n",
      "\n",
      "\n",
      "X_mat is:\n",
      " [[1. 3.]\n",
      " [1. 4.]\n",
      " [1. 5.]\n",
      " [1. 6.]\n",
      " [1. 7.]\n",
      " [1. 8.]]\n"
     ]
    }
   ],
   "source": [
    "# create design matrix and reshape y\n",
    "X_mat = np.hstack((np.ones((n,1)), xnp.reshape(-1,1)))\n",
    "Y_mat = ynp.reshape((-1,1)) # make y into a column vector\n",
    "\n",
    "\n",
    "print(f'Y_mat is:\\n {Y_mat}')\n",
    "print(f'\\n\\nX_mat is:\\n {X_mat}')"
   ]
  },
  {
   "cell_type": "code",
   "execution_count": 7,
   "id": "3fc3d301-be26-4ce8-8b25-58718e3a1c99",
   "metadata": {},
   "outputs": [
    {
     "name": "stdout",
     "output_type": "stream",
     "text": [
      "Bhat is:\n",
      " [[-28.3047619 ]\n",
      " [  9.08571429]]\n"
     ]
    }
   ],
   "source": [
    "# compute Bhat = [ahat, bhat]\n",
    "Bhat = np.linalg.inv(X_mat.T@X_mat) @ (X_mat.T@ Y_mat)\n",
    "print(f'Bhat is:\\n {Bhat}')"
   ]
  },
  {
   "cell_type": "markdown",
   "id": "641a52a2-8902-4042-8286-e3ece72ddfe4",
   "metadata": {},
   "source": [
    "* check the values are (almost) equal to the ones found above (see [numpy doc](https://numpy.org/doc/stable/reference/routines.testing.html) for more details on how to compare numpy arrays)"
   ]
  },
  {
   "cell_type": "code",
   "execution_count": 8,
   "id": "07084b8c-24e6-4853-91ae-5208582d280f",
   "metadata": {},
   "outputs": [],
   "source": [
    "np.testing.assert_allclose(Bhat, \n",
    "                           np.array([ahat_np, bhat_np]).reshape(-1,1))"
   ]
  },
  {
   "cell_type": "markdown",
   "id": "c2a27da5-3a6f-4fa1-b738-742cb4ce0660",
   "metadata": {},
   "source": [
    "Bhat above solves the following matrix equation: \n",
    "\n",
    "$$ X'Y = (X'X) \\mathbf{\\beta} => \\mathbf{\\beta} = (X'X)^{-1} (X'Y) $$\n",
    "\n",
    "numpy has a function for solving such equations"
   ]
  },
  {
   "cell_type": "code",
   "execution_count": 9,
   "id": "98efe393-a005-47aa-a92b-d017ceb628f0",
   "metadata": {},
   "outputs": [
    {
     "data": {
      "text/plain": [
       "array([[-28.3047619 ],\n",
       "       [  9.08571429]])"
      ]
     },
     "execution_count": 9,
     "metadata": {},
     "output_type": "execute_result"
    }
   ],
   "source": [
    "XX = X_mat.T @ X_mat\n",
    "XY = X_mat.T @ Y_mat\n",
    "\n",
    "Bhat2 = np.linalg.solve(XX, XY)\n",
    "Bhat2"
   ]
  },
  {
   "cell_type": "markdown",
   "id": "55ab58e3-968a-4a49-890b-902eb0dd4552",
   "metadata": {},
   "source": [
    "* numpy also has a dedicated function for solving least squares problems (see [numpy doc](https://numpy.org/doc/stable/reference/generated/numpy.linalg.lstsq.html?highlight=least%20squares) for details)\n",
    "* in addition to the solution, the function returns the sum of squared residuals, the rank and singular values of the design matrix. If we are not interested in those outputs, it is conventional to use `_` for each one\n",
    "* alternatively, we can get the full output and then keep the first element, which is the parameter estimates"
   ]
  },
  {
   "cell_type": "code",
   "execution_count": 10,
   "id": "ef836435-a08d-4111-9b00-25a81cf25e30",
   "metadata": {},
   "outputs": [],
   "source": [
    "Bhat3, _, _, _ = np.linalg.lstsq(X_mat, Y_mat, rcond=None)"
   ]
  },
  {
   "cell_type": "code",
   "execution_count": 11,
   "id": "f60fc070-89a3-4c06-9797-4dd4ff94f125",
   "metadata": {},
   "outputs": [
    {
     "data": {
      "text/plain": [
       "array([[-28.3047619 ],\n",
       "       [  9.08571429]])"
      ]
     },
     "execution_count": 11,
     "metadata": {},
     "output_type": "execute_result"
    }
   ],
   "source": [
    "output =  np.linalg.lstsq(X_mat, Y_mat, rcond=None)\n",
    "Bhat3 = output[0]\n",
    "Bhat3"
   ]
  },
  {
   "cell_type": "code",
   "execution_count": null,
   "id": "a3c9c77f-74b7-4b0f-b1d5-4db8e14083e4",
   "metadata": {},
   "outputs": [],
   "source": []
  },
  {
   "cell_type": "markdown",
   "id": "5e063062-ac83-4f3f-9c81-7d93a2d6ba8c",
   "metadata": {},
   "source": [
    "### Conclusion\n",
    "\n",
    "* There a many other ways to get OLS in Python\n",
    "    * `linear_regression` in the statistics module of the Python standard library (see [statistics doc](https://docs.python.org/3/library/statistics.html#statistics.linear_regression))\n",
    "    * `scipy.stats.linregress` from the scipy library (see [scipy doc](https://docs.scipy.org/doc/scipy/reference/generated/scipy.stats.linregress.html))\n",
    "    * `OLS` from the statsmodels library (see [statsmodels doc](https://www.statsmodels.org/dev/generated/statsmodels.regression.linear_model.OLS.html))\n",
    "    * and so on (with other libraries which we are not going to use in this course)"
   ]
  },
  {
   "cell_type": "code",
   "execution_count": null,
   "id": "9047d400-7b06-4d3d-8be7-cd9a85205710",
   "metadata": {},
   "outputs": [],
   "source": []
  }
 ],
 "metadata": {
  "kernelspec": {
   "display_name": "Python 3 (ipykernel)",
   "language": "python",
   "name": "python3"
  },
  "language_info": {
   "codemirror_mode": {
    "name": "ipython",
    "version": 3
   },
   "file_extension": ".py",
   "mimetype": "text/x-python",
   "name": "python",
   "nbconvert_exporter": "python",
   "pygments_lexer": "ipython3",
   "version": "3.10.1"
  }
 },
 "nbformat": 4,
 "nbformat_minor": 5
}
