{
 "cells": [
  {
   "cell_type": "markdown",
   "id": "a9206f0b-deb7-497f-81db-7657cb380479",
   "metadata": {},
   "source": [
    "# Python Examples\n",
    "In this notebook, we show different ways to estimate a linear regression in Python"
   ]
  },
  {
   "cell_type": "markdown",
   "id": "16d38677-a6dd-4bfc-82d7-db7a747aaeea",
   "metadata": {},
   "source": [
    "## Monte Carlo Simulations"
   ]
  },
  {
   "cell_type": "code",
   "execution_count": 1,
   "id": "3ca7015c-9520-4293-9c1f-63e1e3b59d1a",
   "metadata": {},
   "outputs": [],
   "source": [
    "import numpy as np\n",
    "import scipy.stats as stats"
   ]
  },
  {
   "cell_type": "code",
   "execution_count": 2,
   "id": "85fd8fba-9901-47eb-9bbd-322838f828f4",
   "metadata": {},
   "outputs": [],
   "source": [
    "# Set the random seed:\n",
    "np.random.seed(666)"
   ]
  },
  {
   "cell_type": "code",
   "execution_count": 3,
   "id": "3624f59e-3288-4151-8c8f-c2f642e831af",
   "metadata": {},
   "outputs": [],
   "source": [
    "n = 1000"
   ]
  },
  {
   "cell_type": "code",
   "execution_count": 4,
   "id": "267e713f-b40a-457b-ac7e-ee2d7365d3f8",
   "metadata": {},
   "outputs": [
    {
     "name": "stdout",
     "output_type": "stream",
     "text": [
      "Average for Sample 1: 9.981349044785626\n",
      "\n"
     ]
    }
   ],
   "source": [
    "# Draw a sample given the population parameters:\n",
    "sample1 = stats.norm.rvs(10, 2, size = n)\n",
    "\n",
    "# Estimate the population mean with the sample average:\n",
    "estimate1 = np.mean(sample1)\n",
    "print(f'Average for Sample 1: {estimate1}\\n')"
   ]
  },
  {
   "cell_type": "code",
   "execution_count": 5,
   "id": "cb915094-aa33-4c86-be12-5122f1bb8d11",
   "metadata": {},
   "outputs": [
    {
     "name": "stdout",
     "output_type": "stream",
     "text": [
      "Average for Sample 1: 9.948401005107451\n",
      "\n"
     ]
    }
   ],
   "source": [
    "# Draw a different sample given the population parameters:\n",
    "sample2 = stats.norm.rvs(10, 2, size = n)\n",
    "\n",
    "# Estimate the population mean with the sample average:\n",
    "estimate2 = np.mean(sample2)\n",
    "print(f'Average for Sample 1: {estimate2}\\n')"
   ]
  },
  {
   "cell_type": "code",
   "execution_count": 6,
   "id": "1bc2173f-2c55-4f2e-89ff-965ecf7ff87d",
   "metadata": {},
   "outputs": [
    {
     "name": "stdout",
     "output_type": "stream",
     "text": [
      "Average for Sample 1: 9.88141695046567\n",
      "\n"
     ]
    }
   ],
   "source": [
    "# Draw a sample given the population parameters:\n",
    "sample3 = stats.norm.rvs(10, 2, size = n)\n",
    "\n",
    "# Estimate the population mean with the sample average:\n",
    "estimate3 = np.mean(sample3)\n",
    "print(f'Average for Sample 1: {estimate3}\\n')"
   ]
  },
  {
   "cell_type": "code",
   "execution_count": 7,
   "id": "64e2c6ee-e6ba-4352-af5e-e265f6a5bdee",
   "metadata": {},
   "outputs": [],
   "source": [
    "# Initialize ybar to an array of length r = 10,000 to later store results:\n",
    "r = 10000\n",
    "ybar = np.empty(r)"
   ]
  },
  {
   "cell_type": "code",
   "execution_count": 8,
   "id": "d9d463e5-d0e0-473b-b9ee-20e81a082763",
   "metadata": {},
   "outputs": [],
   "source": [
    "# Creat for loop to repeat r times:\n",
    "for j in range(r):\n",
    "    # draw a sample and store the sample mean in position j = 0, 1, ... of ybar:\n",
    "    sample = stats.norm.rvs(10, 2, size = n)\n",
    "    ybar[j] = np.mean(sample)"
   ]
  },
  {
   "cell_type": "code",
   "execution_count": 9,
   "id": "b9e841bc-6a83-405f-b7a4-99c8f7e220a1",
   "metadata": {},
   "outputs": [
    {
     "name": "stdout",
     "output_type": "stream",
     "text": [
      "First 20 values in ybar: \n",
      "[ 9.98969778  9.80931051 10.04713906 10.11525379  9.96112026  9.95794223\n",
      "  9.96358944  9.90196084 10.02521318  9.98038532 10.01644422 10.06070947\n",
      "  9.90589915 10.04040814  9.9620589   9.9386069   9.92343191  9.97252287\n",
      " 10.04330186]\n",
      "\n"
     ]
    }
   ],
   "source": [
    "# Check the output of ybar\n",
    "print(f'First 20 values in ybar: \\n{ybar[0:19]}\\n')"
   ]
  },
  {
   "cell_type": "code",
   "execution_count": 10,
   "id": "b7e8d391-6afb-4c2e-98ab-528f5c9133fd",
   "metadata": {},
   "outputs": [
    {
     "name": "stdout",
     "output_type": "stream",
     "text": [
      "Average of ybar: 10.000295280771603\n",
      "\n"
     ]
    }
   ],
   "source": [
    "# Check the average of ybar\n",
    "est_avg = np.mean(ybar)\n",
    "print(f'Average of ybar: {est_avg}\\n')"
   ]
  },
  {
   "cell_type": "code",
   "execution_count": 11,
   "id": "d8b1e551-8b8e-4278-8995-9a74c1c62faa",
   "metadata": {},
   "outputs": [
    {
     "name": "stdout",
     "output_type": "stream",
     "text": [
      "Variance of ybar: 0.003964898732513067\n",
      "\n"
     ]
    }
   ],
   "source": [
    "# Check the variance of ybar\n",
    "est_var = np.var(ybar, ddof = 1)\n",
    "print(f'Variance of ybar: {est_var}\\n')"
   ]
  },
  {
   "cell_type": "code",
   "execution_count": 12,
   "id": "1991d777-490e-435d-a8a4-e66c85468bb9",
   "metadata": {},
   "outputs": [],
   "source": [
    "# Import module for visualization\n",
    "import statsmodels.api as sm\n",
    "import matplotlib.pyplot as plt"
   ]
  },
  {
   "cell_type": "code",
   "execution_count": 13,
   "id": "56a2db1f-e098-4462-ae3c-cddaaf90a202",
   "metadata": {},
   "outputs": [
    {
     "data": {
      "text/plain": [
       "<statsmodels.nonparametric.kde.KDEUnivariate at 0x17beec7f790>"
      ]
     },
     "execution_count": 13,
     "metadata": {},
     "output_type": "execute_result"
    }
   ],
   "source": [
    "# simulated density:\n",
    "kde = sm.nonparametric.KDEUnivariate(ybar)\n",
    "kde.fit()"
   ]
  },
  {
   "cell_type": "code",
   "execution_count": 14,
   "id": "7a95ae7e-d886-4098-a20b-2e0b58c48805",
   "metadata": {},
   "outputs": [],
   "source": [
    "# normal density:\n",
    "x_range = np.linspace(9, 11)\n",
    "y = stats.norm.pdf(x_range, 10, np.sqrt(0.04))"
   ]
  },
  {
   "cell_type": "code",
   "execution_count": 15,
   "id": "66a1ebd4-ff61-4671-916d-c7182b013ba6",
   "metadata": {},
   "outputs": [
    {
     "data": {
      "image/png": "[encoded data removed]",
      "text/plain": [
       "<Figure size 432x288 with 1 Axes>"
      ]
     },
     "metadata": {
      "needs_background": "light"
     },
     "output_type": "display_data"
    }
   ],
   "source": [
    "# create graph:\n",
    "plt.plot(kde.support, kde.density, color='black', label='ybar')\n",
    "plt.plot(x_range, y, linestyle='--', color='black', label='normal distribution')\n",
    "plt.ylabel('density')\n",
    "plt.xlabel('ybar')\n",
    "plt.legend()\n",
    "#plt.savefig('images/simulated-density.png')\n",
    "plt.show()\n",
    "plt.close()"
   ]
  },
  {
   "cell_type": "code",
   "execution_count": 16,
   "id": "12bd7b7b-332e-465a-a77d-2d46513b7d82",
   "metadata": {},
   "outputs": [],
   "source": [
    "# Set the random seed:\n",
    "np.random.seed(666)\n",
    "\n",
    "# Set sample size:\n",
    "n = 100\n",
    "\n",
    "# Set MC simulations\n",
    "r = 10000"
   ]
  },
  {
   "cell_type": "code",
   "execution_count": 17,
   "id": "fbea0c0e-f184-498a-9574-c4809ff98625",
   "metadata": {},
   "outputs": [],
   "source": [
    "# Initialize arrays to later store results:\n",
    "CIlower = np.empty(r)\n",
    "CIupper = np.empty(r)\n",
    "pvalue1 = np.empty(r)\n",
    "pvalue2 = np.empty(r)"
   ]
  },
  {
   "cell_type": "code",
   "execution_count": 18,
   "id": "0d575ca5-029e-48de-b11d-96f5aa3aae17",
   "metadata": {},
   "outputs": [
    {
     "name": "stdout",
     "output_type": "stream",
     "text": [
      "Reject the True Null Hypothesis: 534\n",
      "\n",
      "Reject the False Null Hypothesis: 9466\n",
      "\n",
      "Reject the True Null Hypothesis: 6891\n",
      "\n",
      "Reject the False Null Hypothesis: 3109\n",
      "\n"
     ]
    }
   ],
   "source": [
    "# Create for loop repeat r times:\n",
    "for j in range(r):\n",
    "    # draw a sample:\n",
    "    sample = stats.norm.rvs(10, 2, size = n)\n",
    "    sample_mean = np.mean(sample)\n",
    "    sample_sd = np.std(sample, ddof = 1)\n",
    "    \n",
    "    # Test the correct null hypothesis mu = 10:\n",
    "    testres1 = stats.ttest_1samp(sample, popmean = 10)\n",
    "    pvalue1[j] = testres1.pvalue\n",
    "    cv = stats.t.ppf(0.975, df = n - 1)\n",
    "    CIlower[j] = sample_mean - cv * sample_sd / np.sqrt(n)\n",
    "    CIupper[j] = sample_mean + cv * sample_sd / np.sqrt(n)\n",
    "    \n",
    "    # Test the incorrect null hypothesis mu = 9.5:\n",
    "    testres2 = stats.ttest_1samp(sample, popmean = 9.5)\n",
    "    pvalue2[j] = testres2.pvalue\n",
    "\n",
    "# Test result as logical value:\n",
    "reject1 = pvalue1 <= 0.05\n",
    "count1_true = np.count_nonzero(reject1)\n",
    "count1_false = r - count1_true\n",
    "print(f'Reject the True Null Hypothesis: {count1_true}\\n')\n",
    "print(f'Reject the False Null Hypothesis: {count1_false}\\n')\n",
    "\n",
    "reject2 = pvalue2 <= 0.05\n",
    "count2_true = np.count_nonzero(reject2)\n",
    "count2_false = r - count2_true\n",
    "print(f'Reject the True Null Hypothesis: {count2_true}\\n')\n",
    "print(f'Reject the False Null Hypothesis: {count2_false}\\n')"
   ]
  },
  {
   "cell_type": "code",
   "execution_count": 19,
   "id": "958c86d7-afc9-4c65-b31f-d1cbc8833b0c",
   "metadata": {},
   "outputs": [
    {
     "data": {
      "image/png": "[encoded data removed]",
      "text/plain": [
       "<Figure size 216x360 with 1 Axes>"
      ]
     },
     "metadata": {
      "needs_background": "light"
     },
     "output_type": "display_data"
    }
   ],
   "source": [
    "# Reject the correct null \n",
    "plt.figure(figsize=(3, 5))  # set figure ratio\n",
    "plt.ylim(0, 101)\n",
    "plt.xlim(9, 11)\n",
    "for j in range(1, 101):\n",
    "    if 10 > CIlower[j] and 10 < CIupper[j]:\n",
    "        plt.plot([CIlower[j], CIupper[j]], [j, j], linestyle='-', color='grey')\n",
    "    else:\n",
    "        plt.plot([CIlower[j], CIupper[j]], [j, j], linestyle='-', color='black')\n",
    "plt.axvline(10, linestyle='--', color='black', linewidth=0.5)\n",
    "plt.ylabel('Sample No.')\n",
    "#plt.savefig('images/simulation-inference-figure1.png')\n",
    "plt.show()\n",
    "plt.close()"
   ]
  },
  {
   "cell_type": "code",
   "execution_count": 20,
   "id": "c597916d-81ae-4ff1-84f8-022fbddb1200",
   "metadata": {},
   "outputs": [
    {
     "data": {
      "image/png": "[encoded data removed]",
      "text/plain": [
       "<Figure size 216x360 with 1 Axes>"
      ]
     },
     "metadata": {
      "needs_background": "light"
     },
     "output_type": "display_data"
    }
   ],
   "source": [
    "# Reject the incorrect null\n",
    "plt.figure(figsize=(3, 5))  # set figure ratio\n",
    "plt.ylim(0, 101)\n",
    "plt.xlim(9, 11)\n",
    "for j in range(1, 101):\n",
    "    if 9.5 > CIlower[j] and 9.5 < CIupper[j]:\n",
    "        plt.plot([CIlower[j], CIupper[j]], [j, j], linestyle='-', color='grey')\n",
    "    else:\n",
    "        plt.plot([CIlower[j], CIupper[j]], [j, j], linestyle='-', color='black')\n",
    "plt.axvline(9.5, linestyle='--', color='black', linewidth=0.5)\n",
    "plt.ylabel('Sample No.')\n",
    "#plt.savefig('images/simulation-inference-figure2.png')\n",
    "plt.show()\n",
    "plt.close()"
   ]
  }
 ],
 "metadata": {
  "kernelspec": {
   "display_name": "Python 3 (ipykernel)",
   "language": "python",
   "name": "python3"
  },
  "language_info": {
   "codemirror_mode": {
    "name": "ipython",
    "version": 3
   },
   "file_extension": ".py",
   "mimetype": "text/x-python",
   "name": "python",
   "nbconvert_exporter": "python",
   "pygments_lexer": "ipython3",
   "version": "3.10.1"
  }
 },
 "nbformat": 4,
 "nbformat_minor": 5
}
