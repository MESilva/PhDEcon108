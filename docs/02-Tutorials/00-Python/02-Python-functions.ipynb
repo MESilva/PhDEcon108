{
 "cells": [
  {
   "cell_type": "markdown",
   "id": "c252c8b6-fb2f-4ae6-831b-f38cc5ae1214",
   "metadata": {},
   "source": [
    "# Python functions"
   ]
  },
  {
   "cell_type": "markdown",
   "id": "52a7fc7c-2d65-420a-9fe8-00ce526dbda9",
   "metadata": {},
   "source": [
    "## Define a function\n",
    "\n",
    "The keyword `def` is used to define a function. Note the `:` after the function name, and the indentation in the function body"
   ]
  },
  {
   "cell_type": "code",
   "execution_count": 36,
   "id": "b355b728-a8b5-444c-91a7-469a874fe7b1",
   "metadata": {},
   "outputs": [],
   "source": [
    "def greetings(name):\n",
    "    print(f\"Hi, {name}!\")"
   ]
  },
  {
   "cell_type": "markdown",
   "id": "b2478790-e9f1-4099-ae89-737941e96fb2",
   "metadata": {},
   "source": [
    "## Call a function"
   ]
  },
  {
   "cell_type": "code",
   "execution_count": 37,
   "id": "282885d1-61df-48c8-bde1-2d6290717a53",
   "metadata": {},
   "outputs": [
    {
     "name": "stdout",
     "output_type": "stream",
     "text": [
      "Hi, James bond!\n"
     ]
    }
   ],
   "source": [
    "greetings(name='James bond')"
   ]
  },
  {
   "cell_type": "markdown",
   "id": "4c99609b-7e1f-4f00-968f-424cce8d2c7a",
   "metadata": {},
   "source": [
    "## Default arguments"
   ]
  },
  {
   "cell_type": "code",
   "execution_count": 38,
   "id": "23cccfd5-723f-41ee-9206-bdaeac6b1c0f",
   "metadata": {},
   "outputs": [],
   "source": [
    "def greetings(name, language='en'):\n",
    "    if language == 'pt':\n",
    "        print(f\"Olá, {name}!\")\n",
    "    else:\n",
    "        print(f\"Hi, {name}!\")"
   ]
  },
  {
   "cell_type": "code",
   "execution_count": 39,
   "id": "4b3f1227-46ef-45a9-891a-d0f3211a8022",
   "metadata": {},
   "outputs": [
    {
     "name": "stdout",
     "output_type": "stream",
     "text": [
      "Hi, James bond!\n"
     ]
    }
   ],
   "source": [
    "greetings(name='James bond')"
   ]
  },
  {
   "cell_type": "code",
   "execution_count": 40,
   "id": "5477b157-07a5-4901-a7ca-15d188f10add",
   "metadata": {},
   "outputs": [
    {
     "name": "stdout",
     "output_type": "stream",
     "text": [
      "Olá, James bond!\n"
     ]
    }
   ],
   "source": [
    "greetings(name='James bond', language='pt')"
   ]
  },
  {
   "cell_type": "markdown",
   "id": "a0ae65cc-1c3f-4699-b8ad-4faf136a69fe",
   "metadata": {},
   "source": [
    "Note, this works as expected"
   ]
  },
  {
   "cell_type": "code",
   "execution_count": 41,
   "id": "7a897584-9dfc-48c1-93a7-8e62dc10b684",
   "metadata": {},
   "outputs": [
    {
     "name": "stdout",
     "output_type": "stream",
     "text": [
      "Olá, James bond!\n"
     ]
    }
   ],
   "source": [
    "greetings('James bond', 'pt')"
   ]
  },
  {
   "cell_type": "markdown",
   "id": "7dd88084-8e44-4f95-a378-bc4c3b20cbad",
   "metadata": {},
   "source": [
    "Also, this"
   ]
  },
  {
   "cell_type": "code",
   "execution_count": 42,
   "id": "9a6a046d-82d3-43cf-ba06-b6b43ee6178f",
   "metadata": {},
   "outputs": [
    {
     "name": "stdout",
     "output_type": "stream",
     "text": [
      "Hi, James bond!\n"
     ]
    }
   ],
   "source": [
    "greetings(language='en', name='James bond')"
   ]
  },
  {
   "cell_type": "markdown",
   "id": "9820e96d-317f-4775-ac16-fe7f5b26fed1",
   "metadata": {},
   "source": [
    "and this"
   ]
  },
  {
   "cell_type": "code",
   "execution_count": 43,
   "id": "3e09246c-3c33-47ae-9f58-22b94d19ef21",
   "metadata": {},
   "outputs": [
    {
     "name": "stdout",
     "output_type": "stream",
     "text": [
      "Olá, James bond!\n"
     ]
    }
   ],
   "source": [
    "greetings('James bond', language='pt')"
   ]
  },
  {
   "cell_type": "markdown",
   "id": "f7fcee72-f75b-464a-bb25-13292b416d46",
   "metadata": {},
   "source": [
    "This however, doesn't"
   ]
  },
  {
   "cell_type": "code",
   "execution_count": 44,
   "id": "33c79620-b5a5-4206-8448-5989740d4f83",
   "metadata": {},
   "outputs": [
    {
     "name": "stdout",
     "output_type": "stream",
     "text": [
      "Hi, pt!\n"
     ]
    }
   ],
   "source": [
    "greetings('pt', 'James bond',)"
   ]
  },
  {
   "cell_type": "markdown",
   "id": "5e8650bb-02f1-4911-9179-0b71e2a4843f",
   "metadata": {},
   "source": [
    "nor this"
   ]
  },
  {
   "cell_type": "code",
   "execution_count": 45,
   "id": "e63f25d4-acfb-4c49-ac8f-21c41069c744",
   "metadata": {},
   "outputs": [
    {
     "ename": "SyntaxError",
     "evalue": "positional argument follows keyword argument (3848852848.py, line 1)",
     "output_type": "error",
     "traceback": [
      "\u001b[1;36m  Input \u001b[1;32mIn [45]\u001b[1;36m\u001b[0m\n\u001b[1;33m    greetings(name='James bond', 'pt')\u001b[0m\n\u001b[1;37m                                     ^\u001b[0m\n\u001b[1;31mSyntaxError\u001b[0m\u001b[1;31m:\u001b[0m positional argument follows keyword argument\n"
     ]
    }
   ],
   "source": [
    "greetings(name='James bond', 'pt')"
   ]
  },
  {
   "cell_type": "markdown",
   "id": "e652bfed-ca21-4b78-ad87-9d2335bfa80d",
   "metadata": {},
   "source": [
    "## Return values\n",
    "\n",
    "Usually, we use function to performs some operations and return some result. For that, we use the `return` keyword in our function"
   ]
  },
  {
   "cell_type": "code",
   "execution_count": 46,
   "id": "b0a51fac-b612-46da-af0e-8db925647aa0",
   "metadata": {},
   "outputs": [],
   "source": [
    "def full_name(first_name, last_name):\n",
    "    return f'{first_name} {last_name}'"
   ]
  },
  {
   "cell_type": "code",
   "execution_count": 47,
   "id": "808bc88d-00bd-4a55-b64a-619d79f37fa7",
   "metadata": {},
   "outputs": [],
   "source": [
    "name = full_name('James', 'Bond')"
   ]
  },
  {
   "cell_type": "code",
   "execution_count": 48,
   "id": "6d04a1ca-fefc-47fd-bba0-bcafbd28d086",
   "metadata": {},
   "outputs": [
    {
     "name": "stdout",
     "output_type": "stream",
     "text": [
      "James Bond\n"
     ]
    }
   ],
   "source": [
    "print(name)"
   ]
  },
  {
   "cell_type": "markdown",
   "id": "c9b49a2d-b504-4e22-a3d2-6d6e456af591",
   "metadata": {},
   "source": [
    "* sometimes it may be convenient to pass th arguments in the form of a list (or a tuple), instead of entering each one individually.\n",
    "* to do that, add a `*` in front of the list (tuple), like this"
   ]
  },
  {
   "cell_type": "code",
   "execution_count": 55,
   "id": "28f59e61-c45f-4ce8-a1ce-7dc5f01c9419",
   "metadata": {},
   "outputs": [
    {
     "data": {
      "text/plain": [
       "'James Bond'"
      ]
     },
     "execution_count": 55,
     "metadata": {},
     "output_type": "execute_result"
    }
   ],
   "source": [
    "name_parts = ['James', 'Bond']\n",
    "\n",
    "full_name(*name_parts)"
   ]
  },
  {
   "cell_type": "markdown",
   "id": "d7c86b64-5316-463e-9947-ac0b40e3f482",
   "metadata": {},
   "source": [
    "## Built-in functions\n",
    "\n",
    "Python comes with some built-in functions. We have seen several of them, such as `print`, `type`, `enumerate`. A full list of the existing built in functions can be seen [here](https://docs.python.org/3/library/functions.html)"
   ]
  }
 ],
 "metadata": {
  "kernelspec": {
   "display_name": "Python 3 (ipykernel)",
   "language": "python",
   "name": "python3"
  },
  "language_info": {
   "codemirror_mode": {
    "name": "ipython",
    "version": 3
   },
   "file_extension": ".py",
   "mimetype": "text/x-python",
   "name": "python",
   "nbconvert_exporter": "python",
   "pygments_lexer": "ipython3",
   "version": "3.10.2"
  }
 },
 "nbformat": 4,
 "nbformat_minor": 5
}
