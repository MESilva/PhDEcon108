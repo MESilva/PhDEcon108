{
 "cells": [
  {
   "cell_type": "markdown",
   "id": "1cb39ad9-d70a-4e62-8158-01f3bd6b4a9b",
   "metadata": {},
   "source": [
    "# Python modules\n",
    "\n",
    "A module is a python file that contains a collection of functions. Modules are used to to organize Python code with related functionality, which makes the code easier to understand and use. In addition to the modules that come with the installation of Python, contained in what is known as the [Python Standard Library](http://docs.python.org/library/), there are other third-party modules which we get access to when we install other packages/libraries. We can also create our own modules. \n",
    "\n",
    "\n",
    "To be able to use functionality from a module we need to import it. There are several different way of doing that:\n",
    "\n",
    "* import the entire module with `import module_name` \n",
    "    - for example, `import pandas`\n",
    "    - in that case, to use the `DataFrame` object, we need to type `pandas.DataFrame`\n",
    "* import a module using a different name (alias) with `import module_name as chosen_alias` \n",
    "    - for example `import pandas as pd`\n",
    "    - in that case, to use the `DataFrame` object, we need to type `pd.DataFrame`\n",
    "    - __pd__ is a common alias for pandas. \n",
    "    \n",
    "* Instead of importing the entire module as above, we can import specific functions or objects from it with\n",
    "`from module_name import object1, object2` \n",
    "    - for example `from pandas import DataFrame, Series`\n",
    "    - in that case, to use the `DataFrame` object, we just type `DataFrame`"
   ]
  },
  {
   "cell_type": "code",
   "execution_count": null,
   "id": "0ea2720e-0f25-48e7-8aad-fecf093d6ca7",
   "metadata": {},
   "outputs": [],
   "source": []
  }
 ],
 "metadata": {
  "kernelspec": {
   "display_name": "Python 3 (ipykernel)",
   "language": "python",
   "name": "python3"
  },
  "language_info": {
   "codemirror_mode": {
    "name": "ipython",
    "version": 3
   },
   "file_extension": ".py",
   "mimetype": "text/x-python",
   "name": "python",
   "nbconvert_exporter": "python",
   "pygments_lexer": "ipython3",
   "version": "3.10.2"
  }
 },
 "nbformat": 4,
 "nbformat_minor": 5
}
