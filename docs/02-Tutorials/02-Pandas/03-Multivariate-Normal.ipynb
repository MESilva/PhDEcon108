{
 "cells": [
  {
   "cell_type": "code",
   "execution_count": 1,
   "id": "c75cb45c-d102-49ba-aa2f-970967abab04",
   "metadata": {},
   "outputs": [],
   "source": [
    "import numpy as np\n",
    "import pandas as pd\n",
    "import matplotlib.pyplot as plt"
   ]
  },
  {
   "cell_type": "markdown",
   "id": "d2f5613f-97d3-4656-911d-786d7d9e900c",
   "metadata": {},
   "source": [
    "# Multivariate Normal in Python"
   ]
  },
  {
   "cell_type": "markdown",
   "id": "579b72cf-7bb6-4d0d-842a-6d2749189d37",
   "metadata": {},
   "source": [
    "## TOC\n",
    "\n",
    "- [Covariance and Correlation matrices in Pandas](#Covariance-and-Correlation-matrices-in-Pandas )\n",
    "- [Generating random variables](#Generating-random-variables)\n",
    "    - [Univariate Normal](#Univariate-Normal)\n",
    "    - [Multivariate Normal](#Multivariate-Normal)\n",
    "- [Task 1](#Task-1)\n",
    "- [Task 2](#Task-2)\n",
    "- [Task 3](#Task-3)\n",
    "- [Task 4](#Task-4)\n",
    "- [Task 5](#Task-5)"
   ]
  },
  {
   "cell_type": "markdown",
   "id": "d867cd8e-2b40-4d22-9bf3-4e43f4f17e37",
   "metadata": {},
   "source": [
    "## Covariance and Correlation matrices in Pandas "
   ]
  },
  {
   "cell_type": "code",
   "execution_count": 2,
   "id": "ef442289-ec3e-4405-99e2-9c11c88edaca",
   "metadata": {},
   "outputs": [],
   "source": [
    "df_infl = pd.read_csv('../01-Basics/data/HICP_unadj_ANR_clean.csv',\n",
    "                      index_col=0,\n",
    "                      parse_dates=True,\n",
    "                      infer_datetime_format=True\n",
    "                     )"
   ]
  },
  {
   "cell_type": "code",
   "execution_count": 3,
   "id": "fc9270e8-db71-4a32-9613-f129a5869ae5",
   "metadata": {},
   "outputs": [
    {
     "data": {
      "text/html": [
       "<div>\n",
       "<style scoped>\n",
       "    .dataframe tbody tr th:only-of-type {\n",
       "        vertical-align: middle;\n",
       "    }\n",
       "\n",
       "    .dataframe tbody tr th {\n",
       "        vertical-align: top;\n",
       "    }\n",
       "\n",
       "    .dataframe thead th {\n",
       "        text-align: right;\n",
       "    }\n",
       "</style>\n",
       "<table border=\"1\" class=\"dataframe\">\n",
       "  <thead>\n",
       "    <tr style=\"text-align: right;\">\n",
       "      <th></th>\n",
       "      <th>U2</th>\n",
       "      <th>DE</th>\n",
       "      <th>FR</th>\n",
       "      <th>ES</th>\n",
       "      <th>PT</th>\n",
       "    </tr>\n",
       "    <tr>\n",
       "      <th>date</th>\n",
       "      <th></th>\n",
       "      <th></th>\n",
       "      <th></th>\n",
       "      <th></th>\n",
       "      <th></th>\n",
       "    </tr>\n",
       "  </thead>\n",
       "  <tbody>\n",
       "    <tr>\n",
       "      <th>1997-01-01</th>\n",
       "      <td>2.0</td>\n",
       "      <td>1.9</td>\n",
       "      <td>1.8</td>\n",
       "      <td>2.8</td>\n",
       "      <td>2.8</td>\n",
       "    </tr>\n",
       "    <tr>\n",
       "      <th>1997-02-01</th>\n",
       "      <td>1.8</td>\n",
       "      <td>1.6</td>\n",
       "      <td>1.7</td>\n",
       "      <td>2.5</td>\n",
       "      <td>2.4</td>\n",
       "    </tr>\n",
       "    <tr>\n",
       "      <th>1997-03-01</th>\n",
       "      <td>1.6</td>\n",
       "      <td>1.3</td>\n",
       "      <td>1.1</td>\n",
       "      <td>2.2</td>\n",
       "      <td>2.3</td>\n",
       "    </tr>\n",
       "    <tr>\n",
       "      <th>1997-04-01</th>\n",
       "      <td>1.3</td>\n",
       "      <td>1.2</td>\n",
       "      <td>1.0</td>\n",
       "      <td>1.6</td>\n",
       "      <td>1.6</td>\n",
       "    </tr>\n",
       "    <tr>\n",
       "      <th>1997-05-01</th>\n",
       "      <td>1.4</td>\n",
       "      <td>1.5</td>\n",
       "      <td>0.9</td>\n",
       "      <td>1.3</td>\n",
       "      <td>1.9</td>\n",
       "    </tr>\n",
       "  </tbody>\n",
       "</table>\n",
       "</div>"
      ],
      "text/plain": [
       "             U2   DE   FR   ES   PT\n",
       "date                               \n",
       "1997-01-01  2.0  1.9  1.8  2.8  2.8\n",
       "1997-02-01  1.8  1.6  1.7  2.5  2.4\n",
       "1997-03-01  1.6  1.3  1.1  2.2  2.3\n",
       "1997-04-01  1.3  1.2  1.0  1.6  1.6\n",
       "1997-05-01  1.4  1.5  0.9  1.3  1.9"
      ]
     },
     "execution_count": 3,
     "metadata": {},
     "output_type": "execute_result"
    }
   ],
   "source": [
    "df_infl.head()"
   ]
  },
  {
   "cell_type": "markdown",
   "id": "b00ab8eb-8bd0-44f9-a842-82c399645871",
   "metadata": {},
   "source": [
    "Compute the sample covariance matrix"
   ]
  },
  {
   "cell_type": "code",
   "execution_count": 4,
   "id": "81d5bf69-a148-4dd1-a00b-ffb2ac931fbe",
   "metadata": {},
   "outputs": [
    {
     "data": {
      "text/html": [
       "<div>\n",
       "<style scoped>\n",
       "    .dataframe tbody tr th:only-of-type {\n",
       "        vertical-align: middle;\n",
       "    }\n",
       "\n",
       "    .dataframe tbody tr th {\n",
       "        vertical-align: top;\n",
       "    }\n",
       "\n",
       "    .dataframe thead th {\n",
       "        text-align: right;\n",
       "    }\n",
       "</style>\n",
       "<table border=\"1\" class=\"dataframe\">\n",
       "  <thead>\n",
       "    <tr style=\"text-align: right;\">\n",
       "      <th></th>\n",
       "      <th>U2</th>\n",
       "      <th>DE</th>\n",
       "      <th>FR</th>\n",
       "      <th>ES</th>\n",
       "      <th>PT</th>\n",
       "    </tr>\n",
       "  </thead>\n",
       "  <tbody>\n",
       "    <tr>\n",
       "      <th>U2</th>\n",
       "      <td>0.961381</td>\n",
       "      <td>0.823101</td>\n",
       "      <td>0.817719</td>\n",
       "      <td>1.441777</td>\n",
       "      <td>1.039977</td>\n",
       "    </tr>\n",
       "    <tr>\n",
       "      <th>DE</th>\n",
       "      <td>0.823101</td>\n",
       "      <td>0.895325</td>\n",
       "      <td>0.679858</td>\n",
       "      <td>1.094757</td>\n",
       "      <td>0.647251</td>\n",
       "    </tr>\n",
       "    <tr>\n",
       "      <th>FR</th>\n",
       "      <td>0.817719</td>\n",
       "      <td>0.679858</td>\n",
       "      <td>0.793885</td>\n",
       "      <td>1.186220</td>\n",
       "      <td>0.831415</td>\n",
       "    </tr>\n",
       "    <tr>\n",
       "      <th>ES</th>\n",
       "      <td>1.441777</td>\n",
       "      <td>1.094757</td>\n",
       "      <td>1.186220</td>\n",
       "      <td>2.515297</td>\n",
       "      <td>1.789404</td>\n",
       "    </tr>\n",
       "    <tr>\n",
       "      <th>PT</th>\n",
       "      <td>1.039977</td>\n",
       "      <td>0.647251</td>\n",
       "      <td>0.831415</td>\n",
       "      <td>1.789404</td>\n",
       "      <td>2.060114</td>\n",
       "    </tr>\n",
       "  </tbody>\n",
       "</table>\n",
       "</div>"
      ],
      "text/plain": [
       "          U2        DE        FR        ES        PT\n",
       "U2  0.961381  0.823101  0.817719  1.441777  1.039977\n",
       "DE  0.823101  0.895325  0.679858  1.094757  0.647251\n",
       "FR  0.817719  0.679858  0.793885  1.186220  0.831415\n",
       "ES  1.441777  1.094757  1.186220  2.515297  1.789404\n",
       "PT  1.039977  0.647251  0.831415  1.789404  2.060114"
      ]
     },
     "execution_count": 4,
     "metadata": {},
     "output_type": "execute_result"
    }
   ],
   "source": [
    "df_infl.cov()"
   ]
  },
  {
   "cell_type": "markdown",
   "id": "97a39f43-2486-4f01-91c8-e2c91d0c046f",
   "metadata": {},
   "source": [
    "Compute the sample correlation matrix"
   ]
  },
  {
   "cell_type": "code",
   "execution_count": 5,
   "id": "22c9ea9d-ed33-4e65-bb84-7e4902b38fd7",
   "metadata": {},
   "outputs": [
    {
     "data": {
      "text/html": [
       "<div>\n",
       "<style scoped>\n",
       "    .dataframe tbody tr th:only-of-type {\n",
       "        vertical-align: middle;\n",
       "    }\n",
       "\n",
       "    .dataframe tbody tr th {\n",
       "        vertical-align: top;\n",
       "    }\n",
       "\n",
       "    .dataframe thead th {\n",
       "        text-align: right;\n",
       "    }\n",
       "</style>\n",
       "<table border=\"1\" class=\"dataframe\">\n",
       "  <thead>\n",
       "    <tr style=\"text-align: right;\">\n",
       "      <th></th>\n",
       "      <th>U2</th>\n",
       "      <th>DE</th>\n",
       "      <th>FR</th>\n",
       "      <th>ES</th>\n",
       "      <th>PT</th>\n",
       "    </tr>\n",
       "  </thead>\n",
       "  <tbody>\n",
       "    <tr>\n",
       "      <th>U2</th>\n",
       "      <td>1.000000</td>\n",
       "      <td>0.887187</td>\n",
       "      <td>0.936003</td>\n",
       "      <td>0.927163</td>\n",
       "      <td>0.738976</td>\n",
       "    </tr>\n",
       "    <tr>\n",
       "      <th>DE</th>\n",
       "      <td>0.887187</td>\n",
       "      <td>1.000000</td>\n",
       "      <td>0.806397</td>\n",
       "      <td>0.729512</td>\n",
       "      <td>0.476581</td>\n",
       "    </tr>\n",
       "    <tr>\n",
       "      <th>FR</th>\n",
       "      <td>0.936003</td>\n",
       "      <td>0.806397</td>\n",
       "      <td>1.000000</td>\n",
       "      <td>0.839444</td>\n",
       "      <td>0.650120</td>\n",
       "    </tr>\n",
       "    <tr>\n",
       "      <th>ES</th>\n",
       "      <td>0.927163</td>\n",
       "      <td>0.729512</td>\n",
       "      <td>0.839444</td>\n",
       "      <td>1.000000</td>\n",
       "      <td>0.786082</td>\n",
       "    </tr>\n",
       "    <tr>\n",
       "      <th>PT</th>\n",
       "      <td>0.738976</td>\n",
       "      <td>0.476581</td>\n",
       "      <td>0.650120</td>\n",
       "      <td>0.786082</td>\n",
       "      <td>1.000000</td>\n",
       "    </tr>\n",
       "  </tbody>\n",
       "</table>\n",
       "</div>"
      ],
      "text/plain": [
       "          U2        DE        FR        ES        PT\n",
       "U2  1.000000  0.887187  0.936003  0.927163  0.738976\n",
       "DE  0.887187  1.000000  0.806397  0.729512  0.476581\n",
       "FR  0.936003  0.806397  1.000000  0.839444  0.650120\n",
       "ES  0.927163  0.729512  0.839444  1.000000  0.786082\n",
       "PT  0.738976  0.476581  0.650120  0.786082  1.000000"
      ]
     },
     "execution_count": 5,
     "metadata": {},
     "output_type": "execute_result"
    }
   ],
   "source": [
    "correlations = df_infl.corr() # method='spearman' for rank correlation\n",
    "correlations"
   ]
  },
  {
   "cell_type": "code",
   "execution_count": 6,
   "id": "58801588-3f99-4548-ae0a-39171e7712f9",
   "metadata": {},
   "outputs": [],
   "source": [
    "names = correlations.columns.tolist()"
   ]
  },
  {
   "cell_type": "code",
   "execution_count": 7,
   "id": "83524428-77c2-4dce-81ca-4cec19607c38",
   "metadata": {},
   "outputs": [
    {
     "data": {
      "text/plain": [
       "''"
      ]
     },
     "execution_count": 7,
     "metadata": {},
     "output_type": "execute_result"
    },
    {
     "data": {
      "image/png": "[encoded data removed]",
      "text/plain": [
       "<Figure size 864x720 with 2 Axes>"
      ]
     },
     "metadata": {
      "needs_background": "light"
     },
     "output_type": "display_data"
    }
   ],
   "source": [
    "fig, ax = plt.subplots(1, 1,  figsize=(12,10))\n",
    "cax = ax.matshow(correlations)\n",
    "fig.colorbar(cax)\n",
    "\n",
    "ticks = range(len(names))\n",
    "ax.set_xticks(ticks)\n",
    "ax.set_yticks(ticks)\n",
    "ax.set_xticklabels(names, fontsize=14)\n",
    "ax.set_yticklabels(names, fontsize=14)\n",
    ";"
   ]
  },
  {
   "cell_type": "code",
   "execution_count": 9,
   "id": "2ee08dbf-7b44-41c9-be39-a150bb74b03e",
   "metadata": {},
   "outputs": [
    {
     "data": {
      "text/plain": [
       "(301, 5)"
      ]
     },
     "execution_count": 9,
     "metadata": {},
     "output_type": "execute_result"
    }
   ],
   "source": [
    "arr = df_infl.values\n",
    "arr.shape"
   ]
  },
  {
   "cell_type": "code",
   "execution_count": 14,
   "id": "464d568e-6055-4c0d-a481-5c42b128c624",
   "metadata": {},
   "outputs": [
    {
     "data": {
      "text/plain": [
       "array([[1.        , 0.88718682, 0.93600324, 0.92716253, 0.73897597],\n",
       "       [0.88718682, 1.        , 0.80639725, 0.72951243, 0.47658129],\n",
       "       [0.93600324, 0.80639725, 1.        , 0.83944408, 0.65011956],\n",
       "       [0.92716253, 0.72951243, 0.83944408, 1.        , 0.78608236],\n",
       "       [0.73897597, 0.47658129, 0.65011956, 0.78608236, 1.        ]])"
      ]
     },
     "execution_count": 14,
     "metadata": {},
     "output_type": "execute_result"
    }
   ],
   "source": [
    "np.corrcoef(arr, rowvar=False)"
   ]
  },
  {
   "cell_type": "code",
   "execution_count": 15,
   "id": "7628be23-7108-435e-a47d-c9816c41fa6a",
   "metadata": {},
   "outputs": [
    {
     "data": {
      "text/plain": [
       "array([[0.96138051, 0.823101  , 0.8177186 , 1.4417773 , 1.03997663],\n",
       "       [0.823101  , 0.89532514, 0.67985814, 1.09475703, 0.64725138],\n",
       "       [0.8177186 , 0.67985814, 0.79388527, 1.18622016, 0.83141473],\n",
       "       [1.4417773 , 1.09475703, 1.18622016, 2.51529723, 1.78940365],\n",
       "       [1.03997663, 0.64725138, 0.83141473, 1.78940365, 2.06011384]])"
      ]
     },
     "execution_count": 15,
     "metadata": {},
     "output_type": "execute_result"
    }
   ],
   "source": [
    "np.cov(arr, rowvar=False)"
   ]
  },
  {
   "cell_type": "markdown",
   "id": "12885f15-780a-40e3-ae2b-a9b93592e74c",
   "metadata": {},
   "source": [
    "## Generating random variables"
   ]
  },
  {
   "cell_type": "markdown",
   "id": "e6be24eb-396c-4ec2-a87f-2b24fd5bcbd1",
   "metadata": {},
   "source": [
    "### Univariate Normal"
   ]
  },
  {
   "cell_type": "code",
   "execution_count": 17,
   "id": "e46d3ff5-7dc5-418c-8402-78a38fb6adf6",
   "metadata": {},
   "outputs": [],
   "source": [
    "from numpy.random import default_rng\n",
    "gen = default_rng(100) # random initialization"
   ]
  },
  {
   "cell_type": "code",
   "execution_count": 18,
   "id": "bd4207cd-1e1d-41ae-a1d2-1778ffbe7790",
   "metadata": {},
   "outputs": [
    {
     "data": {
      "text/plain": [
       "numpy.random._generator.Generator"
      ]
     },
     "execution_count": 18,
     "metadata": {},
     "output_type": "execute_result"
    }
   ],
   "source": [
    "type(gen)"
   ]
  },
  {
   "cell_type": "code",
   "execution_count": null,
   "id": "5d9aec2c-bbeb-407b-9348-9ab207a9c0e2",
   "metadata": {},
   "outputs": [],
   "source": [
    "#state = gen.bit_generator.state\n",
    "#state\n",
    "#gen.bit_generator.state = state"
   ]
  },
  {
   "cell_type": "code",
   "execution_count": 19,
   "id": "b81a9deb-0773-4e9f-96e6-94c21fc74761",
   "metadata": {},
   "outputs": [],
   "source": [
    "x = gen.standard_normal((100_000, 5))"
   ]
  },
  {
   "cell_type": "code",
   "execution_count": 21,
   "id": "9c2d7c92-d5d9-4b3c-b6d0-28e1b6d4e825",
   "metadata": {},
   "outputs": [
    {
     "data": {
      "text/plain": [
       "(100000, 5)"
      ]
     },
     "execution_count": 21,
     "metadata": {},
     "output_type": "execute_result"
    }
   ],
   "source": [
    "x.shape"
   ]
  },
  {
   "cell_type": "code",
   "execution_count": 23,
   "id": "614448ac-6b98-4cf9-8993-47e4b3f1b1e8",
   "metadata": {},
   "outputs": [
    {
     "data": {
      "text/plain": [
       "(0.0005439119457772664, 0.9983844601440314)"
      ]
     },
     "execution_count": 23,
     "metadata": {},
     "output_type": "execute_result"
    }
   ],
   "source": [
    "x[:,0].mean(), x[:,0].std()"
   ]
  },
  {
   "cell_type": "code",
   "execution_count": 24,
   "id": "ac78b79a-533a-468b-9df7-5bbf5056b563",
   "metadata": {},
   "outputs": [
    {
     "data": {
      "text/plain": [
       "array([ 0.00054391,  0.0026703 , -0.00157559,  0.00022928, -0.00305394])"
      ]
     },
     "execution_count": 24,
     "metadata": {},
     "output_type": "execute_result"
    }
   ],
   "source": [
    "x.mean(axis=0)"
   ]
  },
  {
   "cell_type": "code",
   "execution_count": 25,
   "id": "5a750f62-1e35-4aa7-a8ea-cf1e99db8bd6",
   "metadata": {},
   "outputs": [
    {
     "data": {
      "text/plain": [
       "array([0.99838446, 0.99852719, 0.99701323, 1.001078  , 1.00175055])"
      ]
     },
     "execution_count": 25,
     "metadata": {},
     "output_type": "execute_result"
    }
   ],
   "source": [
    "x.std(axis=0)"
   ]
  },
  {
   "cell_type": "code",
   "execution_count": 26,
   "id": "d79e1ffd-b280-489f-af83-166e637f87ac",
   "metadata": {},
   "outputs": [],
   "source": [
    "x = gen.normal(1.5, 2, (100_000, 5))"
   ]
  },
  {
   "cell_type": "code",
   "execution_count": 27,
   "id": "07f0441e-6900-4154-aa75-62761cdf24e3",
   "metadata": {},
   "outputs": [
    {
     "data": {
      "text/plain": [
       "array([1.4973744 , 1.4991688 , 1.50189636, 1.49773389, 1.49074797])"
      ]
     },
     "execution_count": 27,
     "metadata": {},
     "output_type": "execute_result"
    }
   ],
   "source": [
    "x.mean(axis=0)"
   ]
  },
  {
   "cell_type": "code",
   "execution_count": 28,
   "id": "76b866e4-605b-43a3-9d70-e222badc2760",
   "metadata": {},
   "outputs": [
    {
     "data": {
      "text/plain": [
       "array([2.01275443, 2.00435225, 1.99394643, 1.99611457, 1.99867622])"
      ]
     },
     "execution_count": 28,
     "metadata": {},
     "output_type": "execute_result"
    }
   ],
   "source": [
    "x.std(axis=0)"
   ]
  },
  {
   "cell_type": "markdown",
   "id": "7a1ad147-7c8b-4068-871d-90b35f3e24cc",
   "metadata": {},
   "source": [
    "### Multivariate Normal"
   ]
  },
  {
   "cell_type": "code",
   "execution_count": 29,
   "id": "9682ec9d-3777-4b99-8207-69b63a5e0788",
   "metadata": {},
   "outputs": [],
   "source": [
    "mu = np.zeros((5))"
   ]
  },
  {
   "cell_type": "code",
   "execution_count": 30,
   "id": "a4ffa320-f855-4b9f-95e5-7bdddfc4eb63",
   "metadata": {},
   "outputs": [
    {
     "data": {
      "text/plain": [
       "array([0., 0., 0., 0., 0.])"
      ]
     },
     "execution_count": 30,
     "metadata": {},
     "output_type": "execute_result"
    }
   ],
   "source": [
    "mu"
   ]
  },
  {
   "cell_type": "code",
   "execution_count": 32,
   "id": "f752eee2-3822-43d2-bec4-779499fb96c8",
   "metadata": {},
   "outputs": [
    {
     "data": {
      "text/plain": [
       "(5, 5)"
      ]
     },
     "execution_count": 32,
     "metadata": {},
     "output_type": "execute_result"
    }
   ],
   "source": [
    "Sigma = np.cov(arr, rowvar=False)\n",
    "Sigma.shape"
   ]
  },
  {
   "cell_type": "code",
   "execution_count": 39,
   "id": "58c5b7e0-c102-4423-8f19-7d5259a5e4ed",
   "metadata": {},
   "outputs": [
    {
     "data": {
      "text/plain": [
       "array([[0.96138051, 0.823101  , 0.8177186 , 1.4417773 , 1.03997663],\n",
       "       [0.823101  , 0.89532514, 0.67985814, 1.09475703, 0.64725138],\n",
       "       [0.8177186 , 0.67985814, 0.79388527, 1.18622016, 0.83141473],\n",
       "       [1.4417773 , 1.09475703, 1.18622016, 2.51529723, 1.78940365],\n",
       "       [1.03997663, 0.64725138, 0.83141473, 1.78940365, 2.06011384]])"
      ]
     },
     "execution_count": 39,
     "metadata": {},
     "output_type": "execute_result"
    }
   ],
   "source": [
    "Sigma"
   ]
  },
  {
   "cell_type": "code",
   "execution_count": 46,
   "id": "40d767dc-fc00-4f7b-b878-aca80ce80cf3",
   "metadata": {},
   "outputs": [],
   "source": [
    "z = gen.multivariate_normal(mean=mu,  cov=Sigma, size=1_000_000)"
   ]
  },
  {
   "cell_type": "code",
   "execution_count": 47,
   "id": "6988e51d-af50-436c-95dc-c76e5ddb4eb1",
   "metadata": {},
   "outputs": [
    {
     "data": {
      "text/plain": [
       "(1000000, 5)"
      ]
     },
     "execution_count": 47,
     "metadata": {},
     "output_type": "execute_result"
    }
   ],
   "source": [
    "z.shape"
   ]
  },
  {
   "cell_type": "code",
   "execution_count": 48,
   "id": "00843066-28b6-46a6-baed-5d4ed6fc06f6",
   "metadata": {},
   "outputs": [
    {
     "data": {
      "text/plain": [
       "array([0.00145788, 0.00099858, 0.0013953 , 0.00201981, 0.00250335])"
      ]
     },
     "execution_count": 48,
     "metadata": {},
     "output_type": "execute_result"
    }
   ],
   "source": [
    "z.mean(axis=0)"
   ]
  },
  {
   "cell_type": "code",
   "execution_count": 49,
   "id": "e79c3f01-3f5b-4a4a-b542-b6236b124054",
   "metadata": {},
   "outputs": [
    {
     "data": {
      "text/plain": [
       "array([0.9626769 , 0.89607504, 0.79496105, 2.51723147, 2.05900802])"
      ]
     },
     "execution_count": 49,
     "metadata": {},
     "output_type": "execute_result"
    }
   ],
   "source": [
    "z.var(axis=0)"
   ]
  },
  {
   "cell_type": "code",
   "execution_count": 51,
   "id": "45b9edb6-5a7a-4381-ab24-1c16f1d1e7a2",
   "metadata": {},
   "outputs": [
    {
     "data": {
      "text/plain": [
       "array([0.96138051, 0.89532514, 0.79388527, 2.51529723, 2.06011384])"
      ]
     },
     "execution_count": 51,
     "metadata": {},
     "output_type": "execute_result"
    }
   ],
   "source": [
    "Sigma.diagonal()"
   ]
  },
  {
   "cell_type": "code",
   "execution_count": 52,
   "id": "5676fd08-5f7c-4e97-acfb-ddb3a5bdb15f",
   "metadata": {},
   "outputs": [
    {
     "data": {
      "text/plain": [
       "array([[0.96138051, 0.        , 0.        , 0.        , 0.        ],\n",
       "       [0.        , 0.89532514, 0.        , 0.        , 0.        ],\n",
       "       [0.        , 0.        , 0.79388527, 0.        , 0.        ],\n",
       "       [0.        , 0.        , 0.        , 2.51529723, 0.        ],\n",
       "       [0.        , 0.        , 0.        , 0.        , 2.06011384]])"
      ]
     },
     "execution_count": 52,
     "metadata": {},
     "output_type": "execute_result"
    }
   ],
   "source": [
    "np.diag(Sigma.diagonal())"
   ]
  },
  {
   "cell_type": "markdown",
   "id": "1faeb2aa-7fb3-4e5c-b43f-b98875d5aa18",
   "metadata": {},
   "source": [
    "### Legacy approach to setting state"
   ]
  },
  {
   "cell_type": "code",
   "execution_count": 67,
   "id": "521badab-1448-45b2-b3e4-11ceb3c38e1a",
   "metadata": {},
   "outputs": [],
   "source": [
    "np.random.seed(42)"
   ]
  },
  {
   "cell_type": "code",
   "execution_count": 68,
   "id": "c9b09a68-eee0-4793-838c-de46eb430a46",
   "metadata": {},
   "outputs": [],
   "source": [
    "st = np.random.get_state()"
   ]
  },
  {
   "cell_type": "code",
   "execution_count": 75,
   "id": "f8f30c0f-94fc-473b-b7d5-8a34369d014f",
   "metadata": {},
   "outputs": [],
   "source": [
    "np.random.set_state(st)"
   ]
  },
  {
   "cell_type": "code",
   "execution_count": 76,
   "id": "c47c6751-6aa4-4855-a2e9-f582d5e4826b",
   "metadata": {},
   "outputs": [],
   "source": [
    "z2 = np.random.multivariate_normal(mean=mu, cov=Sigma, size=10000)"
   ]
  },
  {
   "cell_type": "code",
   "execution_count": 77,
   "id": "8305b2cf-abd7-48b5-8ad8-d1f47517d9c7",
   "metadata": {},
   "outputs": [
    {
     "data": {
      "text/plain": [
       "array([-0.47317327, -0.74897768,  0.04768613, -0.59892074, -0.87556863])"
      ]
     },
     "execution_count": 77,
     "metadata": {},
     "output_type": "execute_result"
    }
   ],
   "source": [
    "z2[0]"
   ]
  },
  {
   "cell_type": "code",
   "execution_count": null,
   "id": "d7e89450-bd16-4d00-984a-3a18627bc410",
   "metadata": {},
   "outputs": [],
   "source": [
    "z2[0]"
   ]
  },
  {
   "cell_type": "code",
   "execution_count": null,
   "id": "306d1656-fbe9-4077-b498-084f8fdca172",
   "metadata": {},
   "outputs": [],
   "source": [
    "z2.mean(axis=0)"
   ]
  },
  {
   "cell_type": "code",
   "execution_count": null,
   "id": "81c1d1fe-cbe8-4bfc-8f47-f36789e0f7fd",
   "metadata": {},
   "outputs": [],
   "source": [
    "z2.var(axis=0)"
   ]
  },
  {
   "cell_type": "markdown",
   "id": "da9097ae-c002-4c0f-a664-177f37acd442",
   "metadata": {
    "tags": []
   },
   "source": [
    "## Affine transformation"
   ]
  },
  {
   "cell_type": "markdown",
   "id": "1b0853d8-649a-4f29-b4ca-97cb91b1175b",
   "metadata": {},
   "source": [
    "$$ \\text{From  } A \\text{ to } \\Sigma  = \\sigma^2 A A' $$"
   ]
  },
  {
   "cell_type": "code",
   "execution_count": 78,
   "id": "16157340-9400-4d27-bbce-8494a5a7fc6b",
   "metadata": {},
   "outputs": [
    {
     "data": {
      "text/plain": [
       "array([[-1.16074887,  0.97572461,  1.40518003,  0.75385882],\n",
       "       [ 2.26464852,  3.44313816,  0.00482065,  1.38997288],\n",
       "       [-0.36680347,  0.37798247,  1.08261732,  0.50537373],\n",
       "       [ 0.22048157,  0.97625117,  1.08834508,  0.69162503]])"
      ]
     },
     "execution_count": 78,
     "metadata": {},
     "output_type": "execute_result"
    }
   ],
   "source": [
    "# generate a random A\n",
    "A = gen.normal(1, 1, (4,4))\n",
    "A"
   ]
  },
  {
   "cell_type": "code",
   "execution_count": 87,
   "id": "a332905f-ca8e-4f72-828a-7664d6432995",
   "metadata": {},
   "outputs": [],
   "source": [
    "sigma2 = 1"
   ]
  },
  {
   "cell_type": "code",
   "execution_count": 88,
   "id": "cc380f23-b371-4e5d-9183-00585e1978b1",
   "metadata": {},
   "outputs": [],
   "source": [
    "Sigma = sigma2 * A@A.T"
   ]
  },
  {
   "cell_type": "code",
   "execution_count": 89,
   "id": "553d5eb1-bee7-44e9-8fdf-abf5e0aa183b",
   "metadata": {},
   "outputs": [
    {
     "data": {
      "text/plain": [
       "array([[0., 0., 0., 0.],\n",
       "       [0., 0., 0., 0.],\n",
       "       [0., 0., 0., 0.],\n",
       "       [0., 0., 0., 0.]])"
      ]
     },
     "execution_count": 89,
     "metadata": {},
     "output_type": "execute_result"
    }
   ],
   "source": [
    "Sigma - sigma2*np.dot(A,A.T)"
   ]
  },
  {
   "cell_type": "code",
   "execution_count": 90,
   "id": "569262d8-4b7e-4731-836a-0e9367187bec",
   "metadata": {},
   "outputs": [
    {
     "data": {
      "text/plain": [
       "array([[19.36884196,  7.14193443, 10.78730481, 10.98934784],\n",
       "       [ 7.14193443, 75.66352472,  4.7137585 , 19.3090699 ],\n",
       "       [10.78730481,  4.7137585 ,  6.81951365,  7.26369114],\n",
       "       [10.98934784, 19.3090699 ,  7.26369114, 10.65807466]])"
      ]
     },
     "execution_count": 90,
     "metadata": {},
     "output_type": "execute_result"
    }
   ],
   "source": [
    "Sigma"
   ]
  },
  {
   "cell_type": "code",
   "execution_count": 91,
   "id": "b95ec5d2-ad71-41e2-a71f-3f03436d31cf",
   "metadata": {},
   "outputs": [
    {
     "data": {
      "text/plain": [
       "array([[4.40100465, 0.        , 0.        , 0.        ],\n",
       "       [1.62279638, 8.5457625 , 0.        , 0.        ],\n",
       "       [2.45110052, 0.08613877, 0.89677198, 0.        ],\n",
       "       [2.49700891, 1.78532142, 1.10338629, 0.13486019]])"
      ]
     },
     "execution_count": 91,
     "metadata": {},
     "output_type": "execute_result"
    }
   ],
   "source": [
    "A = np.linalg.cholesky(Sigma)\n",
    "A"
   ]
  },
  {
   "cell_type": "code",
   "execution_count": 92,
   "id": "2e1369bc-76b4-487b-b938-0cf77cb931d8",
   "metadata": {},
   "outputs": [],
   "source": [
    "S = sigma2*A@A.T"
   ]
  },
  {
   "cell_type": "code",
   "execution_count": 93,
   "id": "d268b2dd-3db4-4f7b-85c8-607abb5dce89",
   "metadata": {},
   "outputs": [],
   "source": [
    "np.testing.assert_almost_equal(S, Sigma)"
   ]
  },
  {
   "cell_type": "code",
   "execution_count": 95,
   "id": "4c197b69-0f15-482f-abb5-c2969913ffc0",
   "metadata": {},
   "outputs": [
    {
     "data": {
      "text/plain": [
       "0.0"
      ]
     },
     "execution_count": 95,
     "metadata": {},
     "output_type": "execute_result"
    }
   ],
   "source": [
    "np.abs(S - Sigma).max()"
   ]
  },
  {
   "cell_type": "markdown",
   "id": "51947241-9ade-4f4a-8bc8-c313c7e211d7",
   "metadata": {
    "tags": []
   },
   "source": [
    "## Task 1\n",
    "Set `gen = default_rng(100)`, and generate 10000 samples from bivariate normal with mean (10, 10) and variances 3 and 1 and covariance 1. Compute the sample covariance matrix __without__ using the `np.cov()` method. Compare the result with the obtained using `np.cov`.\n",
    "\n",
    "\n",
    "[go back](#TOC)"
   ]
  },
  {
   "cell_type": "markdown",
   "id": "ca0c9f48-a238-44c0-beac-af0451dcd630",
   "metadata": {
    "tags": []
   },
   "source": [
    "###"
   ]
  },
  {
   "cell_type": "code",
   "execution_count": null,
   "id": "73348387-7911-406d-a1f1-f749cb1b0a61",
   "metadata": {},
   "outputs": [],
   "source": [
    "gen = default_rng(100)\n",
    "N = 10_000\n",
    "\n",
    "mean = np.array([10,10])\n",
    "cov = np.array([[3,1],[1,5]])\n",
    "\n",
    "x = gen.multivariate_normal(mean=mean, cov=cov, size=N)\n",
    "\n",
    "u = x - x.mean(0)\n",
    "cov = u.T@u/(N-1)\n",
    "\n",
    "print(cov)\n",
    "print('*'*30)\n",
    "print(np.cov(x, rowvar=False))\n",
    "print('*'*30)\n",
    "np.testing.assert_almost_equal(cov, np.cov(x, rowvar=False))"
   ]
  },
  {
   "cell_type": "markdown",
   "id": "2a4aac33-f871-4249-8c16-2f0460dcf112",
   "metadata": {},
   "source": [
    "## Task 2\n",
    "Let $z_1$ and $z_2$ be bivariate normal with means 0, variances 1, and covariance .9. Compute the conditional mean and variance of $z_1$, given that $z_2=1$.\n",
    "\n",
    "$$\n",
    "p(z_1 | z_2) = \\mathcal{N}\\left(\\mu_1 + \\frac{\\rho \\sigma_{1}}{\\sigma_{2}} (z_2 - \\mu_2), (1 - \\rho^2)\\sigma_1^2\\right)\n",
    "$$\n",
    "\n",
    "[go back](#TOC)"
   ]
  },
  {
   "cell_type": "markdown",
   "id": "9cb4eb18-546d-440f-b4bb-a7f8c44ce9aa",
   "metadata": {
    "tags": []
   },
   "source": [
    "###"
   ]
  },
  {
   "cell_type": "code",
   "execution_count": 100,
   "id": "7178667a-c2c8-4b60-bf11-b7db4038938e",
   "metadata": {},
   "outputs": [
    {
     "data": {
      "text/plain": [
       "(0.9, 0.18999999999999995)"
      ]
     },
     "execution_count": 100,
     "metadata": {},
     "output_type": "execute_result"
    }
   ],
   "source": [
    "rho=.9\n",
    "sigma1 = 1\n",
    "sigma2 = 1\n",
    "mu1=0\n",
    "mu2=0\n",
    "\n",
    "z2 = 1\n",
    "\n",
    "(\n",
    "mu1 + (z2 - mu2)*(rho*sigma1)/(sigma2), \n",
    "(1 - rho**2)*sigma1**2\n",
    ")"
   ]
  },
  {
   "cell_type": "markdown",
   "id": "641a257a-84f9-421f-9890-98519b0274ff",
   "metadata": {},
   "source": [
    "## General case\n",
    "\n",
    "$$\n",
    "\\begin{align}\n",
    "\\operatorname{E}(\\mathbf{z}_1 | \\mathbf{z}_2) &= \\boldsymbol \\mu_1 + \\mathbf{\\Sigma}_{1 2} \\mathbf{\\Sigma}^{-1}_{2 2} (\\mathbf{z}_2 - \\boldsymbol \\mu_2) \\\\\n",
    "\\operatorname{cov}(\\mathbf{z}_1 | \\mathbf{z}_2) &= \\mathbf{\\Sigma}_{1 1} - \\mathbf{\\Sigma}_{1 2}\\mathbf{\\Sigma}_{2 2}^{-1}\\mathbf{\\Sigma}_{2 1}\n",
    "\\end{align}\n",
    "$$"
   ]
  },
  {
   "cell_type": "markdown",
   "id": "cb288783-ec43-4c9c-971c-970a0fcac466",
   "metadata": {},
   "source": [
    "## Task 3\n",
    "Compute the conditional mean and variance of $z_1$, given that $z_2=1$ Using\n"
   ]
  },
  {
   "cell_type": "code",
   "execution_count": 101,
   "id": "64c41fba-f1b0-4cea-b994-fc20c8987244",
   "metadata": {},
   "outputs": [],
   "source": [
    "Sigma12 = np.array([[0.1]])\n",
    "Sigma22 = np.array([[1.0]])\n",
    "Sigma21 = np.array([[0.1]])\n",
    "Sigma11 = np.array([[1.0]])\n",
    "\n",
    "mu1 = np.array([0])\n",
    "mu2 = np.array([0])"
   ]
  },
  {
   "cell_type": "markdown",
   "id": "724bbe39-08c9-4a6a-a2df-a095988d7130",
   "metadata": {
    "tags": []
   },
   "source": [
    "###"
   ]
  },
  {
   "cell_type": "code",
   "execution_count": 99,
   "id": "49ff11c0-e198-4e4c-a533-d4d6c80b7c48",
   "metadata": {},
   "outputs": [
    {
     "data": {
      "text/plain": [
       "array([[0.1]])"
      ]
     },
     "execution_count": 99,
     "metadata": {},
     "output_type": "execute_result"
    }
   ],
   "source": [
    "z2 = np.array([1])\n",
    "\n",
    "cond_mu = mu1 + (Sigma12 / np.linalg.inv(Sigma22)) * (z2 - mu2)\n",
    "cond_mu"
   ]
  },
  {
   "cell_type": "code",
   "execution_count": 102,
   "id": "486e6cdb-cce7-40aa-8133-06991f76d29b",
   "metadata": {},
   "outputs": [
    {
     "data": {
      "text/plain": [
       "array([[0.99]])"
      ]
     },
     "execution_count": 102,
     "metadata": {},
     "output_type": "execute_result"
    }
   ],
   "source": [
    "cond_cov = Sigma11 - Sigma12 @ np.linalg.inv(Sigma22) @ Sigma21\n",
    "cond_cov"
   ]
  },
  {
   "cell_type": "code",
   "execution_count": null,
   "id": "1e6a5e18-a4ab-42d4-acb7-00d1e661cc6b",
   "metadata": {},
   "outputs": [],
   "source": [
    "solve(Sigma22, z2 - mu2)\n",
    "\n",
    "cond_mu = mu1 + Sigma12 @ np.linalg.solve(Sigma22, z2 - mu2)\n",
    "\n",
    "cond_cov = Sigma11 - Sigma12 @ np.linalg.solve(Sigma22, Sigma21)\n",
    "\n",
    "cond_mu, cond_cov"
   ]
  },
  {
   "cell_type": "markdown",
   "id": "5aec2991-51dc-4609-961c-1b63a700299c",
   "metadata": {},
   "source": [
    "## Task 4\n",
    "Compute the conditional mean and variance of $z_1$, given that $z_2=1$ Using\n"
   ]
  },
  {
   "cell_type": "code",
   "execution_count": null,
   "id": "aeda42c6-0c45-4677-a991-d1313fddd3db",
   "metadata": {},
   "outputs": [],
   "source": [
    "Sigma12 = np.array([[0.9]])\n",
    "Sigma22 = np.array([[1.0]])\n",
    "Sigma21 = np.array([[0.9]])\n",
    "\n",
    "mu1 = np.array([0])\n",
    "mu1 = np.array([0])"
   ]
  },
  {
   "cell_type": "markdown",
   "id": "0a052a65-1c95-4f2b-a4d9-331ba172abd0",
   "metadata": {
    "jp-MarkdownHeadingCollapsed": true,
    "tags": []
   },
   "source": [
    "###"
   ]
  },
  {
   "cell_type": "code",
   "execution_count": null,
   "id": "7cc86da4-9034-45ac-b328-b6d60d4b2446",
   "metadata": {},
   "outputs": [],
   "source": [
    "z2 = np.array([1])\n",
    "cond_mu = mu1 + Sigma12 @ np.linalg.solve(Sigma22, z2 - mu2)\n",
    "\n",
    "cond_cov = Sigma11 - Sigma12 @ np.linalg.solve(Sigma22, Sigma21)\n",
    "\n",
    "cond_mu, cond_cov"
   ]
  },
  {
   "cell_type": "markdown",
   "id": "14b63faa-a620-461c-8e1f-830e62bc3fbc",
   "metadata": {},
   "source": [
    "## Task 5\n",
    "\n",
    "Use `A = gen.normal(1, 1, (4,4))` to compute `Sigma = A@A.T` Let $z$ be 4D Normal with covariance `Sigma` and partition it into $z_1$ and $z_2$ both of which are 2D.\n",
    "Compute the conditional variance of $z_1$ given $z_2$\n"
   ]
  },
  {
   "cell_type": "markdown",
   "id": "45380b53-b0a4-4a3a-aad6-6922d638c9bd",
   "metadata": {
    "jp-MarkdownHeadingCollapsed": true,
    "tags": []
   },
   "source": [
    "###"
   ]
  },
  {
   "cell_type": "code",
   "execution_count": null,
   "id": "458d71ec-f0ea-449a-8c64-5a8eb754adbb",
   "metadata": {},
   "outputs": [],
   "source": [
    "A = gen.normal(1, 1, (4,4))\n",
    "Sigma = A@A.T\n",
    "\n",
    "indices_1 = [0, 1]\n",
    "indices_2 = [2, 3]\n",
    "\n",
    "z2indices = np.zeros(4, bool)\n",
    "z1indices = z2indices.copy()\n",
    "\n",
    "z2indices[indices_2] = 1\n",
    "z1indices[indices_1] = 1\n",
    "\n",
    "Sigma11 = Sigma[z1indices, :][:, z1indices]\n",
    "Sigma12 = Sigma[z1indices, :][:, z2indices]\n",
    "Sigma21 = Sigma[z2indices, :][:, z1indices]\n",
    "Sigma22 = Sigma[z2indices, :][:, z2indices]\n",
    "\n",
    "cond_cov = Sigma11 - Sigma12 @ np.linalg.solve(Sigma22, Sigma21)\n",
    "cond_cov"
   ]
  },
  {
   "cell_type": "markdown",
   "id": "6ecf67b0-219b-414d-8c21-57dad99b1204",
   "metadata": {
    "jp-MarkdownHeadingCollapsed": true,
    "tags": []
   },
   "source": [
    "###"
   ]
  },
  {
   "cell_type": "code",
   "execution_count": null,
   "id": "335da833-87db-4509-b557-d6f3720ef3f7",
   "metadata": {},
   "outputs": [],
   "source": [
    "# Example 1\n",
    "\n",
    "Sigma = np.cov(arr, rowvar=False)\n",
    "mu = np.array([1, 3, -4, 2, 3])\n",
    "indices_2 = [2, 3, 4]\n",
    "indices_1 = [0, 1]\n",
    "\n",
    "z2indices = np.zeros(5, bool)\n",
    "z1indices = z2indices.copy()\n",
    "\n",
    "z2indices[indices_2] = 1\n",
    "z1indices[indices_1] = 1\n",
    "\n",
    "Sigma22 = Sigma[z2indices, :][:, z2indices]\n",
    "z2 = gen.multivariate_normal(mean=mu2, cov=Sigma22)\n"
   ]
  },
  {
   "cell_type": "code",
   "execution_count": null,
   "id": "8b59168b-9d5b-4ea4-b382-0c082b4ac0ec",
   "metadata": {},
   "outputs": [],
   "source": [
    "## Example 2\n",
    "mu = np.array([0, 0])\n",
    "Sigma = np.array([[1, 0.9], [0.9, 1]])\n",
    "indices_2 = [1,]\n",
    "indices_1 = [0,]\n",
    "\n",
    "z2indices = np.zeros(2, bool)\n",
    "z1indices = z2indices.copy()\n",
    "\n",
    "z2indices[indices_2] = 1\n",
    "z1indices[indices_1] = 1\n",
    "\n",
    "z2 = np.array([1])#gen.multivariate_normal(mean=mu2, cov=Sigma22)"
   ]
  },
  {
   "cell_type": "code",
   "execution_count": null,
   "id": "224951ae-ed9d-4cbc-8d96-b1320e8b9236",
   "metadata": {},
   "outputs": [],
   "source": [
    "## Example 3\n",
    "mu = np.array([0, 0])\n",
    "Sigma = np.array([[1, 0.1], [0.1, 1]])\n",
    "indices_2 = [1,]\n",
    "indices_1 = [0,]\n",
    "\n",
    "z2 = np.array([1])#gen.multivariate_normal(mean=mu2, cov=Sigma22)\n",
    "z2indices = np.zeros(2, bool)\n",
    "z1indices = z2indices.copy()\n",
    "\n",
    "z2indices[indices_2] = 1\n",
    "z1indices[indices_1] = 1"
   ]
  },
  {
   "cell_type": "code",
   "execution_count": null,
   "id": "139be1b6-8ca1-4748-8370-7a87de0329e2",
   "metadata": {},
   "outputs": [],
   "source": [
    "\n",
    "\n",
    "\n",
    "\n",
    "mu1 = mu[z1indices]\n",
    "mu2 = mu[z2indices]\n",
    "\n",
    "Sigma11 = Sigma[z1indices, :][:, z1indices]\n",
    "Sigma12 = Sigma[z1indices, :][:, z2indices]\n",
    "Sigma21 = Sigma[z2indices, :][:, z1indices]\n",
    "Sigma22 = Sigma[z2indices, :][:, z2indices]\n",
    "\n",
    "cond_mu = mu1 + Sigma12 @ np.linalg.solve(Sigma22, z2 - mu2)\n",
    "\n",
    "cond_cov = Sigma11 - Sigma12 @ np.linalg.solve(Sigma22, Sigma21)"
   ]
  },
  {
   "cell_type": "code",
   "execution_count": null,
   "id": "4d764b02-3ba2-41ee-94e3-8e0b761d9d9e",
   "metadata": {},
   "outputs": [],
   "source": [
    "Sigma12, Sigma22, Sigma21, mu1"
   ]
  },
  {
   "cell_type": "code",
   "execution_count": null,
   "id": "f2069ea2-46e6-4ac7-98d9-8b48d210fe27",
   "metadata": {},
   "outputs": [],
   "source": []
  },
  {
   "cell_type": "code",
   "execution_count": null,
   "id": "adbe76fc-15dd-4c21-84e8-4faf020502bd",
   "metadata": {},
   "outputs": [],
   "source": []
  }
 ],
 "metadata": {
  "kernelspec": {
   "display_name": "Python 3 (ipykernel)",
   "language": "python",
   "name": "python3"
  },
  "language_info": {
   "codemirror_mode": {
    "name": "ipython",
    "version": 3
   },
   "file_extension": ".py",
   "mimetype": "text/x-python",
   "name": "python",
   "nbconvert_exporter": "python",
   "pygments_lexer": "ipython3",
   "version": "3.10.2"
  }
 },
 "nbformat": 4,
 "nbformat_minor": 5
}
