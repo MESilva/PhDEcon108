{
 "cells": [
  {
   "cell_type": "markdown",
   "id": "a6d73f40",
   "metadata": {},
   "source": [
    "# Numpy exercises"
   ]
  },
  {
   "cell_type": "code",
   "execution_count": null,
   "id": "a6736d5b-d76a-4fe1-8b4b-32c04f96674a",
   "metadata": {},
   "outputs": [],
   "source": [
    "# impoprt numpy"
   ]
  },
  {
   "cell_type": "code",
   "execution_count": 2,
   "id": "653c6cb5-4037-47ca-b2c2-924eb87836db",
   "metadata": {},
   "outputs": [],
   "source": [
    "# Create an arbitrary one dimensional array called x"
   ]
  },
  {
   "cell_type": "code",
   "execution_count": 4,
   "id": "c1a70bbb-6f17-454a-bd3c-01911950f971",
   "metadata": {},
   "outputs": [],
   "source": [
    "# Create a new array which consists of the even indices of x you created before"
   ]
  },
  {
   "cell_type": "code",
   "execution_count": 9,
   "id": "3c957244-701c-4a7a-8e19-1d15c0f9587a",
   "metadata": {},
   "outputs": [],
   "source": [
    "# Create a new array in backwards ordering from x"
   ]
  },
  {
   "cell_type": "code",
   "execution_count": 42,
   "id": "5fa4d997-8fd8-4577-bcdc-eaabc820fcb8",
   "metadata": {},
   "outputs": [],
   "source": [
    "# Create a two dimensional array called x"
   ]
  },
  {
   "cell_type": "code",
   "execution_count": 30,
   "id": "dcc84871-ab2a-492b-a435-4742f1ed0989",
   "metadata": {},
   "outputs": [],
   "source": [
    "# Create a new array from x, in which the elements of each row are in reverse order."
   ]
  },
  {
   "cell_type": "code",
   "execution_count": 32,
   "id": "2896bd37-eb30-4bef-a1ac-04a0d777c469",
   "metadata": {},
   "outputs": [],
   "source": [
    "# Another one, where the rows are in reverse order."
   ]
  },
  {
   "cell_type": "code",
   "execution_count": 43,
   "id": "189934a2-8900-4a5c-b818-39aceec53b4f",
   "metadata": {},
   "outputs": [],
   "source": [
    "# Create an array from m, where columns and rows are in reverse order."
   ]
  },
  {
   "cell_type": "code",
   "execution_count": 44,
   "id": "c5dd8df9-d079-447f-8532-201912384cec",
   "metadata": {},
   "outputs": [],
   "source": [
    "# Cut of the first and last row and the first and last column."
   ]
  },
  {
   "cell_type": "code",
   "execution_count": null,
   "id": "21f4cb66-1c17-483f-857f-e09d25e49dfa",
   "metadata": {},
   "outputs": [],
   "source": []
  }
 ],
 "metadata": {
  "kernelspec": {
   "display_name": "Python 3 (ipykernel)",
   "language": "python",
   "name": "python3"
  },
  "language_info": {
   "codemirror_mode": {
    "name": "ipython",
    "version": 3
   },
   "file_extension": ".py",
   "mimetype": "text/x-python",
   "name": "python",
   "nbconvert_exporter": "python",
   "pygments_lexer": "ipython3",
   "version": "3.10.2"
  }
 },
 "nbformat": 4,
 "nbformat_minor": 5
}
