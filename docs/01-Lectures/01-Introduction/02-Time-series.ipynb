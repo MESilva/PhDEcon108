{
 "cells": [
  {
   "cell_type": "markdown",
   "id": "da8bbadd",
   "metadata": {
    "slideshow": {
     "slide_type": "slide"
    }
   },
   "source": [
    "# Time series concepts and models"
   ]
  },
  {
   "cell_type": "markdown",
   "id": "e2fc9296",
   "metadata": {
    "slideshow": {
     "slide_type": "slide"
    }
   },
   "source": [
    "__Definition__: A time series is a collection of random variables indexed by time , i.e. \n",
    "\n",
    "$$ \\{z_t: t =~ ..., -2, -1, ~0,~1, ~2,~ ... \\} = \\{z_t \\}_{t=-\\infty}^{\\infty} $$ (equation-time-series)"
   ]
  },
  {
   "cell_type": "markdown",
   "id": "4cb28bf8",
   "metadata": {
    "slideshow": {
     "slide_type": "notes"
    }
   },
   "source": [
    "In this class we will only deal with discrete time series, i.e. where $t$ is discrete as above. This is common in macroeconomics. In finance, continuous time series are often more useful/relevant. Equation {eq}`equation-time-series` is also refered to stochastic process, or stochastic sequence (some authors reserve sequence for discrete and process -- for continuous time series)"
   ]
  },
  {
   "cell_type": "markdown",
   "id": "970791bc",
   "metadata": {
    "slideshow": {
     "slide_type": "subslide"
    }
   },
   "source": [
    "* unlike cross-sectional data, time series are ordered sequentially - there is _before_ and _after_ and observations can be close or far away from each other. "
   ]
  },
  {
   "cell_type": "markdown",
   "id": "ca7eb49c",
   "metadata": {
    "slideshow": {
     "slide_type": "subslide"
    }
   },
   "source": [
    "* In practice, we work with observed finite realizations of stochastic processes:\n",
    "\n",
    "    $$\\{ z_1, z_2, ..., z_T \\} = \\{z_t\\}_{t=1}^T$$ (equation-finite-time-series)"
   ]
  },
  {
   "cell_type": "markdown",
   "id": "b2656928",
   "metadata": {
    "slideshow": {
     "slide_type": "fragment"
    }
   },
   "source": [
    "* the set $\\{ z_1, z_2, ..., z_T \\}$ is characterized by its joint distribution. "
   ]
  },
  {
   "cell_type": "markdown",
   "id": "34495736",
   "metadata": {
    "slideshow": {
     "slide_type": "fragment"
    }
   },
   "source": [
    "* the distribution of the full stochastic process is specified if for an arbitrary set of indices we know the joint distribution of the respective set"
   ]
  },
  {
   "cell_type": "markdown",
   "id": "2af5c23d",
   "metadata": {
    "slideshow": {
     "slide_type": "fragment"
    }
   },
   "source": [
    "__Example__: $\\{z_t \\}_{t=-\\infty}^{\\infty}$ is a Gaussian process if any finite subset $\\{ z_{t_1}, z_{t_2}, ..., z_{t_k} \\}$ has a joint Gaussian distribution."
   ]
  },
  {
   "cell_type": "markdown",
   "id": "42842114",
   "metadata": {
    "slideshow": {
     "slide_type": "slide"
    }
   },
   "source": [
    "## Stationarity"
   ]
  },
  {
   "cell_type": "markdown",
   "id": "5d5779d9",
   "metadata": {
    "slideshow": {
     "slide_type": "subslide"
    }
   },
   "source": [
    "__Definition__: The process $\\{z_t\\}_{t=1}^T$ is ___strictly (or strongly) stationary___ if its distribution is time invariant. "
   ]
  },
  {
   "cell_type": "markdown",
   "id": "969a6e17",
   "metadata": {
    "slideshow": {
     "slide_type": "fragment"
    }
   },
   "source": [
    "This means that if we take an arbitraty set of time indices ${t_1, t_2, .., t_k}$ for some $k$, the joint distribution of $z_{t_1}, z_{t_2}, ,..., z_{t_k}$ stays the same if we shift all indices by the same number of time units, i.e. it is the same as the joint distribution of  $z_{t'_1}, z_{t'_2}, ,..., z_{t'_k}$ for $t' = t + h$ for any $h$. "
   ]
  },
  {
   "cell_type": "markdown",
   "id": "2e7ba647",
   "metadata": {
    "slideshow": {
     "slide_type": "subslide"
    }
   },
   "source": [
    "__Definition__:  The process $\\{z_t\\}_{t=1}^T$ is ___covariance (or weakly) stationary___ if the first two moments of the joint distribution exist and are time invariant"
   ]
  },
  {
   "cell_type": "markdown",
   "id": "00e607ca",
   "metadata": {
    "slideshow": {
     "slide_type": "fragment"
    }
   },
   "source": [
    "That is, the mean and covariance do not change with the time index:\n",
    "\n",
    "$$\\operatorname{E}z_t=\\operatorname{const} < \\infty$$\n",
    "$$ \\operatorname{cov}(z_t, z_{t+k}) =\\operatorname{cov}(z_{t'}, z_{t'+k}) < \\infty $$ \n",
    "for $t' = t+h$, $k \\geq 0$ "
   ]
  },
  {
   "cell_type": "markdown",
   "id": "3db2f857",
   "metadata": {
    "slideshow": {
     "slide_type": "fragment"
    }
   },
   "source": [
    "```{note}\n",
    "also called __wide-sense stationary__\n",
    "```"
   ]
  },
  {
   "cell_type": "markdown",
   "id": "688f4d69",
   "metadata": {
    "slideshow": {
     "slide_type": "notes"
    }
   },
   "source": [
    "* with $k=0$ the variance of $z_t$ is constant"
   ]
  },
  {
   "cell_type": "markdown",
   "id": "f3e19f52",
   "metadata": {
    "slideshow": {
     "slide_type": "subslide"
    }
   },
   "source": [
    "* stationarity is a form of constancy of the properties of the process\n",
    "* needed in order to be able to learn something about those properties\n",
    "* strong stationarity is usually too strong an assumption\n",
    "* covariance stationarity is typically enough"
   ]
  },
  {
   "cell_type": "markdown",
   "id": "9abe158c",
   "metadata": {
    "slideshow": {
     "slide_type": "subslide"
    }
   },
   "source": [
    "* if the first two moments exist, strong stationarity  implies weak stationarity"
   ]
  },
  {
   "cell_type": "markdown",
   "id": "1475ead8",
   "metadata": {
    "slideshow": {
     "slide_type": "notes"
    }
   },
   "source": [
    "iid $z_t$ with a Cauchy distribution is strictly stationary but has no finite moments and is therefore not weakly stationary."
   ]
  },
  {
   "cell_type": "markdown",
   "id": "fd2970d0",
   "metadata": {
    "slideshow": {
     "slide_type": "fragment"
    }
   },
   "source": [
    "* strong and weak stationarity coincide when $z_t$ is a Gaussian process"
   ]
  },
  {
   "cell_type": "markdown",
   "id": "e7bfe730",
   "metadata": {
    "slideshow": {
     "slide_type": "fragment"
    }
   },
   "source": [
    "* if $z_t$ is iid then it is strongly stationary"
   ]
  },
  {
   "cell_type": "code",
   "execution_count": null,
   "id": "65ef5c3d",
   "metadata": {
    "slideshow": {
     "slide_type": "slide"
    }
   },
   "outputs": [],
   "source": [
    "## Martingale Difference Sequence"
   ]
  },
  {
   "cell_type": "markdown",
   "id": "625c47e8",
   "metadata": {},
   "source": [
    "## Dependence"
   ]
  },
  {
   "cell_type": "code",
   "execution_count": null,
   "id": "4854406e",
   "metadata": {},
   "outputs": [],
   "source": []
  }
 ],
 "metadata": {
  "celltoolbar": "Slideshow",
  "kernelspec": {
   "display_name": "Python 3 (ipykernel)",
   "language": "python",
   "name": "python3"
  },
  "language_info": {
   "codemirror_mode": {
    "name": "ipython",
    "version": 3
   },
   "file_extension": ".py",
   "mimetype": "text/x-python",
   "name": "python",
   "nbconvert_exporter": "python",
   "pygments_lexer": "ipython3",
   "version": "3.10.1"
  }
 },
 "nbformat": 4,
 "nbformat_minor": 5
}
