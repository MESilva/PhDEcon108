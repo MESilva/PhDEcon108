{
 "cells": [
  {
   "cell_type": "markdown",
   "id": "58096b68",
   "metadata": {
    "slideshow": {
     "slide_type": "slide"
    }
   },
   "source": [
    "# Multivariate Normal Distribution"
   ]
  },
  {
   "cell_type": "markdown",
   "id": "16fc7301",
   "metadata": {
    "slideshow": {
     "slide_type": "subslide"
    }
   },
   "source": [
    "## Time series model\n",
    "\n",
    "* a specification of the joint distribution of $\\{z_𝑡\\}$"
   ]
  },
  {
   "cell_type": "markdown",
   "id": "64c9358c",
   "metadata": {},
   "source": []
  },
  {
   "cell_type": "markdown",
   "id": "87c7da29",
   "metadata": {
    "slideshow": {
     "slide_type": "fragment"
    }
   },
   "source": [
    "## Gaussian time series model\n",
    "\n",
    "$$\n",
    "p(z_1, z_2, \\cdots, z_T) = \\mathcal{N}(\\boldsymbol \\mu, \\mathbf{\\Sigma}).\n",
    "$$"
   ]
  },
  {
   "cell_type": "markdown",
   "id": "d6cf92c9",
   "metadata": {
    "slideshow": {
     "slide_type": "subslide"
    }
   },
   "source": [
    "## Gaussian time series model\n",
    "\n",
    "$$\n",
    "p(z_1, z_2, \\cdots, z_T) = \\mathcal{N}(\\boldsymbol \\mu, \\mathbf{\\Sigma}).\n",
    "$$"
   ]
  },
  {
   "cell_type": "markdown",
   "id": "ef167a77",
   "metadata": {
    "slideshow": {
     "slide_type": "fragment"
    }
   },
   "source": [
    "* probability density:\n",
    "\n",
    "$$\n",
    "p\\left(\\boldsymbol z;\\mu,\\Sigma\\right)=\\left(2\\pi\\right)^{-\\left(\\frac{T}{2}\\right)}\\det\\left(\\Sigma\\right)^{-\\frac{1}{2}}\\exp\\left(-.5\\left(\\boldsymbol z-\\mu\\right)^{\\prime}\\Sigma^{-1}\\left(\\boldsymbol z-\\mu\\right)\\right)\n",
    "$$\n",
    "\n",
    "* where $ \\mu=\\operatorname{E} \\boldsymbol z $ is the mean of the random vector $ \\boldsymbol z$ \n",
    "* and\n",
    "$ \\Sigma=\\operatorname{E}\\left(\\boldsymbol z -\\mu\\right)\\left(\\boldsymbol z-\\mu\\right)^\\prime = \\operatorname{cov}(\\boldsymbol z) $ is the covariance matrix of $ \\boldsymbol z $"
   ]
  },
  {
   "cell_type": "markdown",
   "id": "634a6831",
   "metadata": {
    "slideshow": {
     "slide_type": "subslide"
    }
   },
   "source": [
    "### Building Gaussian time series models"
   ]
  },
  {
   "cell_type": "markdown",
   "id": "527d52d7",
   "metadata": {
    "slideshow": {
     "slide_type": "fragment"
    }
   },
   "source": [
    "* Gaussian innovations $\\{\\varepsilon_𝑡\\}$:\n",
    "\n",
    "$$\n",
    "p(\\varepsilon_1, \\varepsilon_2, \\cdots, \\varepsilon_T) = p(\\boldsymbol \\varepsilon)  = \\mathcal{N}(\\boldsymbol 0, \\sigma^2\\mathbf{I}).\n",
    "$$"
   ]
  },
  {
   "cell_type": "markdown",
   "id": "fc990fc3",
   "metadata": {
    "slideshow": {
     "slide_type": "fragment"
    }
   },
   "source": [
    "* affine transformation $\\boldsymbol \\varepsilon \\rightarrow \\boldsymbol z$\n",
    "\n",
    "$$\n",
    "\\boldsymbol z = \\boldsymbol \\mu + \\boldsymbol A \\boldsymbol \\varepsilon \\sim \\mathcal{N}(\\boldsymbol \\mu, \\mathbf{\\Sigma})\n",
    "$$\n",
    "\n",
    "where \n",
    "\n",
    "$$\\mathbf{\\Sigma} = \\sigma^2 \\boldsymbol A \\boldsymbol A'$$"
   ]
  },
  {
   "cell_type": "markdown",
   "id": "c7e1a087",
   "metadata": {
    "slideshow": {
     "slide_type": "subslide"
    }
   },
   "source": [
    "### General result\n",
    "\n",
    "$$\n",
    "\\boldsymbol z \\sim \\mathcal{N}(\\boldsymbol \\mu, \\mathbf{\\Sigma})\n",
    "$$\n",
    "\n",
    "* affine transformation $\\boldsymbol z \\rightarrow \\boldsymbol y$\n",
    "\n",
    "$$\n",
    "\\boldsymbol y = \\boldsymbol d + \\boldsymbol B \\boldsymbol z \\sim \\mathcal{N}(\\boldsymbol d + \\boldsymbol B \\boldsymbol \\mu , \\boldsymbol B \\mathbf{\\Sigma} \\boldsymbol B')\n",
    "$$"
   ]
  },
  {
   "cell_type": "markdown",
   "id": "33cabb0b",
   "metadata": {
    "slideshow": {
     "slide_type": "slide"
    }
   },
   "source": [
    "## The joint, marginal and conditional distributions"
   ]
  },
  {
   "cell_type": "markdown",
   "id": "e745959d",
   "metadata": {
    "slideshow": {
     "slide_type": "subslide"
    }
   },
   "source": [
    "### Joint\n",
    "\n",
    "$$\n",
    "p(\\underbrace{z_1, z_2, \\cdots, z_k}_{\\mathbf{z}_1}, \\underbrace{z_{k+1}, z_{k+2}, \\cdots, z_T}_{\\mathbf{z}_2}) = p(\\mathbf{z}_1, \\mathbf{z}_2) \\sim \\mathcal{N}(\\boldsymbol \\mu, \\mathbf{\\Sigma}).\n",
    "$$\n",
    "\n",
    "with:\n",
    "\n",
    "$$\n",
    "\\boldsymbol \\mu = \n",
    "    \\begin{bmatrix}\n",
    "        \\boldsymbol \\mu_1 \\\\\n",
    "      \\boldsymbol \\mu_2\n",
    "    \\end{bmatrix}\n",
    "  \\; \\; \\text{and} \\; \\;\n",
    "    \\mathbf{\\Sigma} = \n",
    "    \\begin{bmatrix}\n",
    "         \\mathbf{\\Sigma}_{1 1} & \\mathbf{\\Sigma}_{1 2} \\\\\n",
    "         \\mathbf{\\Sigma}_{2 1} & \\mathbf{\\Sigma}_{2 2}\n",
    "    \\end{bmatrix}, \\text{ where} \\; \\; \\mathbf{\\Sigma}_{2 1} = \\mathbf{\\Sigma}_{1 2}^{'}\n",
    "$$"
   ]
  },
  {
   "cell_type": "markdown",
   "id": "06c9c2c5",
   "metadata": {
    "slideshow": {
     "slide_type": "subslide"
    }
   },
   "source": [
    "### Marginal\n",
    "\n",
    "$$\n",
    "p(\\mathbf{z}_1)  = \\int_{\\mathbf{z}_2} p(\\mathbf{z}_1, \\mathbf{z}_2) \\text{d} \\mathbf{z}_2 =\n",
    "       \\mathcal{N}(\\boldsymbol \\mu_1, \\mathbf{\\Sigma}_{1 1}) \\\\\n",
    "p(\\mathbf{z}_2)  = \\int_{\\mathbf{z}_1} p(\\mathbf{z}_1, \\mathbf{z}_2) \\text{d} \\mathbf{z}_1 =\n",
    "       \\mathcal{N}(\\boldsymbol \\mu_2, \\mathbf{\\Sigma}_{2 2})\n",
    "$$"
   ]
  },
  {
   "cell_type": "markdown",
   "id": "bc09bec9",
   "metadata": {
    "slideshow": {
     "slide_type": "subslide"
    }
   },
   "source": [
    "### Conditional \n",
    "\n",
    "\n",
    "$$\n",
    "p(\\mathbf{z}_1 | \\mathbf{z}_2) = \\mathcal{N}(\\underbrace{\\boldsymbol \\mu_1 + \\mathbf{\\Sigma}_{1 2} \\mathbf{\\Sigma}^{-1}_{2 2} (\\mathbf{z}_2 - \\boldsymbol \\mu_2)}_{\\operatorname{E}(\\mathbf{z}_1 | \\mathbf{z}_2)}, \\underbrace{\\mathbf{\\Sigma}_{1 1} - \\mathbf{\\Sigma}_{1 2}\\mathbf{\\Sigma}_{2 2}^{-1}\\mathbf{\\Sigma}_{2 1}}_{\\operatorname{cov}(\\mathbf{z}_1 | \\mathbf{z}_2)}) %\\\\\n",
    "%p(\\mathbf{z}_2 | \\mathbf{z}_1) = \\mathcal{N}(\\boldsymbol \\mu_2 + \\mathbf{\\Sigma}_{2 1} \\mathbf{\\Sigma}^{-1}_{1 1} (\\mathbf{z}_1 - \\boldsymbol \\mu_1), \\mathbf{\\Sigma}_{2 2} - \\mathbf{\\Sigma}_{2 1}\\mathbf{\\Sigma}_{1 1}^{-1}\\mathbf{\\Sigma}_{1 2}) \n",
    "$$\n"
   ]
  },
  {
   "cell_type": "markdown",
   "id": "f8a2c201",
   "metadata": {
    "slideshow": {
     "slide_type": "subslide"
    }
   },
   "source": [
    "* independence\n",
    "\n",
    "$$ \n",
    "\\text{if} \\;\\; \\mathbf{\\Sigma}_{1 2}= \\boldsymbol 0\\\\\n",
    "p(\\mathbf{z}_1 | \\mathbf{z}_2) = \\mathcal{N}(\\boldsymbol \\mu_1 , \\mathbf{\\Sigma}_{1 1}) = p(\\mathbf{z}_1)\n",
    "$$"
   ]
  },
  {
   "cell_type": "markdown",
   "id": "eabb1d20",
   "metadata": {
    "slideshow": {
     "slide_type": "subslide"
    }
   },
   "source": [
    "* information\n",
    "\n",
    "$$\\operatorname{cov}(\\mathbf{z}_1 | \\mathbf{z}_2) = \\mathbf{\\Sigma}_{1 1} - \\mathbf{\\Sigma}_{1 2}\\mathbf{\\Sigma}_{2 2}^{-1}\\mathbf{\\Sigma}_{2 1} \\geq \\boldsymbol 0$$\n",
    "\n",
    "* stronger correlation => more information from $\\mathbf{z}_1$ about $\\mathbf{z}_2$ (and from $\\mathbf{z}_2$ about $\\mathbf{z}_1$)\n"
   ]
  },
  {
   "cell_type": "markdown",
   "id": "4e9b3d7b",
   "metadata": {
    "slideshow": {
     "slide_type": "slide"
    }
   },
   "source": [
    "## Missing values"
   ]
  },
  {
   "cell_type": "markdown",
   "id": "8fbcdaf9",
   "metadata": {
    "slideshow": {
     "slide_type": "fragment"
    }
   },
   "source": [
    "* Suppose we have a Gaussian model for $\\mathbf{z}$\n",
    "\n",
    "$$\n",
    "\\mathbf{z} \\sim \\mathcal{N}(\\boldsymbol \\mu , \\mathbf{\\Sigma} )\n",
    "$$"
   ]
  },
  {
   "cell_type": "markdown",
   "id": "b5a25212",
   "metadata": {
    "slideshow": {
     "slide_type": "fragment"
    }
   },
   "source": [
    "* but some elements of $\\mathbf{z}$ are not observed, i.e. we observe a vector $\\mathbf{z}_{1}$"
   ]
  },
  {
   "cell_type": "markdown",
   "id": "8f2246eb",
   "metadata": {
    "slideshow": {
     "slide_type": "subslide"
    }
   },
   "source": [
    "* for example\n",
    "\n",
    "$$\n",
    "\\mathbf{z}=\\left[\\begin{array}{c}\n",
    "z_{1}\\\\\n",
    "z_{2}\\\\\n",
    "\\vdots\\\\\n",
    "z_{k-1}\\\\\n",
    "z_{k}\\\\\n",
    "z_{k+1}\\\\\n",
    "\\vdots\\\\\n",
    "z_{T-2}\\\\\n",
    "z_{T-1}\\\\\n",
    "z_{T}\n",
    "\\end{array}\\right], \\quad\n",
    "\\mathbf{z}_{1}=\\left[\\begin{array}{c}\n",
    "*\\\\\n",
    "z_{2}\\\\\n",
    "\\vdots\\\\\n",
    "z_{k-1}\\\\\n",
    "*\\\\\n",
    "z_{k+1}\\\\\n",
    "\\vdots\\\\\n",
    "z_{T-2}\\\\\n",
    "*\\\\\n",
    "*\\\\\n",
    "\\end{array}\\right]\n",
    "$$"
   ]
  },
  {
   "cell_type": "markdown",
   "id": "19d98a05",
   "metadata": {
    "slideshow": {
     "slide_type": "subslide"
    }
   },
   "source": [
    "* mixed frequency\n",
    "    + (univariate) GDP at annual, GDP at quarterly\n",
    "    + (multivariate) GDP at annual, inflation at monthly\n",
    "    + etc.\n",
    "    "
   ]
  },
  {
   "cell_type": "markdown",
   "id": "3f5552ad",
   "metadata": {
    "slideshow": {
     "slide_type": "fragment"
    }
   },
   "source": [
    "* forecasting"
   ]
  },
  {
   "cell_type": "markdown",
   "id": "ae29c435",
   "metadata": {
    "slideshow": {
     "slide_type": "fragment"
    }
   },
   "source": [
    "* backcasting"
   ]
  },
  {
   "cell_type": "markdown",
   "id": "bab975bd",
   "metadata": {
    "slideshow": {
     "slide_type": "fragment"
    }
   },
   "source": [
    "* unobserved (latent) variables\n",
    "    + state of the economy\n",
    "    + natural rates (interest, unemployment)\n",
    "    + economic shocks"
   ]
  },
  {
   "cell_type": "markdown",
   "id": "49356b30",
   "metadata": {
    "slideshow": {
     "slide_type": "subslide"
    }
   },
   "source": [
    "### observed elements $\\mathbf{z}_{1}$, unobserved elements $\\mathbf{z}_{2}$"
   ]
  },
  {
   "cell_type": "markdown",
   "id": "f171385e",
   "metadata": {
    "slideshow": {
     "slide_type": "fragment"
    }
   },
   "source": [
    "* $\\mathbf{z}_{1}, ~\\mathbf{z}_{2}$ - jointly Gaussian\n",
    "\n",
    "* marginal distribution of $\\mathbf{z}_{1}$\n",
    "\n",
    "$$\n",
    "p(\\mathbf{z}_{1})  \\sim \\mathcal{N}( \\boldsymbol \\mu_{1} , \\mathbf{\\Sigma}_{1})\n",
    "$$"
   ]
  },
  {
   "cell_type": "markdown",
   "id": "938b7627",
   "metadata": {
    "slideshow": {
     "slide_type": "subslide"
    }
   },
   "source": [
    "__example__: \n",
    "\n",
    "$$\n",
    "\\mathbf{z} =\\left[\\begin{array}{c}\n",
    "z_{1}\\\\\n",
    "z_{2}\\\\\n",
    "z_{3}\\\\\n",
    "\\end{array}\\right]\n",
    ", \\quad\n",
    "\\mathbf{z}_{1} =\\left[\\begin{array}{c}\n",
    "z_{1}\\\\\n",
    "z_{3}\\\\\n",
    "\\end{array}\\right], \\quad\n",
    "\\mathbf{z}_{2 }= \\left[\\begin{array}{c}\n",
    "z_{2}\n",
    "\\end{array}\\right]   \n",
    "$$"
   ]
  },
  {
   "cell_type": "markdown",
   "id": "1d56ca01",
   "metadata": {
    "slideshow": {
     "slide_type": "fragment"
    }
   },
   "source": [
    "$$\n",
    "\\mathbf{z}_{1} = \n",
    " \\begin{bmatrix}\n",
    "         1 & 0 & 0\\\\\n",
    "         0 & 0 & 1\n",
    "    \\end{bmatrix} \n",
    "\\left[\\begin{array}{c}\n",
    "z_{1}\\\\\n",
    "z_{2}\\\\\n",
    "z_{3}\\\\\n",
    "\\end{array}\\right] = \\boldsymbol B_1 \\mathbf{z}\n",
    "$$"
   ]
  },
  {
   "cell_type": "markdown",
   "id": "5aac827d",
   "metadata": {
    "slideshow": {
     "slide_type": "fragment"
    }
   },
   "source": [
    "$$\n",
    "\\mathbf{z}_{2} = \n",
    " \\begin{bmatrix}\n",
    "         0 & 1 & 0\n",
    "    \\end{bmatrix} \n",
    "\\left[\\begin{array}{c}\n",
    "z_{1}\\\\\n",
    "z_{2}\\\\\n",
    "z_{3}\\\\\n",
    "\\end{array}\\right] = \\boldsymbol B_2 \\mathbf{z}   \n",
    "$$"
   ]
  },
  {
   "cell_type": "markdown",
   "id": "8e265777",
   "metadata": {
    "slideshow": {
     "slide_type": "subslide"
    }
   },
   "source": [
    "* conditional distribution of $\\mathbf{z}_{2}$ given $\\mathbf{z}_{1}$\n",
    "\n",
    "$$\n",
    "p(\\mathbf{z}_2 | \\mathbf{z}_1) = \\mathcal{N}(\\underbrace{\\boldsymbol \\mu_2 + \\mathbf{\\Sigma}_{2 1} \\mathbf{\\Sigma}^{-1}_{1 1} (\\mathbf{z}_1 - \\boldsymbol \\mu_1)}_{\\operatorname{E}(\\mathbf{z}_2 | \\mathbf{z}_1)}, \\underbrace{\\mathbf{\\Sigma}_{2 2} - \\mathbf{\\Sigma}_{2 1}\\mathbf{\\Sigma}_{1 1}^{-1}\\mathbf{\\Sigma}_{1 2}}_{\\operatorname{cov}(\\mathbf{z}_2 | \\mathbf{z}_1)}) \n",
    "$$"
   ]
  },
  {
   "cell_type": "markdown",
   "id": "f6a07236",
   "metadata": {
    "slideshow": {
     "slide_type": "fragment"
    }
   },
   "source": [
    "* $\\operatorname{E}(\\mathbf{z}_2 | \\mathbf{z}_1)$ - optimal forecast of $\\mathbf{z}_{2}$ given $\\mathbf{z}_{1}$\n",
    "* $\\operatorname{cov}(\\mathbf{z}_2 | \\mathbf{z}_1)$ - variance of the optimal forecast"
   ]
  },
  {
   "cell_type": "code",
   "execution_count": null,
   "id": "3f0781b7",
   "metadata": {},
   "outputs": [],
   "source": []
  }
 ],
 "metadata": {
  "celltoolbar": "Slideshow",
  "date": 1641810481.278955,
  "filename": "multivariate_normal.md",
  "kernelspec": {
   "display_name": "Python 3 (ipykernel)",
   "language": "python",
   "name": "python3"
  },
  "language_info": {
   "codemirror_mode": {
    "name": "ipython",
    "version": 3
   },
   "file_extension": ".py",
   "mimetype": "text/x-python",
   "name": "python",
   "nbconvert_exporter": "python",
   "pygments_lexer": "ipython3",
   "version": "3.10.1"
  },
  "title": "Multivariate Normal Distribution"
 },
 "nbformat": 4,
 "nbformat_minor": 5
}
