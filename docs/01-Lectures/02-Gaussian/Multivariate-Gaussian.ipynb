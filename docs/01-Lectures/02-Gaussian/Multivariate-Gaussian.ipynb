{
 "cells": [
  {
   "cell_type": "code",
   "execution_count": 1,
   "id": "7315282f-b031-4b29-927e-0a6f773c3d82",
   "metadata": {},
   "outputs": [],
   "source": [
    "import numpy as np\n",
    "from scipy import stats\n",
    "from scipy.stats import multivariate_normal"
   ]
  },
  {
   "cell_type": "markdown",
   "id": "bd9ce2cb-9f24-47ff-8921-9c4fcf56ff0d",
   "metadata": {},
   "source": [
    "## univariate normal"
   ]
  },
  {
   "cell_type": "markdown",
   "id": "60b01c53-7a4a-4e46-9f56-9e4d940a850d",
   "metadata": {},
   "source": [
    "* define a normal random variable with mean=2 and std=3 and draw an iid sample of size 100 "
   ]
  },
  {
   "cell_type": "code",
   "execution_count": 2,
   "id": "05f6b829-6aa7-4061-ac95-626f3ddc562f",
   "metadata": {},
   "outputs": [],
   "source": [
    "mu = 2\n",
    "sigma = 3\n",
    "N = 100\n",
    "\n",
    "normal_rv = stats.norm(loc=mu, scale=sigma) \n",
    "data = normal_rv.rvs(size=N)"
   ]
  },
  {
   "cell_type": "markdown",
   "id": "c2303de5-fb33-453e-9543-189e66f5138f",
   "metadata": {},
   "source": [
    "* log of probability density function at data"
   ]
  },
  {
   "cell_type": "code",
   "execution_count": 3,
   "id": "f6831924-4df7-49f2-a826-7c50c8916167",
   "metadata": {},
   "outputs": [],
   "source": [
    "log_pdf = normal_rv.logpdf(data) "
   ]
  },
  {
   "cell_type": "markdown",
   "id": "1f7d31ed-f7cc-4958-9690-a2e3dba89774",
   "metadata": {},
   "source": [
    "* this is a vector of the log pdfs of each data point"
   ]
  },
  {
   "cell_type": "code",
   "execution_count": 4,
   "id": "eaa5d25a-5ff3-4fec-9d13-bbe523f9ccdc",
   "metadata": {},
   "outputs": [
    {
     "data": {
      "text/plain": [
       "(100,)"
      ]
     },
     "execution_count": 4,
     "metadata": {},
     "output_type": "execute_result"
    }
   ],
   "source": [
    "log_pdf.shape "
   ]
  },
  {
   "cell_type": "markdown",
   "id": "7b50c1b2-2685-4c6e-b513-b804763b2421",
   "metadata": {},
   "source": [
    "* because of independece, the log pdf of the joint distribution is equal to the sum of the individual log pdfs"
   ]
  },
  {
   "cell_type": "code",
   "execution_count": 5,
   "id": "17d2f9fd-1072-421f-b207-ec7544606e9a",
   "metadata": {},
   "outputs": [
    {
     "data": {
      "text/plain": [
       "-251.3357655270548"
      ]
     },
     "execution_count": 5,
     "metadata": {},
     "output_type": "execute_result"
    }
   ],
   "source": [
    "log_pdf.sum()"
   ]
  },
  {
   "cell_type": "markdown",
   "id": "13e97780-bae3-4552-af6c-86785b8089f5",
   "metadata": {},
   "source": [
    "* if instead of taking the log we compute the joint pdf itself, we have to multiply the individual pdfs"
   ]
  },
  {
   "cell_type": "code",
   "execution_count": 6,
   "id": "57d98add-c4ee-4cd6-9f0e-2aa403c8491a",
   "metadata": {},
   "outputs": [
    {
     "data": {
      "text/plain": [
       "7.018817119122614e-110"
      ]
     },
     "execution_count": 6,
     "metadata": {},
     "output_type": "execute_result"
    }
   ],
   "source": [
    "pdf = normal_rv.pdf(data)\n",
    "L = np.prod(pdf)\n",
    "L"
   ]
  },
  {
   "cell_type": "markdown",
   "id": "a7a38a6c-0ef4-4093-a6f6-0b571a04071e",
   "metadata": {},
   "source": [
    "* This is an example of numerical underflow - because we multiply a large number of small (but all different form zero) numbers, the value of the product is extremely small and impossible to represent very precisely by the computer, and become indistiguishable from zero. This is why when we work with probability densities, likelihoods, etc we always use logs."
   ]
  },
  {
   "cell_type": "markdown",
   "id": "c12e3bab-4ce3-4936-b77c-e876c0249a45",
   "metadata": {},
   "source": [
    "## multivariate normal "
   ]
  },
  {
   "cell_type": "markdown",
   "id": "61240120-bbe7-40c2-a4b8-223194d803a7",
   "metadata": {},
   "source": [
    "* A sample of several independent univariate normal random variables is equivalent to a __single__ draw from a multivariate normal distribution with a __diagonal__ covariance matrix"
   ]
  },
  {
   "cell_type": "code",
   "execution_count": 7,
   "id": "6c59c094-32a5-4947-ac4a-0239f23a3f3c",
   "metadata": {},
   "outputs": [],
   "source": [
    "Sigma = (sigma**2)*np.eye(100) # covariance matrix of the joint distribution\n",
    "Mu = mu*np.ones((100,1)) # mean vector of the joint distribution"
   ]
  },
  {
   "cell_type": "markdown",
   "id": "0b775902-2cd6-46c2-b4c8-9e4aae1b5181",
   "metadata": {},
   "source": [
    "* evaluate the log likelihood"
   ]
  },
  {
   "cell_type": "code",
   "execution_count": 8,
   "id": "da638b67-d00e-4a52-8e1f-129edbf47b95",
   "metadata": {},
   "outputs": [
    {
     "data": {
      "text/plain": [
       "-251.33576552705463"
      ]
     },
     "execution_count": 8,
     "metadata": {},
     "output_type": "execute_result"
    }
   ],
   "source": [
    "yvec = data.reshape(-1,1) # make into a (T X 1) vector\n",
    "resid = yvec - Mu\n",
    "\n",
    "log_likelihood = -0.5 * (\n",
    "        N * np.log(2 * np.pi)\n",
    "        + np.log(np.linalg.det(Sigma))\n",
    "        + resid.T @ np.linalg.inv(Sigma) @ resid\n",
    "    ).squeeze() # without squeeze the result is a 2 dimensional array\n",
    "\n",
    "log_likelihood"
   ]
  },
  {
   "cell_type": "markdown",
   "id": "4efae03f-ca5a-4c5f-967b-3bffad57b2a4",
   "metadata": {},
   "source": [
    "* using the `scipy` function"
   ]
  },
  {
   "cell_type": "code",
   "execution_count": 9,
   "id": "72ba3178-acd1-4af4-8223-cc9b31905ab2",
   "metadata": {},
   "outputs": [
    {
     "data": {
      "text/plain": [
       "-251.33576552705475"
      ]
     },
     "execution_count": 9,
     "metadata": {},
     "output_type": "execute_result"
    }
   ],
   "source": [
    "llf = stats.multivariate_normal.logpdf(data, mean=Mu.flatten(), cov=Sigma)\n",
    "llf"
   ]
  },
  {
   "cell_type": "code",
   "execution_count": 10,
   "id": "aced8916-2106-4f2d-8873-0f06f99a6d8e",
   "metadata": {},
   "outputs": [],
   "source": [
    "\n",
    "SEED = 123456789\n",
    "\n",
    "rng = np.random.default_rng(SEED)"
   ]
  },
  {
   "cell_type": "code",
   "execution_count": 11,
   "id": "55fdd672-48c2-4464-968c-7294a782dd65",
   "metadata": {},
   "outputs": [],
   "source": [
    "T = 4\n",
    "RHO = 0.5\n",
    "K = 100"
   ]
  },
  {
   "cell_type": "code",
   "execution_count": 48,
   "id": "6dad4e0b-c267-4925-ad53-26c6f022c508",
   "metadata": {},
   "outputs": [],
   "source": [
    "Sigma_rho = np.eye(T) + RHO * (1 - np.eye(T))\n",
    "mu = rng.multivariate_normal(np.zeros(T), Sigma_rho, size=K)"
   ]
  },
  {
   "cell_type": "code",
   "execution_count": 49,
   "id": "daaaffc9-6262-4f63-8731-396f181e2716",
   "metadata": {},
   "outputs": [
    {
     "data": {
      "text/plain": [
       "(100, 4)"
      ]
     },
     "execution_count": 49,
     "metadata": {},
     "output_type": "execute_result"
    }
   ],
   "source": [
    "mu.shape"
   ]
  },
  {
   "cell_type": "code",
   "execution_count": 50,
   "id": "25f4da81-5f3c-46ad-8beb-5b104f799bc0",
   "metadata": {},
   "outputs": [
    {
     "data": {
      "text/plain": [
       "array([[0.94106146, 0.43707174, 0.39049117, 0.36901824],\n",
       "       [0.43707174, 0.79948925, 0.45743763, 0.34374931],\n",
       "       [0.39049117, 0.45743763, 1.00450303, 0.28189997],\n",
       "       [0.36901824, 0.34374931, 0.28189997, 0.78824764]])"
      ]
     },
     "execution_count": 50,
     "metadata": {},
     "output_type": "execute_result"
    }
   ],
   "source": [
    "np.cov(mu, rowvar=False)"
   ]
  },
  {
   "cell_type": "code",
   "execution_count": 51,
   "id": "bcbadc30-7221-4b5d-9f37-06c7b95ac651",
   "metadata": {},
   "outputs": [
    {
     "data": {
      "text/plain": [
       "array([[1.        , 0.50389195, 0.40163042, 0.42845725],\n",
       "       [0.50389195, 1.        , 0.51044616, 0.43301624],\n",
       "       [0.40163042, 0.51044616, 1.        , 0.31680211],\n",
       "       [0.42845725, 0.43301624, 0.31680211, 1.        ]])"
      ]
     },
     "execution_count": 51,
     "metadata": {},
     "output_type": "execute_result"
    }
   ],
   "source": [
    "np.corrcoef(mu, rowvar=False)"
   ]
  },
  {
   "cell_type": "code",
   "execution_count": 53,
   "id": "7d2afe9e-59fe-4a89-94cc-c2f089f8388f",
   "metadata": {},
   "outputs": [
    {
     "data": {
      "text/plain": [
       "array([[1., 0.],\n",
       "       [0., 1.]])"
      ]
     },
     "execution_count": 53,
     "metadata": {},
     "output_type": "execute_result"
    }
   ],
   "source": [
    "np.diagflat(np.ones((2,1)))"
   ]
  },
  {
   "cell_type": "code",
   "execution_count": 55,
   "id": "f922cc0d-f449-45a1-b0e8-c6e8307eb458",
   "metadata": {},
   "outputs": [
    {
     "data": {
      "text/plain": [
       "array([[1., 0.],\n",
       "       [0., 1.]])"
      ]
     },
     "execution_count": 55,
     "metadata": {},
     "output_type": "execute_result"
    }
   ],
   "source": [
    "np.diagflat(np.ones((2,1)))"
   ]
  },
  {
   "cell_type": "code",
   "execution_count": null,
   "id": "cdb3563a-c391-4334-bf79-cf6cf8917fb7",
   "metadata": {},
   "outputs": [],
   "source": []
  },
  {
   "cell_type": "code",
   "execution_count": null,
   "id": "b158a7d5-dfd8-42e0-8bd2-0d581f92d401",
   "metadata": {},
   "outputs": [],
   "source": []
  },
  {
   "cell_type": "code",
   "execution_count": null,
   "id": "7b736323-0874-4500-ba33-8441bd368198",
   "metadata": {},
   "outputs": [],
   "source": []
  },
  {
   "cell_type": "code",
   "execution_count": null,
   "id": "2857398c-0e05-4806-b401-34ea3f24edd8",
   "metadata": {},
   "outputs": [],
   "source": []
  },
  {
   "cell_type": "code",
   "execution_count": null,
   "id": "b23bb42a-3c0e-4fc1-92cb-fa4eea1136ef",
   "metadata": {},
   "outputs": [],
   "source": []
  }
 ],
 "metadata": {
  "kernelspec": {
   "display_name": "Python 3 (ipykernel)",
   "language": "python",
   "name": "python3"
  },
  "language_info": {
   "codemirror_mode": {
    "name": "ipython",
    "version": 3
   },
   "file_extension": ".py",
   "mimetype": "text/x-python",
   "name": "python",
   "nbconvert_exporter": "python",
   "pygments_lexer": "ipython3",
   "version": "3.7.12"
  }
 },
 "nbformat": 4,
 "nbformat_minor": 5
}
