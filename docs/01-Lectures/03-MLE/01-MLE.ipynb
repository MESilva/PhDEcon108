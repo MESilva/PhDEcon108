{
 "cells": [
  {
   "cell_type": "markdown",
   "id": "650764aa",
   "metadata": {
    "slideshow": {
     "slide_type": "slide"
    }
   },
   "source": [
    "# Maximum likelihood estimation"
   ]
  },
  {
   "cell_type": "markdown",
   "id": "dcabfb81",
   "metadata": {
    "slideshow": {
     "slide_type": "subslide"
    }
   },
   "source": [
    "## Time series model\n",
    "\n",
    "* a specification of the joint distribution of $\\{z_𝑡\\}$\n",
    "\n",
    "$$ p(\\mathbf{z}; \\boldsymbol \\theta) $$"
   ]
  },
  {
   "cell_type": "markdown",
   "id": "712b66e8",
   "metadata": {
    "slideshow": {
     "slide_type": "fragment"
    }
   },
   "source": [
    "__definition:__ Likelihood function\n",
    "\n",
    "$$ \\mathcal{L}(\\boldsymbol \\theta | \\mathbf{z}) = p(\\mathbf{z}; \\boldsymbol \\theta)  $$\n",
    "\n",
    "```{note}\n",
    "The likelihood function is identical in functional form to the PDF of $\\mathbf{z}$, $p(\\mathbf{z};\\boldsymbol \\theta)$, but is interpreted as a function of $\\boldsymbol \\theta$, for a given value of $\\mathbf{z}$, rather than as a function of $\\mathbf{z}$ for a given value of $\\boldsymbol \\theta$.\n",
    "```"
   ]
  },
  {
   "cell_type": "markdown",
   "id": "53ab5295",
   "metadata": {
    "slideshow": {
     "slide_type": "fragment"
    }
   },
   "source": [
    "__definition:__ Log-likelihood function\n",
    "\n",
    "$$ \\ell(\\boldsymbol \\theta | \\mathbf{z}) =  \\operatorname{log}(\\mathcal{L}(\\boldsymbol \\theta | \\mathbf{z})$$\n"
   ]
  },
  {
   "cell_type": "markdown",
   "id": "7cdafc7e",
   "metadata": {
    "slideshow": {
     "slide_type": "subslide"
    }
   },
   "source": [
    "## The maximum likelihood estimator (MLE)\n",
    "\n",
    "$$\n",
    "\\begin{align}\n",
    "\\hat {\\boldsymbol \\theta} &= \\underset{\\boldsymbol \\theta}{\\mathrm{argmax}}~~\\mathcal{L}(\\boldsymbol \\theta | \\mathbf{z}) \\\\\n",
    "                          &= \\underset{\\boldsymbol \\theta}{\\mathrm{argmax}}~~\\ell(\\boldsymbol \\theta | \\mathbf{z}) \n",
    "\\end{align}                          \n",
    "$$\n",
    "\n",
    "### Rationale for MLE \n",
    "For a given $\\boldsymbol \\theta$, the value of $p(\\mathbf{z}; \\boldsymbol \\theta) d \\mathbf{z}$ evaluated at the observed sample $\\mathbf{z}$ tells us what is the probability of observing a sample in a small neighborhood around the actual $\\mathbf{z}$ for that value of $\\boldsymbol \\theta$. Compared to the MLE $\\hat {\\boldsymbol \\theta}$, any other value of $\\boldsymbol \\theta$ is associated with a pdf that assigns a lower probability of observing such a sample. Therefore, $\\hat {\\boldsymbol \\theta}$ is the value most supported by the observed sample."
   ]
  },
  {
   "cell_type": "markdown",
   "id": "fb4fd3fa",
   "metadata": {
    "slideshow": {
     "slide_type": "fragment"
    }
   },
   "source": [
    "```{note} \n",
    "Difference between ML __estimator__ and ML __estimate__:\n",
    "* estimator: $\\hat {\\boldsymbol \\theta}$ as a function of a generic sample $\\mathbf{z}$\n",
    "* estimate: the value $\\hat {\\boldsymbol \\theta}$ at a particular sample $\\mathbf{z}$\n",
    "```"
   ]
  },
  {
   "cell_type": "markdown",
   "id": "791496fb",
   "metadata": {
    "slideshow": {
     "slide_type": "slide"
    }
   },
   "source": [
    "### Score\n",
    "\n",
    "$$ \\boldsymbol S_{T}(\\boldsymbol \\theta) = \\frac{\\partial}{\\partial \\boldsymbol \\theta } \\ell(\\boldsymbol \\theta | \\mathbf{z})  $$"
   ]
  },
  {
   "cell_type": "markdown",
   "id": "7757a824",
   "metadata": {
    "slideshow": {
     "slide_type": "fragment"
    }
   },
   "source": [
    "* describes the steepness of log-likelihood function"
   ]
  },
  {
   "cell_type": "markdown",
   "id": "3a8642d2",
   "metadata": {
    "slideshow": {
     "slide_type": "fragment"
    }
   },
   "source": [
    "* MLE $\\hat {\\boldsymbol \\theta}$ solves \n",
    "\n",
    "$$ \\boldsymbol S_{T}(\\hat {\\boldsymbol \\theta}) = \\boldsymbol 0 $$"
   ]
  },
  {
   "cell_type": "markdown",
   "id": "12687361",
   "metadata": {
    "slideshow": {
     "slide_type": "subslide"
    }
   },
   "source": [
    "### Observed Fisher information\n",
    "\n",
    "$$\n",
    "\\begin{align}\n",
    "\\boldsymbol I_{T}(\\hat {\\boldsymbol \\theta})  &= -\\frac{\\partial}{\\partial \\boldsymbol \\theta } \\boldsymbol S_{T}(\\boldsymbol \\theta) |_{\\hat {\\boldsymbol \\theta}} \\\\\n",
    "&= -\\frac{\\partial^2}{\\partial \\boldsymbol \\theta \\partial \\boldsymbol \\theta'} \\ell(\\boldsymbol \\theta | \\mathbf{z})|_{\\hat {\\boldsymbol \\theta}}\n",
    "\\end{align}\n",
    "$$"
   ]
  },
  {
   "cell_type": "markdown",
   "id": "23fa88a0",
   "metadata": {
    "slideshow": {
     "slide_type": "fragment"
    }
   },
   "source": [
    "* describes the curvature of the log-likelihood function at the maximum $\\hat {\\boldsymbol \\theta}$ "
   ]
  },
  {
   "cell_type": "markdown",
   "id": "2ff68ba5",
   "metadata": {
    "slideshow": {
     "slide_type": "fragment"
    }
   },
   "source": [
    "* measures how much information about $\\boldsymbol \\theta$ we have at the MLE."
   ]
  },
  {
   "cell_type": "markdown",
   "id": "4a3f3388",
   "metadata": {
    "slideshow": {
     "slide_type": "subslide"
    }
   },
   "source": [
    "### Expected Fisher information\n",
    "\n",
    "$$\\mathcal{I}_{T}(\\boldsymbol \\theta)  = \\operatorname{E}\\left[ \\boldsymbol S_{T}(\\boldsymbol \\theta)  \\boldsymbol S_{T}(\\boldsymbol \\theta)' \\right] $$"
   ]
  },
  {
   "cell_type": "markdown",
   "id": "35c2474d",
   "metadata": {
    "slideshow": {
     "slide_type": "subslide"
    }
   },
   "source": [
    "$$\\mathcal{I}_{T}(\\boldsymbol \\theta)  = -\\operatorname{E}\\left[ \\frac{\\partial}{\\partial \\boldsymbol \\theta } \\boldsymbol S_{T}(\\boldsymbol \\theta)\\right] = \\operatorname{E}\\left[ \\boldsymbol I_{T}(\\boldsymbol \\theta)   \\right]$$"
   ]
  },
  {
   "cell_type": "markdown",
   "id": "07d8374e",
   "metadata": {
    "slideshow": {
     "slide_type": "fragment"
    }
   },
   "source": [
    "* expected curvature of the log-likelihood function"
   ]
  },
  {
   "cell_type": "markdown",
   "id": "cb0371af",
   "metadata": {
    "slideshow": {
     "slide_type": "fragment"
    }
   },
   "source": [
    "* measures how much information about $\\boldsymbol \\theta$ we can expect to have"
   ]
  },
  {
   "cell_type": "markdown",
   "id": "55ed1dcb",
   "metadata": {
    "slideshow": {
     "slide_type": "slide"
    }
   },
   "source": [
    "### Consistency and asymptotic normality of MLE"
   ]
  },
  {
   "cell_type": "markdown",
   "id": "5bd3e111",
   "metadata": {
    "slideshow": {
     "slide_type": "subslide"
    }
   },
   "source": [
    "__Assumption__: $\\mathbf{z}$ is a draw from $ p(\\mathbf{z}; \\boldsymbol \\theta_0)$, $\\boldsymbol \\theta_0$ - _true_ value of $\\boldsymbol \\theta$"
   ]
  },
  {
   "cell_type": "markdown",
   "id": "88e1f5e2",
   "metadata": {
    "slideshow": {
     "slide_type": "fragment"
    }
   },
   "source": [
    "* $\\hat {\\boldsymbol \\theta}$ is consitent estimator of $\\boldsymbol \\theta_0$\n",
    "\n",
    "$$ \\hat {\\boldsymbol \\theta} \\longrightarrow \\boldsymbol \\theta_0 $$"
   ]
  },
  {
   "cell_type": "markdown",
   "id": "11bf2993",
   "metadata": {
    "slideshow": {
     "slide_type": "fragment"
    }
   },
   "source": [
    "*  $\\hat {\\boldsymbol \\theta}$ is asymptotically normally distributed\n",
    "\n",
    "$$ \\sqrt{T} \\left(\\hat {\\boldsymbol \\theta} - \\boldsymbol \\theta_0 \\right) \\longrightarrow \\mathcal{N}\\left(\\boldsymbol 0, \\mathcal{I}^{-1}_{\\infty}(\\boldsymbol \\theta_0) \\right) $$\n",
    "\n",
    "where \n",
    "\n",
    "$$\\mathcal{I}_{\\infty}(\\boldsymbol \\theta) = \\underset{T\\rightarrow \\infty}{\\operatorname{lim}} \\frac{1}{T}\\mathcal{I}_{T}(\\boldsymbol \\theta)$$"
   ]
  },
  {
   "cell_type": "markdown",
   "id": "8d7ca851",
   "metadata": {
    "slideshow": {
     "slide_type": "subslide"
    }
   },
   "source": [
    "$$ \\hat {\\boldsymbol \\theta} \\overset{a}{\\sim} \\mathcal{N}\\left(\\boldsymbol \\theta_0, \\frac{1}{T}\\mathcal{I}^{-1}_{\\infty}(\\boldsymbol \\theta_0) \\right) $$"
   ]
  }
 ],
 "metadata": {
  "celltoolbar": "Slideshow",
  "kernelspec": {
   "display_name": "Python 3 (ipykernel)",
   "language": "python",
   "name": "python3"
  },
  "language_info": {
   "codemirror_mode": {
    "name": "ipython",
    "version": 3
   },
   "file_extension": ".py",
   "mimetype": "text/x-python",
   "name": "python",
   "nbconvert_exporter": "python",
   "pygments_lexer": "ipython3",
   "version": "3.10.1"
  }
 },
 "nbformat": 4,
 "nbformat_minor": 5
}
