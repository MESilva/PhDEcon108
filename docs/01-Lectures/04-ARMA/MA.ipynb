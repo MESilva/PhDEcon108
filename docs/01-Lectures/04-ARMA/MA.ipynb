{
 "cells": [
  {
   "cell_type": "code",
   "execution_count": 20,
   "id": "527454f0-e3e6-49fe-a048-0e91382a0d86",
   "metadata": {},
   "outputs": [],
   "source": [
    "import statsmodels.api as sm\n",
    "import numpy as np\n",
    "from statsmodels.tsa.arima.model import ARIMA\n",
    "import pandas as pd"
   ]
  },
  {
   "cell_type": "code",
   "execution_count": 21,
   "id": "caf3c1d5-636c-4e5c-9d37-7684a7486b4d",
   "metadata": {},
   "outputs": [],
   "source": [
    "url = 'https://raw.githubusercontent.com/jlevendi/Time-Series-Econometrics/master/book%20data%20for%20distribution/CSV_data/MAexamples.csv'\n",
    "df = pd.read_csv(filepath_or_buffer=url, sep='\\t', index_col=0)\n",
    "data = df['X'].values"
   ]
  },
  {
   "cell_type": "code",
   "execution_count": 22,
   "id": "e3cd1125-01ba-4b39-8001-0b0eac5de25a",
   "metadata": {},
   "outputs": [
    {
     "data": {
      "text/plain": [
       "array([-0.49677348,  0.57997056,  0.47650595, ..., -0.92384487,\n",
       "       -1.00005374, -0.59472139])"
      ]
     },
     "execution_count": 22,
     "metadata": {},
     "output_type": "execute_result"
    }
   ],
   "source": [
    "data"
   ]
  },
  {
   "cell_type": "code",
   "execution_count": 23,
   "id": "9ef50378-9172-4de4-acc8-ac058aa0eb21",
   "metadata": {},
   "outputs": [
    {
     "name": "stdout",
     "output_type": "stream",
     "text": [
      "                               SARIMAX Results                                \n",
      "==============================================================================\n",
      "Dep. Variable:                      y   No. Observations:                 3000\n",
      "Model:                 ARIMA(0, 0, 1)   Log Likelihood               -4230.101\n",
      "Date:                Fri, 04 Feb 2022   AIC                           8464.202\n",
      "Time:                        18:37:38   BIC                           8476.214\n",
      "Sample:                             0   HQIC                          8468.523\n",
      "                               - 3000                                         \n",
      "Covariance Type:                  opg                                         \n",
      "==============================================================================\n",
      "                 coef    std err          z      P>|z|      [0.025      0.975]\n",
      "------------------------------------------------------------------------------\n",
      "ma.L1          0.5120      0.016     32.260      0.000       0.481       0.543\n",
      "sigma2         0.9822      0.025     38.792      0.000       0.933       1.032\n",
      "===================================================================================\n",
      "Ljung-Box (L1) (Q):                   0.77   Jarque-Bera (JB):                 0.37\n",
      "Prob(Q):                              0.38   Prob(JB):                         0.83\n",
      "Heteroskedasticity (H):               1.03   Skew:                            -0.03\n",
      "Prob(H) (two-sided):                  0.63   Kurtosis:                         3.01\n",
      "===================================================================================\n",
      "\n",
      "Warnings:\n",
      "[1] Covariance matrix calculated using the outer product of gradients (complex-step).\n"
     ]
    }
   ],
   "source": []
  },
  {
   "cell_type": "code",
   "execution_count": null,
   "id": "d1756e3a-0527-461f-94ad-66d6ebc327ce",
   "metadata": {},
   "outputs": [],
   "source": []
  },
  {
   "cell_type": "code",
   "execution_count": null,
   "id": "d6fc57e6-86c6-4baf-b074-86ddc1888555",
   "metadata": {},
   "outputs": [],
   "source": []
  },
  {
   "cell_type": "code",
   "execution_count": 3,
   "id": "5254c51e-2545-4c17-b4c1-1b77317764e8",
   "metadata": {},
   "outputs": [],
   "source": [
    "np.random.seed(12345)"
   ]
  },
  {
   "cell_type": "code",
   "execution_count": 8,
   "id": "d4e97b9a-efbc-408a-aa5a-12fd5cb74e52",
   "metadata": {},
   "outputs": [
    {
     "data": {
      "text/plain": [
       "True"
      ]
     },
     "execution_count": 8,
     "metadata": {},
     "output_type": "execute_result"
    }
   ],
   "source": [
    "maparams = np.array([2])\n",
    "ar = np.r_[1]\n",
    "ma = np.r_[1, maparams] # add zero-lag\n",
    "arma_process = sm.tsa.ArmaProcess(ar, ma)\n",
    "\n",
    "arma_process.isstationary"
   ]
  },
  {
   "cell_type": "code",
   "execution_count": 9,
   "id": "12686a73-9d0a-4431-999b-3fdf40c825b5",
   "metadata": {},
   "outputs": [
    {
     "data": {
      "text/plain": [
       "False"
      ]
     },
     "execution_count": 9,
     "metadata": {},
     "output_type": "execute_result"
    }
   ],
   "source": [
    "arma_process.isinvertible"
   ]
  },
  {
   "cell_type": "code",
   "execution_count": 13,
   "id": "38114206-755a-4c4d-b910-2f0c71bc7e3a",
   "metadata": {},
   "outputs": [
    {
     "data": {
      "text/plain": [
       "array([2.5])"
      ]
     },
     "execution_count": 13,
     "metadata": {},
     "output_type": "execute_result"
    }
   ],
   "source": [
    "arma_process = sm.tsa.ArmaProcess.from_coeffs(.4, maparams)\n",
    "arma_process.arroots"
   ]
  },
  {
   "cell_type": "code",
   "execution_count": null,
   "id": "6505536d-5d3a-421d-86d5-59e553ada765",
   "metadata": {},
   "outputs": [],
   "source": []
  }
 ],
 "metadata": {
  "kernelspec": {
   "display_name": "Python 3 (ipykernel)",
   "language": "python",
   "name": "python3"
  },
  "language_info": {
   "codemirror_mode": {
    "name": "ipython",
    "version": 3
   },
   "file_extension": ".py",
   "mimetype": "text/x-python",
   "name": "python",
   "nbconvert_exporter": "python",
   "pygments_lexer": "ipython3",
   "version": "3.10.2"
  }
 },
 "nbformat": 4,
 "nbformat_minor": 5
}
