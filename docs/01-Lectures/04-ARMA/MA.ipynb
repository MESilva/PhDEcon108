{
 "cells": [
  {
   "cell_type": "code",
   "execution_count": 1,
   "id": "527454f0-e3e6-49fe-a048-0e91382a0d86",
   "metadata": {},
   "outputs": [],
   "source": [
    "#import statsmodels.api as sm\n",
    "import numpy as np\n",
    "#from statsmodels.tsa.arima.model import ARIMA\n",
    "#import pandas as pd\n",
    "#from statsmodels.tsa import arima_process\n",
    "\n",
    "from statsmodels.tsa.arima_process import ArmaProcess\n",
    "\n",
    "from statsmodels.graphics.tsaplots import plot_acf, plot_pacf"
   ]
  },
  {
   "cell_type": "code",
   "execution_count": 2,
   "id": "75e82ecf-463c-4fb0-b4c9-754a5061e6b6",
   "metadata": {},
   "outputs": [],
   "source": [
    "maparams = np.array([2])\n",
    "ar = np.r_[1]\n",
    "ma = np.r_[1, maparams] \n",
    "#ma_process = sm.tsa.ArmaProcess(ar, ma, nobs=0)\n",
    "ma_process = ArmaProcess(ar, ma, nobs=0)"
   ]
  },
  {
   "cell_type": "code",
   "execution_count": 3,
   "id": "ed72b240-fcb1-4bf7-893b-5763ee53f836",
   "metadata": {},
   "outputs": [
    {
     "data": {
      "text/plain": [
       "statsmodels.tsa.arima_process.ArmaProcess"
      ]
     },
     "execution_count": 3,
     "metadata": {},
     "output_type": "execute_result"
    }
   ],
   "source": [
    "type(ma_process)"
   ]
  },
  {
   "cell_type": "code",
   "execution_count": 4,
   "id": "e32bf5bd-2ae4-40a4-971a-8be965888e4d",
   "metadata": {},
   "outputs": [
    {
     "data": {
      "text/plain": [
       "ArmaProcess([1.0], [1.0, 2.0], nobs=0) at 0x2bdd5a89780"
      ]
     },
     "execution_count": 4,
     "metadata": {},
     "output_type": "execute_result"
    }
   ],
   "source": [
    "ma_process"
   ]
  },
  {
   "cell_type": "code",
   "execution_count": 5,
   "id": "bee5f44b-5a91-485b-86df-cce760565a15",
   "metadata": {},
   "outputs": [
    {
     "data": {
      "text/plain": [
       "['acf',\n",
       " 'acovf',\n",
       " 'ar',\n",
       " 'arcoefs',\n",
       " 'arma2ar',\n",
       " 'arma2ma',\n",
       " 'arpoly',\n",
       " 'arroots',\n",
       " 'from_coeffs',\n",
       " 'from_estimation',\n",
       " 'from_roots',\n",
       " 'generate_sample',\n",
       " 'impulse_response',\n",
       " 'invertroots',\n",
       " 'isinvertible',\n",
       " 'isstationary',\n",
       " 'ma',\n",
       " 'macoefs',\n",
       " 'mapoly',\n",
       " 'maroots',\n",
       " 'nobs',\n",
       " 'pacf',\n",
       " 'periodogram']"
      ]
     },
     "execution_count": 5,
     "metadata": {},
     "output_type": "execute_result"
    }
   ],
   "source": [
    "[x for x in dir(ma_process) if not x.startswith('__')]"
   ]
  },
  {
   "cell_type": "code",
   "execution_count": 6,
   "id": "f6a4790d-33c5-48bd-a595-6210f3747074",
   "metadata": {},
   "outputs": [
    {
     "data": {
      "text/plain": [
       "array([5., 2., 0., 0., 0., 0., 0., 0., 0., 0.])"
      ]
     },
     "execution_count": 6,
     "metadata": {},
     "output_type": "execute_result"
    }
   ],
   "source": [
    "ma_process.acovf(10)"
   ]
  },
  {
   "cell_type": "code",
   "execution_count": 7,
   "id": "66e2f1c3-2970-4521-8a91-7c562868533f",
   "metadata": {},
   "outputs": [
    {
     "data": {
      "text/plain": [
       "array([1. , 0.4, 0. , 0. , 0. , 0. , 0. , 0. , 0. , 0. ])"
      ]
     },
     "execution_count": 7,
     "metadata": {},
     "output_type": "execute_result"
    }
   ],
   "source": [
    "ma_process.acf(10)"
   ]
  },
  {
   "cell_type": "code",
   "execution_count": 8,
   "id": "99d32ade-8b1e-4a8f-b1d2-50892d6db796",
   "metadata": {},
   "outputs": [
    {
     "data": {
      "text/latex": [
       "$x \\mapsto \\text{1.0} + \\text{2.0}\\,x$"
      ],
      "text/plain": [
       "Polynomial([1., 2.], domain=[-1,  1], window=[-1,  1])"
      ]
     },
     "execution_count": 8,
     "metadata": {},
     "output_type": "execute_result"
    }
   ],
   "source": [
    "ma_process.mapoly"
   ]
  },
  {
   "cell_type": "code",
   "execution_count": 9,
   "id": "43d48705-0da8-4fa5-8c08-6b03b35f15eb",
   "metadata": {},
   "outputs": [
    {
     "data": {
      "text/latex": [
       "$x \\mapsto \\text{1.0}$"
      ],
      "text/plain": [
       "Polynomial([1.], domain=[-1,  1], window=[-1,  1])"
      ]
     },
     "execution_count": 9,
     "metadata": {},
     "output_type": "execute_result"
    }
   ],
   "source": [
    "ma_process.arpoly"
   ]
  },
  {
   "cell_type": "code",
   "execution_count": 10,
   "id": "41da831e-9f29-4cb6-817e-cdf3db9308b8",
   "metadata": {},
   "outputs": [
    {
     "data": {
      "text/plain": [
       "(array([-0.5]), array([], dtype=float64))"
      ]
     },
     "execution_count": 10,
     "metadata": {},
     "output_type": "execute_result"
    }
   ],
   "source": [
    "ma_process.maroots, ma_process.arroots"
   ]
  },
  {
   "cell_type": "code",
   "execution_count": 11,
   "id": "7fcc5760-b63c-4f0d-b3ad-43ed112c7e83",
   "metadata": {},
   "outputs": [
    {
     "data": {
      "text/latex": [
       "$x \\mapsto \\text{1.0}$"
      ],
      "text/plain": [
       "Polynomial([1.], domain=[-1,  1], window=[-1,  1])"
      ]
     },
     "execution_count": 11,
     "metadata": {},
     "output_type": "execute_result"
    }
   ],
   "source": [
    "ma_process.arpoly"
   ]
  },
  {
   "cell_type": "code",
   "execution_count": 12,
   "id": "bf0dfbf9-99bc-4aa2-a232-a5e05e869117",
   "metadata": {},
   "outputs": [
    {
     "data": {
      "text/plain": [
       "array([], dtype=float64)"
      ]
     },
     "execution_count": 12,
     "metadata": {},
     "output_type": "execute_result"
    }
   ],
   "source": [
    "ma_process.arroots"
   ]
  },
  {
   "cell_type": "code",
   "execution_count": 13,
   "id": "5a314d0e-c96d-4b62-9f1c-08adb4acf664",
   "metadata": {},
   "outputs": [
    {
     "data": {
      "text/plain": [
       "array([   1.,   -2.,    4.,   -8.,   16.,  -32.,   64., -128.,  256.,\n",
       "       -512.])"
      ]
     },
     "execution_count": 13,
     "metadata": {},
     "output_type": "execute_result"
    }
   ],
   "source": [
    "ma_process.arma2ar(lags=10)"
   ]
  },
  {
   "cell_type": "code",
   "execution_count": 14,
   "id": "4c7a17fb-ec44-401c-bb3e-48edcd374a5e",
   "metadata": {},
   "outputs": [
    {
     "data": {
      "text/plain": [
       "bool"
      ]
     },
     "execution_count": 14,
     "metadata": {},
     "output_type": "execute_result"
    }
   ],
   "source": [
    "type(ma_process.isstationary)"
   ]
  },
  {
   "cell_type": "code",
   "execution_count": 15,
   "id": "460ae7e1-e59b-44ca-be0c-aa762542b923",
   "metadata": {},
   "outputs": [
    {
     "data": {
      "text/plain": [
       "method"
      ]
     },
     "execution_count": 15,
     "metadata": {},
     "output_type": "execute_result"
    }
   ],
   "source": [
    "type(ma_process.arma2ar)"
   ]
  },
  {
   "cell_type": "code",
   "execution_count": 20,
   "id": "39ebe262-df24-4d23-8740-308e9077067a",
   "metadata": {},
   "outputs": [
    {
     "data": {
      "text/plain": [
       "array([5., 2., 0.])"
      ]
     },
     "execution_count": 20,
     "metadata": {},
     "output_type": "execute_result"
    }
   ],
   "source": [
    "ma_process.acovf(3)"
   ]
  },
  {
   "cell_type": "code",
   "execution_count": 53,
   "id": "cc1997d0-2d3b-4831-8cf2-17a2310992bd",
   "metadata": {},
   "outputs": [
    {
     "data": {
      "text/plain": [
       "array([0, 1, 2])"
      ]
     },
     "execution_count": 53,
     "metadata": {},
     "output_type": "execute_result"
    }
   ],
   "source": [
    "np.arange(3)"
   ]
  },
  {
   "cell_type": "code",
   "execution_count": 64,
   "id": "f130db2f-188b-4f57-bb83-cdd9090a482d",
   "metadata": {},
   "outputs": [
    {
     "data": {
      "text/plain": [
       "Text(0.5, 1.0, 'Theoretical autocovariances')"
      ]
     },
     "execution_count": 64,
     "metadata": {},
     "output_type": "execute_result"
    },
    {
     "data": {
      "image/png": "[encoded data removed]",
      "text/plain": [
       "<Figure size 432x288 with 1 Axes>"
      ]
     },
     "metadata": {
      "needs_background": "light"
     },
     "output_type": "display_data"
    }
   ],
   "source": [
    "import matplotlib.pyplot as plt\n",
    "\n",
    "nlags = 5\n",
    "\n",
    "lags = np.arange(nlags)\n",
    "acovf_x = ma_process.acovf(nlags)\n",
    "\n",
    "fig, ax = plt.subplots()\n",
    "ax.vlines(lags, [0], acovf_x, color='b')\n",
    "ax.scatter(lags, acovf_x, marker='o', c='b')\n",
    "ax.axhline(color='black', linewidth=.3)\n",
    "ax.set_xticks(lags)\n",
    "ax.set_title('Theoretical autocovariances')"
   ]
  },
  {
   "cell_type": "code",
   "execution_count": 71,
   "id": "19eab1f2-4f5a-41f2-b90b-9278871b1939",
   "metadata": {},
   "outputs": [
    {
     "data": {
      "text/plain": [
       "''"
      ]
     },
     "execution_count": 71,
     "metadata": {},
     "output_type": "execute_result"
    },
    {
     "data": {
      "image/png": "[encoded data removed]",
      "text/plain": [
       "<Figure size 864x288 with 2 Axes>"
      ]
     },
     "metadata": {
      "needs_background": "light"
     },
     "output_type": "display_data"
    }
   ],
   "source": [
    "nlags = 10\n",
    "\n",
    "lags = np.arange(nlags)\n",
    "acf_x = ma_process.acf(nlags)\n",
    "pacf_x = ma_process.pacf(nlags)\n",
    "\n",
    "fig, (ax1, ax2) = plt.subplots(nrows=1, ncols=2, figsize=(12, 4))\n",
    "\n",
    "ax1.vlines(lags, [0], acf_x, color='b')\n",
    "ax1.scatter(lags, acf_x, marker='o', c='b')\n",
    "ax1.axhline(color='black', linewidth=.3)\n",
    "ax1.set_xticks(lags)\n",
    "ax1.set_xlabel('lags')\n",
    "ax1.set_ylabel('ACF')\n",
    "ax1.set_title('Theoretical autocorrelations')\n",
    "\n",
    "ax2.vlines(lags, [0], pacf_x, color='b')\n",
    "ax2.scatter(lags, pacf_x, marker='o', c='b')\n",
    "ax2.axhline(color='black', linewidth=.3)\n",
    "ax2.set_xticks(lags)\n",
    "ax2.set_xlabel('lags')\n",
    "ax2.set_ylabel('PACF')\n",
    "ax2.set_title('Theoretical partial autocorrelations')\n",
    ";"
   ]
  },
  {
   "cell_type": "code",
   "execution_count": null,
   "id": "e57c7132-9d67-4c31-8973-214d6c6615f1",
   "metadata": {},
   "outputs": [],
   "source": []
  },
  {
   "cell_type": "code",
   "execution_count": null,
   "id": "d03c735d-f260-4244-a76f-fb470bfdfba0",
   "metadata": {},
   "outputs": [],
   "source": []
  },
  {
   "cell_type": "code",
   "execution_count": null,
   "id": "410f75ed-bba9-4c9b-95ca-93830b314b08",
   "metadata": {},
   "outputs": [],
   "source": []
  },
  {
   "cell_type": "code",
   "execution_count": null,
   "id": "a2e4c1b8-082d-49fc-833d-975ab19f408f",
   "metadata": {},
   "outputs": [],
   "source": []
  },
  {
   "cell_type": "code",
   "execution_count": 7,
   "id": "b9090416-54b2-4aab-80e0-621d245e7605",
   "metadata": {},
   "outputs": [
    {
     "data": {
      "text/plain": [
       "type"
      ]
     },
     "execution_count": 7,
     "metadata": {},
     "output_type": "execute_result"
    }
   ],
   "source": [
    "type(ARIMA)"
   ]
  },
  {
   "cell_type": "code",
   "execution_count": 3,
   "id": "95dc29b9-f0ff-4310-9522-9dab8f4ad167",
   "metadata": {},
   "outputs": [],
   "source": [
    "ar_model = ARIMA"
   ]
  },
  {
   "cell_type": "code",
   "execution_count": 5,
   "id": "874493b1-a07f-42a9-9d28-2a78efa93e38",
   "metadata": {},
   "outputs": [
    {
     "data": {
      "text/plain": [
       "array([1., 0., 0., 0., 0., 0., 0., 0., 0., 0., 0., 0., 0., 0., 0., 0., 0.,\n",
       "       0., 0., 0., 0., 0., 0., 0., 0., 0., 0., 0., 0., 0., 0., 0., 0., 0.,\n",
       "       0., 0., 0., 0., 0., 0., 0., 0., 0., 0., 0., 0., 0., 0., 0., 0., 0.,\n",
       "       0., 0., 0., 0., 0., 0., 0., 0., 0., 0., 0., 0., 0., 0., 0., 0., 0.,\n",
       "       0., 0., 0., 0., 0., 0., 0., 0., 0., 0., 0., 0., 0., 0., 0., 0., 0.,\n",
       "       0., 0., 0., 0., 0., 0., 0., 0., 0., 0., 0., 0., 0., 0., 0.])"
      ]
     },
     "execution_count": 5,
     "metadata": {},
     "output_type": "execute_result"
    }
   ],
   "source": [
    "ar_model.acovf()"
   ]
  },
  {
   "cell_type": "code",
   "execution_count": null,
   "id": "1ce6539a-653a-49eb-b296-6da31b018473",
   "metadata": {},
   "outputs": [],
   "source": []
  },
  {
   "cell_type": "code",
   "execution_count": 21,
   "id": "caf3c1d5-636c-4e5c-9d37-7684a7486b4d",
   "metadata": {},
   "outputs": [],
   "source": [
    "url = 'https://raw.githubusercontent.com/jlevendi/Time-Series-Econometrics/master/book%20data%20for%20distribution/CSV_data/MAexamples.csv'\n",
    "df = pd.read_csv(filepath_or_buffer=url, sep='\\t', index_col=0)\n",
    "data = df['X'].values"
   ]
  },
  {
   "cell_type": "code",
   "execution_count": 22,
   "id": "e3cd1125-01ba-4b39-8001-0b0eac5de25a",
   "metadata": {},
   "outputs": [
    {
     "data": {
      "text/plain": [
       "array([-0.49677348,  0.57997056,  0.47650595, ..., -0.92384487,\n",
       "       -1.00005374, -0.59472139])"
      ]
     },
     "execution_count": 22,
     "metadata": {},
     "output_type": "execute_result"
    }
   ],
   "source": [
    "data"
   ]
  },
  {
   "cell_type": "code",
   "execution_count": 23,
   "id": "9ef50378-9172-4de4-acc8-ac058aa0eb21",
   "metadata": {},
   "outputs": [
    {
     "name": "stdout",
     "output_type": "stream",
     "text": [
      "                               SARIMAX Results                                \n",
      "==============================================================================\n",
      "Dep. Variable:                      y   No. Observations:                 3000\n",
      "Model:                 ARIMA(0, 0, 1)   Log Likelihood               -4230.101\n",
      "Date:                Fri, 04 Feb 2022   AIC                           8464.202\n",
      "Time:                        18:37:38   BIC                           8476.214\n",
      "Sample:                             0   HQIC                          8468.523\n",
      "                               - 3000                                         \n",
      "Covariance Type:                  opg                                         \n",
      "==============================================================================\n",
      "                 coef    std err          z      P>|z|      [0.025      0.975]\n",
      "------------------------------------------------------------------------------\n",
      "ma.L1          0.5120      0.016     32.260      0.000       0.481       0.543\n",
      "sigma2         0.9822      0.025     38.792      0.000       0.933       1.032\n",
      "===================================================================================\n",
      "Ljung-Box (L1) (Q):                   0.77   Jarque-Bera (JB):                 0.37\n",
      "Prob(Q):                              0.38   Prob(JB):                         0.83\n",
      "Heteroskedasticity (H):               1.03   Skew:                            -0.03\n",
      "Prob(H) (two-sided):                  0.63   Kurtosis:                         3.01\n",
      "===================================================================================\n",
      "\n",
      "Warnings:\n",
      "[1] Covariance matrix calculated using the outer product of gradients (complex-step).\n"
     ]
    }
   ],
   "source": []
  },
  {
   "cell_type": "code",
   "execution_count": null,
   "id": "d1756e3a-0527-461f-94ad-66d6ebc327ce",
   "metadata": {},
   "outputs": [],
   "source": []
  },
  {
   "cell_type": "code",
   "execution_count": null,
   "id": "d6fc57e6-86c6-4baf-b074-86ddc1888555",
   "metadata": {},
   "outputs": [],
   "source": []
  },
  {
   "cell_type": "code",
   "execution_count": 3,
   "id": "5254c51e-2545-4c17-b4c1-1b77317764e8",
   "metadata": {},
   "outputs": [],
   "source": [
    "np.random.seed(12345)"
   ]
  },
  {
   "cell_type": "code",
   "execution_count": 8,
   "id": "d4e97b9a-efbc-408a-aa5a-12fd5cb74e52",
   "metadata": {},
   "outputs": [
    {
     "data": {
      "text/plain": [
       "True"
      ]
     },
     "execution_count": 8,
     "metadata": {},
     "output_type": "execute_result"
    }
   ],
   "source": [
    "maparams = np.array([2])\n",
    "ar = np.r_[1]\n",
    "ma = np.r_[1, maparams] # add zero-lag\n",
    "arma_process = sm.tsa.ArmaProcess(ar, ma)\n",
    "\n",
    "arma_process.isstationary"
   ]
  },
  {
   "cell_type": "code",
   "execution_count": 9,
   "id": "12686a73-9d0a-4431-999b-3fdf40c825b5",
   "metadata": {},
   "outputs": [
    {
     "data": {
      "text/plain": [
       "False"
      ]
     },
     "execution_count": 9,
     "metadata": {},
     "output_type": "execute_result"
    }
   ],
   "source": [
    "arma_process.isinvertible"
   ]
  },
  {
   "cell_type": "code",
   "execution_count": 10,
   "id": "38114206-755a-4c4d-b910-2f0c71bc7e3a",
   "metadata": {},
   "outputs": [
    {
     "data": {
      "text/plain": [
       "array([2.5])"
      ]
     },
     "execution_count": 10,
     "metadata": {},
     "output_type": "execute_result"
    }
   ],
   "source": [
    "arma_process = sm.tsa.ArmaProcess.from_coeffs(.4, maparams)\n",
    "arma_process.arroots"
   ]
  },
  {
   "cell_type": "code",
   "execution_count": 13,
   "id": "6505536d-5d3a-421d-86d5-59e553ada765",
   "metadata": {},
   "outputs": [
    {
     "data": {
      "text/plain": [
       "array([7.85714286, 5.14285714, 2.05714286, 0.82285714, 0.32914286])"
      ]
     },
     "execution_count": 13,
     "metadata": {},
     "output_type": "execute_result"
    }
   ],
   "source": [
    "arma_process.acovf(5)"
   ]
  },
  {
   "cell_type": "code",
   "execution_count": null,
   "id": "81a8ae15-f093-4923-bff8-bd7d764f2825",
   "metadata": {},
   "outputs": [],
   "source": []
  }
 ],
 "metadata": {
  "kernelspec": {
   "display_name": "Python 3 (ipykernel)",
   "language": "python",
   "name": "python3"
  },
  "language_info": {
   "codemirror_mode": {
    "name": "ipython",
    "version": 3
   },
   "file_extension": ".py",
   "mimetype": "text/x-python",
   "name": "python",
   "nbconvert_exporter": "python",
   "pygments_lexer": "ipython3",
   "version": "3.10.1"
  }
 },
 "nbformat": 4,
 "nbformat_minor": 5
}
