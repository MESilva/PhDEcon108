{
 "cells": [
  {
   "cell_type": "markdown",
   "id": "3f794791-58a5-445a-86c0-10296946de3a",
   "metadata": {
    "slideshow": {
     "slide_type": "-"
    }
   },
   "source": [
    "# ARMA(p, q) processes\n",
    "\n",
    "\n",
    "ARMA models combine two components -- an Autoregressive (AR) component and a Moving Average (MA) comonent\n",
    "\n",
    "* AR(p) model\n",
    "* MA(q) model"
   ]
  },
  {
   "cell_type": "markdown",
   "id": "b4416f01-fe05-49ee-989a-7f03930b9916",
   "metadata": {
    "slideshow": {
     "slide_type": "-"
    }
   },
   "source": [
    "## Estimating AR(1) model\n",
    "\n",
    "Given a time series $\\{y_t\\}_{t=1}^{T}$ consider the problem of estimating the model:\n",
    "\n",
    "<a id='equation-ar1'></a>\n",
    "$$\n",
    "y_t = \\alpha y_{t-1} + \\varepsilon_t \\tag{1}\n",
    "$$\n",
    "\n",
    "where $\\varepsilon_t$ is a Gaussian white noise with variance $\\sigma^2$. The unknown (free) parameter we want to find are $\\theta = [\\alpha, \\sigma^2 ]$.\n",
    "\n",
    "\n",
    "### Estimation by Maximum likelihood\n",
    "\n",
    "\n",
    "The joint distribution of $y = [y_1, y_2, ..., y_T]'$ is Multivariate Normal\n",
    "\n",
    "<a id='equation-Normal'></a>\n",
    "$$\n",
    "y \\sim \\mathcal{N}(0, \\Sigma) \\tag{2}\n",
    "$$,\n",
    "\n",
    "where $\\Sigma$ is a Toeplitz matrix  \n",
    "\n",
    "<a id='equation-Cov-Mat'></a>\n",
    "$$\\begin{equation}\n",
    "\\Sigma = \n",
    "\\begin{pmatrix}\n",
    "\\gamma(0) & \\gamma(1) & \\gamma(2) & \\cdots & \\cdots & \\cdots & \\cdots & \\gamma(T-1)\\\\\n",
    "\\gamma(1) & \\gamma(0) & \\gamma(1) & \\gamma(2) & & & & \\vdots\\\\\n",
    "\\gamma(2) & \\gamma(1) & \\gamma(0) & \\gamma(1) & \\gamma(2) & & & \\vdots\\\\\n",
    "\\vdots & \\ddots & \\ddots & \\ddots & \\ddots & \\ddots & & \\vdots\\\\\n",
    "\\vdots & & \\ddots & \\ddots & \\ddots & \\ddots & \\ddots & \\vdots\\\\\n",
    "\\vdots & & & \\gamma(2)& \\gamma(1) & \\gamma(0) & \\gamma(1) & \\gamma(2)\\\\\n",
    "\\vdots & & & & \\gamma(2) & \\gamma(1) & \\gamma(0) & \\gamma(1)\\\\\n",
    "\\gamma(T-1) & \\cdots & \\cdots  & \\cdots & \\cdots & \\gamma(2) & \\gamma(1) & \\gamma(0)\\\\\n",
    "\\end{pmatrix}\n",
    "\\end{equation} \\tag{3}$$\n",
    "\n",
    "\n",
    "The maximum likelihood estimate $\\hat{\\theta}$ is the value of $\\theta$ which maximizes the likelihood function $L(\\theta)$, given by\n",
    "\n",
    "<a id='equation-LF'></a>\n",
    "$$\n",
    "L(\\theta) = f(y_1, y_2, \\cdots, y_T | \\theta) =(2\\pi)^{-T/2} |\\Sigma|^{-1/2} \\exp \\left(-\\frac{1}{2} y' \\Sigma^{-1} y \\right) \\tag{4}\n",
    "$$\n",
    "\n",
    "where the dependence on $\\theta$ is through $\\Sigma$. In practice, $\\hat{\\theta}$ is obtained by _minimizing_ the negaive log-likelihood function $- \\log(L(\\theta))$.\n",
    "\n",
    "### Estimation by OLS\n",
    "\n",
    "The least square estimate of $\\alpha$ is obtained by minimizing\n",
    "\n",
    "$$ \\sum_{t=2}^{T} \\left(y_t - \\alpha y_{t-1} \\right)^2 $$\n",
    "\n",
    "The solution is the gamiliar OLS estimator (with left-hand side variable $Y = [y_2, y_3, \\cdots, y_T]$ and right-hand side variable $X = [y_1, y_2, \\cdots, y_{T-1}]$\n",
    "\n",
    "$$\\hat{\\alpha} = \\frac{X'Y}{X'X}$$\n",
    "\n",
    "and the estimate of $\\hat{\\sigma}^2$ is\n",
    "\n",
    "$$ \\hat{\\sigma}^2 = \\frac{1}{T-1} \\sum_{t=2}^{T} \\left(y_t - \\hat{\\alpha} y_{t-1} \\right)^2 $$\n",
    "\n",
    "The OLS estimate of $\\theta$ is identical to MLE using _conditional_ likelihood function. First, note that the joint distribution $f(y_1, y_2, \\cdots, y_T | \\theta)$ can be expressed as product of conditional distributions:\n",
    "\n",
    "$$ f(y_1, y_2, \\cdots, y_T | \\theta) = f(y_1 |\\theta)f(y_2, y_3, \\cdots, y_T |y_1, \\theta) \\\\\n",
    "    \\vdots\\\\\n",
    "    =f(y_1 | \\theta) \\prod_{t=2}^{T} f(y_{t} | y_{1}, \\cdots y_{t-1}, \\theta) \\\\\n",
    "    =f(y_1 | \\theta) \\prod_{t=2}^{T} f(y_{t} | y_{t-1}, \\theta) \n",
    "$$\n",
    "\n",
    "The conditional likelihood function ignores the $f(y_1 | \\theta)$ term, and is therefore an approximation of $L(\\theta)$, given by\n",
    "\n",
    "$$\\tilde{L}(\\theta) =  \\prod_{t=2}^{T} f(y_{t} | y_{t-1}, \\theta)$$\n",
    "\n",
    "\n",
    "Since the distribution of $y_{t}$ given $y_{t-1}$ is \n",
    "\n",
    "$$\\mathcal{N}\\left(\\alpha y_{t-1}, \\sigma^2 \\right)$$\n",
    "\n",
    "we have\n",
    "\n",
    "$$f(y_{t} |y_{t-1}, \\theta) = \\frac{1}{\\sqrt{2\\pi\\sigma^2}}\\exp\\left(-\\frac{1}{2\\sigma^2} \\left( y_t - \\alpha y_{t-1}\\right)^2 \\right)$$\n",
    "\n",
    "Therefore \n",
    " $$ \\tilde{L}(\\theta) = \\left(\\frac{1}{2\\pi\\sigma^2}\\right)^{\\frac{T-1}{2}} \\exp \\left(-\\frac{1}{2\\sigma^2} \\sum_{t=2}^{T} \\left( y_t - \\alpha y_{t-1}\\right)^2 \\right)\n",
    " $$\n",
    " \n",
    "The approximate log-likelihood function is \n",
    "$$ \\log \\tilde{L}(\\theta) = -\\frac{T-1}{2} \\log \\left(2\\pi\\sigma^2\\right) -\\frac{1}{2\\sigma^2} \\sum_{t=2}^{T} \\left( y_t - \\alpha y_{t-1} \\right)^2 $$\n",
    "\n",
    "The first order condition with respect to $\\sigma^2$ is\n",
    "\n",
    "$$ \\frac{\\partial \\log \\tilde{L}(\\theta)}{\\partial \\sigma^2} = -\\frac{T-1}{2\\sigma^2} +\n",
    "\\frac{1}{2(\\sigma^2)^2} \\sum_{t=2}^{T} \\left( y_t - \\alpha y_{t-1} \\right)^2 = 0\n",
    "$$\n",
    "\n",
    "which gives \n",
    "\n",
    "$$ \\hat{\\sigma}^2 = \\frac{1}{T-1} \\sum_{t=2}^{T} \\left( y_t - \\alpha y_{t-1} \\right)^2 $$\n",
    "\n",
    "The approximate log-likelihood as a function of $\\alpha$ alone is\n",
    "$$ \\log \\tilde{L}(\\alpha) = -\\frac{T-1}{2} \\log \\left( \\frac{2\\pi}{T-1} \\sum_{t=2}^{T} \\left( y_t - \\alpha y_{t-1} \\right)^2 \\right) -\\frac{T-1}{2} $$\n",
    "\n",
    "Maximizing $\\log \\tilde{L}(\\alpha)$ is equivalent to minimizing \n",
    "$$ \\sum_{t=2}^{T} \\left(y_t - \\alpha y_{t-1} \\right)^2 $$\n",
    "and therefore the approximate MLE of $\\alpha$ is the same as the one we get using OLS."
   ]
  },
  {
   "cell_type": "code",
   "execution_count": 1,
   "id": "b7365cac-2adc-49ae-a7bc-d3c4c8b4a379",
   "metadata": {},
   "outputs": [],
   "source": [
    "import pandas as pd\n",
    "import statsmodels.api as sm\n",
    "from statsmodels.tsa.ar_model import AutoReg\n",
    "from statsmodels.tsa.arima.model import ARIMA\n",
    "from statsmodels.tsa.arima_process import arma_generate_sample\n",
    "import numpy as np"
   ]
  },
  {
   "cell_type": "code",
   "execution_count": 2,
   "id": "f323e391-0635-4b9d-881c-26e16bcb87ed",
   "metadata": {},
   "outputs": [],
   "source": [
    "url = 'https://raw.githubusercontent.com/jlevendi/Time-Series-Econometrics/master/book%20data%20for%20distribution/CSV_data/ARexamples.csv'\n",
    "df = pd.read_csv(filepath_or_buffer=url, sep='\\t', index_col=0)\n",
    "data = df['X'].values"
   ]
  },
  {
   "cell_type": "markdown",
   "id": "eb0f9213-4795-40f7-800a-c916adb8fb00",
   "metadata": {},
   "source": [
    "* statsmodels has a dedicated function for generating a sample from an ARMA pricess"
   ]
  },
  {
   "cell_type": "code",
   "execution_count": 3,
   "id": "3c5aa6e9-075d-4cbc-84d3-950e1c4c2e2a",
   "metadata": {},
   "outputs": [],
   "source": [
    "# set the seed for replicability and the number of observations we want to generate\n",
    "np.random.seed(12345)\n",
    "n_obs = 500"
   ]
  },
  {
   "cell_type": "code",
   "execution_count": 4,
   "id": "6741805b-812f-4962-b24b-c0c2968ddaa7",
   "metadata": {},
   "outputs": [
    {
     "name": "stdout",
     "output_type": "stream",
     "text": [
      "The process is stationary? True\n",
      "The process is invertible? True\n"
     ]
    }
   ],
   "source": [
    "arparams = np.array([.75]) # AR(1) coefficient\n",
    "maparams = np.array([0]) # we need to specify the MA part as well\n",
    "ar1_process = sm.tsa.ArmaProcess.from_coeffs(arparams, maparams)\n",
    "\n",
    "print(f'The process is stationary? {ar1_process.isstationary}')\n",
    "print(f'The process is invertible? {ar1_process.isinvertible}')\n",
    "\n",
    "data = ar1_process.generate_sample(nsample = n_obs, burnin=100)"
   ]
  },
  {
   "cell_type": "markdown",
   "id": "1b1af697-45ca-481c-9d21-a2652c745ecd",
   "metadata": {},
   "source": [
    "* This is another way to create the process by specifying the coefficient for autoregressive lag polynomial, including zero lag, and Coefficient for moving-average lag polynomial, including zero lag."
   ]
  },
  {
   "cell_type": "code",
   "execution_count": 5,
   "id": "cfa7bdad-70cc-4eef-91a5-51b1120cfb79",
   "metadata": {},
   "outputs": [],
   "source": [
    "arparams = np.array([.75]) # AR(1) coefficient\n",
    "maparams = np.array([0])\n",
    "ar = np.r_[1, -arparams] # add zero-lag and negate\n",
    "ma = np.r_[1, maparams] # add zero-lag\n",
    "ar1_process = sm.tsa.ArmaProcess(ar, ma)"
   ]
  },
  {
   "cell_type": "code",
   "execution_count": 6,
   "id": "c2e5e407-c47f-4357-81d4-b82bc725fbbc",
   "metadata": {},
   "outputs": [
    {
     "data": {
      "text/plain": [
       "<AxesSubplot:>"
      ]
     },
     "execution_count": 6,
     "metadata": {},
     "output_type": "execute_result"
    },
    {
     "data": {
      "image/png": "[encoded data removed]",
      "text/plain": [
       "<Figure size 432x288 with 1 Axes>"
      ]
     },
     "metadata": {
      "needs_background": "light"
     },
     "output_type": "display_data"
    }
   ],
   "source": [
    "# make a very quick plot of the simulated data\n",
    "pd.DataFrame(data=data, columns=['data']).plot()"
   ]
  },
  {
   "cell_type": "markdown",
   "id": "f284c814-604e-4899-93d2-b8bbbc3d42e0",
   "metadata": {},
   "source": [
    "## OLS approach\n",
    "\n",
    "* create y and X data. Here X is the first order lag of y\n",
    "* use OLS function of statsmodels"
   ]
  },
  {
   "cell_type": "code",
   "execution_count": 7,
   "id": "e5b2b756-8047-44ef-86f1-d39733915d40",
   "metadata": {},
   "outputs": [],
   "source": [
    "y = df['X'].values[1:]\n",
    "X = df['X'].values[:-1]"
   ]
  },
  {
   "cell_type": "code",
   "execution_count": 8,
   "id": "362b6254-592c-44c6-a1a1-c136bc22f54e",
   "metadata": {},
   "outputs": [],
   "source": [
    "y = data[1:]\n",
    "X = data[:-1]"
   ]
  },
  {
   "cell_type": "code",
   "execution_count": 9,
   "id": "fccf8431-62f9-4062-bf4f-e9ddf849b965",
   "metadata": {},
   "outputs": [
    {
     "name": "stdout",
     "output_type": "stream",
     "text": [
      "                                 OLS Regression Results                                \n",
      "=======================================================================================\n",
      "Dep. Variable:                      y   R-squared (uncentered):                   0.540\n",
      "Model:                            OLS   Adj. R-squared (uncentered):              0.539\n",
      "Method:                 Least Squares   F-statistic:                              583.9\n",
      "Date:                Wed, 05 Jan 2022   Prob (F-statistic):                    6.13e-86\n",
      "Time:                        18:58:16   Log-Likelihood:                         -701.86\n",
      "No. Observations:                 499   AIC:                                      1406.\n",
      "Df Residuals:                     498   BIC:                                      1410.\n",
      "Df Model:                           1                                                  \n",
      "Covariance Type:            nonrobust                                                  \n",
      "==============================================================================\n",
      "                 coef    std err          t      P>|t|      [0.025      0.975]\n",
      "------------------------------------------------------------------------------\n",
      "x1             0.7345      0.030     24.163      0.000       0.675       0.794\n",
      "==============================================================================\n",
      "Omnibus:                        4.915   Durbin-Watson:                   1.956\n",
      "Prob(Omnibus):                  0.086   Jarque-Bera (JB):                4.991\n",
      "Skew:                           0.172   Prob(JB):                       0.0825\n",
      "Kurtosis:                       3.348   Cond. No.                         1.00\n",
      "==============================================================================\n",
      "\n",
      "Notes:\n",
      "[1] R² is computed without centering (uncentered) since the model does not contain a constant.\n",
      "[2] Standard Errors assume that the covariance matrix of the errors is correctly specified.\n"
     ]
    }
   ],
   "source": [
    "OLSmodel = sm.OLS(y, X)\n",
    "OLSresults = OLSmodel.fit()\n",
    "print(OLSresults.summary())"
   ]
  },
  {
   "cell_type": "markdown",
   "id": "ff5460c9-d5c3-4656-ad3e-56d129a1261d",
   "metadata": {},
   "source": [
    "## AutoReg function of Statsmodels\n",
    "\n",
    "* AutoReg uses OLS\n",
    "* trend='n' means that there is no deterministic term in the model, i.e. no constant or time trend"
   ]
  },
  {
   "cell_type": "code",
   "execution_count": 10,
   "id": "760f0bb1-8283-4ea1-ae9c-a9d05f48eb6e",
   "metadata": {},
   "outputs": [
    {
     "name": "stdout",
     "output_type": "stream",
     "text": [
      "                            AutoReg Model Results                             \n",
      "==============================================================================\n",
      "Dep. Variable:                      y   No. Observations:                  500\n",
      "Model:                     AutoReg(1)   Log Likelihood                -701.864\n",
      "Method:               Conditional MLE   S.D. of innovations              0.988\n",
      "Date:                Wed, 05 Jan 2022   AIC                           1407.728\n",
      "Time:                        18:58:16   BIC                           1416.153\n",
      "Sample:                             1   HQIC                          1411.034\n",
      "                                  500                                         \n",
      "==============================================================================\n",
      "                 coef    std err          z      P>|z|      [0.025      0.975]\n",
      "------------------------------------------------------------------------------\n",
      "y.L1           0.7345      0.030     24.188      0.000       0.675       0.794\n",
      "                                    Roots                                    \n",
      "=============================================================================\n",
      "                  Real          Imaginary           Modulus         Frequency\n",
      "-----------------------------------------------------------------------------\n",
      "AR.1            1.3614           +0.0000j            1.3614            0.0000\n",
      "-----------------------------------------------------------------------------\n"
     ]
    }
   ],
   "source": [
    "ARmod1 = AutoReg(data, trend='n', lags=1)\n",
    "ARresults1 = ARmod1.fit()\n",
    "print(ARresults1.summary())"
   ]
  },
  {
   "cell_type": "markdown",
   "id": "7bcad2db-fa19-4f30-8ee7-9b3b76899c10",
   "metadata": {},
   "source": [
    "*  For an AR(p) process to be stable, the roots of the polynomial $\\alpha(\\cdot)$ must lie outside of the unit circle, this is what the last line in the table above shows. We can also do it ourselves as show below "
   ]
  },
  {
   "cell_type": "code",
   "execution_count": 11,
   "id": "27447ea6-dc7a-413e-a661-affb1d047f27",
   "metadata": {},
   "outputs": [
    {
     "data": {
      "text/plain": [
       "array([1.36139333])"
      ]
     },
     "execution_count": 11,
     "metadata": {},
     "output_type": "execute_result"
    }
   ],
   "source": [
    "alpha = ARresults1.params[0]\n",
    "poly = np.zeros(2)\n",
    "poly[0] = -alpha\n",
    "poly[1] = 1\n",
    "r = np.roots(poly)\n",
    "r"
   ]
  },
  {
   "cell_type": "markdown",
   "id": "092edac3-0bc2-44d2-abbc-557b659c85d1",
   "metadata": {},
   "source": [
    "## ARIMA function of Statsmodels\n",
    "    * ARIMA uses MLE\n",
    "    * ARIMA(p,d,q) with p=1, d=0, q=0 is AR(1)"
   ]
  },
  {
   "cell_type": "code",
   "execution_count": 12,
   "id": "29e9c6b1-167e-4844-b8e9-f48bb27e3f29",
   "metadata": {},
   "outputs": [
    {
     "name": "stdout",
     "output_type": "stream",
     "text": [
      "                               SARIMAX Results                                \n",
      "==============================================================================\n",
      "Dep. Variable:                      y   No. Observations:                  500\n",
      "Model:                 ARIMA(1, 0, 0)   Log Likelihood                -703.275\n",
      "Date:                Wed, 05 Jan 2022   AIC                           1410.549\n",
      "Time:                        18:58:16   BIC                           1418.978\n",
      "Sample:                             0   HQIC                          1413.857\n",
      "                                - 500                                         \n",
      "Covariance Type:                  opg                                         \n",
      "==============================================================================\n",
      "                 coef    std err          z      P>|z|      [0.025      0.975]\n",
      "------------------------------------------------------------------------------\n",
      "ar.L1          0.7334      0.031     23.560      0.000       0.672       0.794\n",
      "sigma2         0.9740      0.057     17.026      0.000       0.862       1.086\n",
      "===================================================================================\n",
      "Ljung-Box (L1) (Q):                   0.27   Jarque-Bera (JB):                 5.16\n",
      "Prob(Q):                              0.61   Prob(JB):                         0.08\n",
      "Heteroskedasticity (H):               0.93   Skew:                             0.18\n",
      "Prob(H) (two-sided):                  0.65   Kurtosis:                         3.35\n",
      "===================================================================================\n",
      "\n",
      "Warnings:\n",
      "[1] Covariance matrix calculated using the outer product of gradients (complex-step).\n"
     ]
    }
   ],
   "source": [
    "ARmod2 = ARIMA(data, trend='n', order=(1, 0, 0))\n",
    "ARresults2 = ARmod2.fit()\n",
    "print(ARresults2.summary())"
   ]
  },
  {
   "cell_type": "code",
   "execution_count": 15,
   "id": "bebaf1ae-c72c-4c9d-8341-04b2e25baecc",
   "metadata": {},
   "outputs": [],
   "source": []
  },
  {
   "cell_type": "code",
   "execution_count": 16,
   "id": "8f64fc38-376f-4b78-ad46-c88da60a94bd",
   "metadata": {},
   "outputs": [
    {
     "data": {
      "text/plain": [
       "0.9740185607137855"
      ]
     },
     "execution_count": 16,
     "metadata": {},
     "output_type": "execute_result"
    }
   ],
   "source": [
    "ARresults2.arparams\n",
    "ARresults2.params[1]"
   ]
  },
  {
   "cell_type": "code",
   "execution_count": 17,
   "id": "bc23dcca-e1c8-4f1e-b07f-86ac2b975391",
   "metadata": {},
   "outputs": [],
   "source": []
  },
  {
   "cell_type": "markdown",
   "id": "b1f49010-8689-4c51-9bae-690fd776ef11",
   "metadata": {},
   "source": [
    "### Lets examine the values of the log-likelihood"
   ]
  },
  {
   "cell_type": "markdown",
   "id": "c1b2fd7f-d2c9-49ae-b5dc-ba4ee5780635",
   "metadata": {},
   "source": [
    "* statsmodels function output for the log-likelihood at the maximum"
   ]
  },
  {
   "cell_type": "code",
   "execution_count": 43,
   "id": "2d1a2a6c-1385-4987-a33d-4eef86054441",
   "metadata": {},
   "outputs": [
    {
     "data": {
      "text/plain": [
       "-703.2745841216915"
      ]
     },
     "execution_count": 43,
     "metadata": {},
     "output_type": "execute_result"
    }
   ],
   "source": [
    "ARresults2.llf"
   ]
  },
  {
   "cell_type": "markdown",
   "id": "ddea62b7-cf3b-4ce2-bbc8-eb520904b2e1",
   "metadata": {},
   "source": [
    "here is how we can evaluate the log-likelihood at the estimates of $\\alpha$ and $\\sigma^2$ \n",
    "\n",
    "* compute the theoretical autocovariances for all lags from 0 to T-1 using the `arma_acovf` from statsmodels"
   ]
  },
  {
   "cell_type": "code",
   "execution_count": 44,
   "id": "200d9ed8-9eff-471a-b9d6-e58609d5e51f",
   "metadata": {},
   "outputs": [],
   "source": [
    "from statsmodels.tsa.arima_process import arma_acovf\n",
    "\n",
    "arparams = ARresults2.arparams\n",
    "maparams = np.array([0])\n",
    "ar = np.r_[1, -arparams] # add zero-lag and negate\n",
    "ma = np.r_[1, maparams] # add zero-lag\n",
    "sigma2=ARresults2.params[1]\n",
    "\n",
    "acov = arma_acovf(ar=ar, ma=ma, nobs=n_obs, sigma2=sigma2)"
   ]
  },
  {
   "cell_type": "markdown",
   "id": "707c7756-50af-446b-bd00-f1a75433bda5",
   "metadata": {},
   "source": [
    "* create $\\Sigma$ matrix using the `toeplitz` function from the scipy library"
   ]
  },
  {
   "cell_type": "code",
   "execution_count": 19,
   "id": "661b093c-eaf3-4967-968b-882b7f732d8a",
   "metadata": {},
   "outputs": [],
   "source": [
    "from scipy.linalg import toeplitz\n",
    "\n",
    "Sigma = toeplitz(acov)"
   ]
  },
  {
   "cell_type": "markdown",
   "id": "a2a21fce-ad95-479a-ba06-3f4340629cd3",
   "metadata": {},
   "source": [
    "* compute the log-likelihood function "
   ]
  },
  {
   "cell_type": "code",
   "execution_count": 45,
   "id": "f3649ebb-fe89-4bfd-8fe5-faae1108faac",
   "metadata": {},
   "outputs": [
    {
     "data": {
      "text/plain": [
       "-703.2745841216916"
      ]
     },
     "execution_count": 45,
     "metadata": {},
     "output_type": "execute_result"
    }
   ],
   "source": [
    "T = n_obs\n",
    "yvec = data.reshape(-1,1) # make into a (T X 1) vector\n",
    "\n",
    "log_likelihood = -0.5 * (\n",
    "        T * 1 * np.log(2 * np.pi)\n",
    "        + np.log(np.linalg.det(Sigma))\n",
    "        + yvec.T @ np.linalg.inv(Sigma) @ yvec\n",
    "    ).squeeze() # without squeeze the result is a 2 dimensional array\n",
    "\n",
    "log_likelihood"
   ]
  },
  {
   "cell_type": "markdown",
   "id": "76d9e301-f77a-407c-9f18-6ffc0efc42be",
   "metadata": {},
   "source": [
    "* alternatively, use the function from scipy for evaluating the log pdf of multivariate normal"
   ]
  },
  {
   "cell_type": "code",
   "execution_count": 47,
   "id": "d29f1a3d-ba46-4ac9-87a2-edcc029ff6e2",
   "metadata": {},
   "outputs": [
    {
     "data": {
      "text/plain": [
       "-703.2745841216916"
      ]
     },
     "execution_count": 47,
     "metadata": {},
     "output_type": "execute_result"
    }
   ],
   "source": [
    "from scipy.stats import multivariate_normal\n",
    "\n",
    "llf = multivariate_normal.logpdf(data, cov=Sigma)\n",
    "llf"
   ]
  },
  {
   "cell_type": "code",
   "execution_count": 48,
   "id": "3d2f4b02-8176-4067-96ac-f09fddfb347c",
   "metadata": {},
   "outputs": [],
   "source": [
    "def logdet_symmetric(matrix):\n",
    "    lower_triangular = np.linalg.cholesky(matrix)\n",
    "    return 2 * np.sum(np.log(np.diag(lower_triangular)))"
   ]
  },
  {
   "cell_type": "code",
   "execution_count": null,
   "id": "b4e7fcc7-a5fd-40b7-8015-3e0353506887",
   "metadata": {},
   "outputs": [],
   "source": []
  }
 ],
 "metadata": {
  "celltoolbar": "Slideshow",
  "kernelspec": {
   "display_name": "Python 3 (ipykernel)",
   "language": "python",
   "name": "python3"
  },
  "language_info": {
   "codemirror_mode": {
    "name": "ipython",
    "version": 3
   },
   "file_extension": ".py",
   "mimetype": "text/x-python",
   "name": "python",
   "nbconvert_exporter": "python",
   "pygments_lexer": "ipython3",
   "version": "3.10.1"
  }
 },
 "nbformat": 4,
 "nbformat_minor": 5
}
