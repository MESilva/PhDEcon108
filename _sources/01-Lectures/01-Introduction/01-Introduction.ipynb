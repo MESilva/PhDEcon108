{
 "cells": [
  {
   "cell_type": "code",
   "execution_count": 3,
   "id": "59a7c1f7-b56f-43d3-8902-ec42b91db2c2",
   "metadata": {
    "tags": [
     "hide-input"
    ]
   },
   "outputs": [],
   "source": [
    "import matplotlib.pyplot as plt\n",
    "import numpy as np\n",
    "from statsmodels.tsa.arima_process import arma_acovf\n",
    "from scipy.linalg import toeplitz\n",
    "\n",
    "from matplotlib import rc\n",
    "rc('font',**{'family':'serif','serif':['Palatino']})\n",
    "rc('text', usetex=True)\n",
    "\n",
    "\n",
    "plt.rcParams.update({'ytick.left' : True,\n",
    "                     \"xtick.bottom\" : True,\n",
    "                     \"ytick.major.size\": 0,\n",
    "                     \"ytick.major.width\": 0,\n",
    "                     \"xtick.major.size\": 0,\n",
    "                     \"xtick.major.width\": 0,\n",
    "                     \"ytick.direction\": 'in',\n",
    "                     \"xtick.direction\": 'in',\n",
    "                     'ytick.major.right': False,\n",
    "                     'xtick.major.top': True,\n",
    "                     'xtick.top': True,\n",
    "                     'ytick.right': True,\n",
    "                     'ytick.labelsize': 18,\n",
    "                     'xtick.labelsize': 18\n",
    "                    })\n",
    "\n",
    "def correlation_from_covariance(covariance):\n",
    "    v = np.sqrt(np.diag(covariance))\n",
    "    outer_v = np.outer(v, v)\n",
    "    correlation = covariance / outer_v\n",
    "    correlation[covariance == 0] = 0\n",
    "    return correlation\n",
    "\n",
    "n_obs = 20\n",
    "arparams = np.array([.80])\n",
    "maparams = np.array([0])\n",
    "ar = np.r_[1, -arparams] # add zero-lag and negate\n",
    "ma = np.r_[1, maparams] # add zero-lag\n",
    "sigma2=np.array([1])\n",
    "\n",
    "acov = arma_acovf(ar=ar, ma=ma, nobs=n_obs, sigma2=sigma2)\n",
    "\n",
    "Sigma = toeplitz(acov)\n",
    "\n",
    "corr = correlation_from_covariance(Sigma)\n",
    "\n",
    "tmp = np.random.rand(n_obs, n_obs)\n",
    "unrestr_cov = np.dot(tmp,tmp.T)\n",
    "\n",
    "unrestr_mean = np.random.rand(n_obs, 1)\n",
    "\n",
    "def show_covariance(mean_vec, cov_mat):\n",
    "    K = cov_mat.shape[0]\n",
    "    \n",
    "    fig, ax = plt.subplots(nrows=1, ncols=2, figsize=(20,8))\n",
    "\n",
    "    m = ax[0].imshow(mean_vec,\n",
    "                       cmap='GnBu',\n",
    "                      )\n",
    "\n",
    "    K = Sigma.shape[0]\n",
    "\n",
    "    ax[0].set_xticks([])\n",
    "    ax[0].set_xticklabels([]);\n",
    "    ax[0].set_yticks(range(0,K))\n",
    "    ax[0].set_yticklabels(range(1, K+1));\n",
    "\n",
    "    #ax[0].set_xlabel('$\\mu$', fontsize=24)\n",
    "    ax[0].set_title('mean', fontsize=24)\n",
    "\n",
    "    c = ax[1].imshow(cov_mat,\n",
    "                       cmap=\"inferno\",\n",
    "                      )\n",
    "    plt.colorbar(c);\n",
    "\n",
    "\n",
    "    ax[1].set_xticks(range(0,K))\n",
    "    ax[1].set_xticklabels(range(1, K+1));\n",
    "    ax[1].set_yticks(range(0,K))\n",
    "    ax[1].set_yticklabels(range(1, K+1));  \n",
    "    ax[1].set_title('Covariance', fontsize=24)\n",
    "\n",
    "    plt.subplots_adjust(wspace=-0.7)\n",
    "\n",
    "    #return (fig, ax)"
   ]
  },
  {
   "cell_type": "markdown",
   "id": "4d96dadf",
   "metadata": {
    "slideshow": {
     "slide_type": "slide"
    }
   },
   "source": [
    "# Time series vs. cross-section"
   ]
  },
  {
   "cell_type": "markdown",
   "id": "f40e4ce6",
   "metadata": {
    "slideshow": {
     "slide_type": "fragment"
    }
   },
   "source": [
    "- sample of households at a point in time (income, expenditure)  \n",
    "- aggregate (income, expenditure) over time\n",
    "- dependent vs. independent sampling"
   ]
  },
  {
   "cell_type": "markdown",
   "id": "8c76f174",
   "metadata": {
    "slideshow": {
     "slide_type": "subslide"
    }
   },
   "source": [
    "$$\\begin{bmatrix}Z_1\\\\Z_2\\\\Z_3\\\\\\vdots\\\\Z_K\\end{bmatrix} $$"
   ]
  },
  {
   "cell_type": "markdown",
   "id": "6e7ffa39",
   "metadata": {
    "slideshow": {
     "slide_type": "fragment"
    }
   },
   "source": [
    "* $Z_i$ can be a scalar, or a vector, e.g.\n",
    "\n",
    "$$Z_i = \\begin{bmatrix}y_i\\\\X_i\\end{bmatrix} $$"
   ]
  },
  {
   "cell_type": "markdown",
   "id": "9a59b549",
   "metadata": {
    "slideshow": {
     "slide_type": "subslide"
    }
   },
   "source": [
    "$$ Z \\sim \\mathcal{N}(\\mu, \\Sigma) $$"
   ]
  },
  {
   "cell_type": "markdown",
   "id": "2796f75e",
   "metadata": {
    "slideshow": {
     "slide_type": "fragment"
    }
   },
   "source": [
    "$$\\begin{bmatrix}Z_1\\\\Z_2\\\\Z_3\\\\\\vdots\\\\Z_K\\end{bmatrix} \n",
    "\\sim \\mathcal{N} \\left(\n",
    "\\begin{bmatrix}\\mu_1\\\\\\mu_2\\\\\\mu_3\\\\\\vdots\\\\\\mu_K\\end{bmatrix},\n",
    "\\begin{pmatrix}\n",
    "\\Sigma(1,1) & \\Sigma(1,2) & \\Sigma(1,3) & \\cdots & \\Sigma(1,K)\\\\\n",
    "\\Sigma(2,1) & \\Sigma(2,2) & \\Sigma(2,3) & \\cdots &  \\vdots\\\\\n",
    "\\Sigma(3,1) & \\Sigma(3,2) & \\Sigma(3,3) & \\cdots &  \\vdots\\\\\n",
    "\\vdots & \\vdots & \\vdots & \\cdots &  \\vdots\\\\\n",
    "\\Sigma(K,1) & \\cdots & \\cdots  & \\cdots & \\Sigma(K,K)\\\\\n",
    "\\end{pmatrix}\n",
    "\\right)\n",
    "$$"
   ]
  },
  {
   "cell_type": "code",
   "execution_count": 4,
   "id": "92a64af1",
   "metadata": {
    "slideshow": {
     "slide_type": "subslide"
    },
    "tags": [
     "hide-input"
    ]
   },
   "outputs": [
    {
     "data": {
      "image/png": "[encoded data removed]",
      "text/plain": [
       "<Figure size 1440x576 with 3 Axes>"
      ]
     },
     "metadata": {
      "needs_background": "light"
     },
     "output_type": "display_data"
    }
   ],
   "source": [
    "show_covariance(mean_vec=unrestr_mean, cov_mat=unrestr_cov)"
   ]
  },
  {
   "cell_type": "markdown",
   "id": "ad5457fa",
   "metadata": {
    "slideshow": {
     "slide_type": "notes"
    }
   },
   "source": [
    "remember: symmetry of $\\Sigma$"
   ]
  },
  {
   "cell_type": "markdown",
   "id": "47f62dd2",
   "metadata": {
    "slideshow": {
     "slide_type": "subslide"
    }
   },
   "source": [
    "### Hopeless without resrtictions - structure on $\\mu, ~\\Sigma$"
   ]
  },
  {
   "cell_type": "markdown",
   "id": "dcd16a27",
   "metadata": {
    "slideshow": {
     "slide_type": "subslide"
    }
   },
   "source": [
    "* independent"
   ]
  },
  {
   "cell_type": "markdown",
   "id": "0b290a57",
   "metadata": {
    "slideshow": {
     "slide_type": "fragment"
    }
   },
   "source": [
    "$$\\begin{bmatrix}Z_1\\\\Z_2\\\\Z_3\\\\\\vdots\\\\Z_K\\end{bmatrix} \n",
    "\\sim \\mathcal{N} \\left(\n",
    "\\begin{bmatrix}\\mu_1\\\\\\mu_2\\\\\\mu_3\\\\\\vdots\\\\\\mu_K\\end{bmatrix},\n",
    "\\begin{pmatrix}\n",
    "\\Sigma(1,1) & 0 & 0 & \\cdots & 0\\\\\n",
    "0 & \\Sigma(2,2) & 0 & \\cdots &  \\vdots\\\\\n",
    "0 & 0 & \\Sigma(3,3) & \\cdots &  \\vdots\\\\\n",
    "\\vdots & \\vdots & \\vdots & \\cdots &  \\vdots\\\\\n",
    "0 & \\cdots & \\cdots  & \\cdots & \\Sigma(K,K)\\\\\n",
    "\\end{pmatrix}\n",
    "\\right)\n",
    "$$"
   ]
  },
  {
   "cell_type": "code",
   "execution_count": 53,
   "id": "2209130a",
   "metadata": {
    "slideshow": {
     "slide_type": "subslide"
    },
    "tags": [
     "hide-input"
    ]
   },
   "outputs": [
    {
     "data": {
      "image/png": "[encoded data removed]",
      "text/plain": [
       "<Figure size 1440x576 with 3 Axes>"
      ]
     },
     "metadata": {
      "needs_background": "light"
     },
     "output_type": "display_data"
    }
   ],
   "source": [
    "show_covariance(mean_vec=unrestr_mean, cov_mat=np.diagflat(unrestr_cov.diagonal()))"
   ]
  },
  {
   "cell_type": "markdown",
   "id": "83de8848",
   "metadata": {
    "slideshow": {
     "slide_type": "subslide"
    }
   },
   "source": [
    "* ... and identically distributed"
   ]
  },
  {
   "cell_type": "markdown",
   "id": "0e2f8c41",
   "metadata": {
    "slideshow": {
     "slide_type": "fragment"
    }
   },
   "source": [
    "$$\\begin{bmatrix}Z_1\\\\Z_2\\\\Z_3\\\\\\vdots\\\\Z_K\\end{bmatrix} \n",
    "\\sim \\mathcal{N} \\left(\n",
    "\\begin{bmatrix}\\mu\\\\\\mu\\\\\\mu\\\\\\vdots\\\\\\mu\\end{bmatrix},\n",
    "\\begin{pmatrix}\n",
    "\\Sigma & 0 & 0 & \\cdots & 0\\\\\n",
    "0 & \\Sigma & 0 & \\cdots &  \\vdots\\\\\n",
    "0 & 0 & \\Sigma & \\cdots &  \\vdots\\\\\n",
    "\\vdots & \\vdots & \\vdots & \\cdots &  \\vdots\\\\\n",
    "0 & \\cdots & \\cdots  & \\cdots & \\Sigma\\\\\n",
    "\\end{pmatrix}\n",
    "\\right)\n",
    "$$"
   ]
  },
  {
   "cell_type": "markdown",
   "id": "b73303a3",
   "metadata": {
    "slideshow": {
     "slide_type": "notes"
    }
   },
   "source": [
    "Note: small $\\mu$ and $\\Sigma$ - not the moments of full joint distribution above"
   ]
  },
  {
   "cell_type": "code",
   "execution_count": 54,
   "id": "6ea3d697",
   "metadata": {
    "slideshow": {
     "slide_type": "subslide"
    },
    "tags": [
     "hide-input"
    ]
   },
   "outputs": [
    {
     "data": {
      "image/png": "[encoded data removed]",
      "text/plain": [
       "<Figure size 1440x576 with 3 Axes>"
      ]
     },
     "metadata": {
      "needs_background": "light"
     },
     "output_type": "display_data"
    }
   ],
   "source": [
    "show_covariance(mean_vec=np.ones((n_obs, 1)) ,cov_mat=np.diagflat(Sigma.diagonal()));"
   ]
  },
  {
   "cell_type": "markdown",
   "id": "53e49985",
   "metadata": {
    "slideshow": {
     "slide_type": "subslide"
    }
   },
   "source": [
    "## time series"
   ]
  },
  {
   "cell_type": "markdown",
   "id": "1b117045",
   "metadata": {
    "slideshow": {
     "slide_type": "fragment"
    }
   },
   "source": [
    "* distribution ($\\mu$, and $\\Sigma$) is time-invariant (**_stationarity_**)"
   ]
  },
  {
   "cell_type": "markdown",
   "id": "6e1cafb5",
   "metadata": {
    "slideshow": {
     "slide_type": "fragment"
    }
   },
   "source": [
    "* dependence - not too strong and weaker for distant elements (**_ergodicity_**)"
   ]
  },
  {
   "cell_type": "code",
   "execution_count": 56,
   "id": "2f9d07a6",
   "metadata": {
    "slideshow": {
     "slide_type": "subslide"
    },
    "tags": [
     "hide-input"
    ]
   },
   "outputs": [
    {
     "data": {
      "image/png": "[encoded data removed]",
      "text/plain": [
       "<Figure size 1440x576 with 3 Axes>"
      ]
     },
     "metadata": {
      "needs_background": "light"
     },
     "output_type": "display_data"
    }
   ],
   "source": [
    "show_covariance(mean_vec=np.ones((n_obs, 1)) ,cov_mat=Sigma);"
   ]
  },
  {
   "cell_type": "markdown",
   "id": "17f508e0",
   "metadata": {
    "slideshow": {
     "slide_type": "subslide"
    }
   },
   "source": [
    "## time series models\n",
    "\n",
    "* represent temporal dependence in a parsimonious way\n",
    "\n",
    "  - AR (1) model: \n",
    "  \n",
    "  $$z_t = \\alpha z_{t-1} + \\varepsilon_t$$\n",
    "  \n",
    "  - MA(1) model:\n",
    "  \n",
    "   $$z_t = \\varepsilon_t + \\psi \\varepsilon_{t-1}$$\n",
    "   \n",
    "  - ARMA(1,1) model:\n",
    "  \n",
    "   $$z_t = \\alpha z_{t-1} + \\varepsilon_t + \\psi \\varepsilon_{t-1}$$\n",
    "   \n",
    "  - etc.\n",
    "   \n",
    "* represent temporal interdependence among multiple variables in a parsimonious way\n",
    "\n",
    "  - VAR (1) model\n",
    "  - VMA(1) model  \n",
    "  - VARMA(1,1) model\n",
    "  - etc."
   ]
  },
  {
   "cell_type": "markdown",
   "id": "859d4620",
   "metadata": {
    "slideshow": {
     "slide_type": "slide"
    }
   },
   "source": [
    "## Consequence of dependence"
   ]
  },
  {
   "cell_type": "markdown",
   "id": "5e073967",
   "metadata": {
    "slideshow": {
     "slide_type": "fragment"
    }
   },
   "source": [
    "* information accumulates more slowly - need different statistical theory to justify methods"
   ]
  },
  {
   "cell_type": "markdown",
   "id": "32e7b356",
   "metadata": {
    "slideshow": {
     "slide_type": "fragment"
    }
   },
   "source": [
    "* forecast the future using the past"
   ]
  }
 ],
 "metadata": {
  "celltoolbar": "Slideshow",
  "kernelspec": {
   "display_name": "Python 3 (ipykernel)",
   "language": "python",
   "name": "python3"
  },
  "language_info": {
   "codemirror_mode": {
    "name": "ipython",
    "version": 3
   },
   "file_extension": ".py",
   "mimetype": "text/x-python",
   "name": "python",
   "nbconvert_exporter": "python",
   "pygments_lexer": "ipython3",
   "version": "3.10.2"
  }
 },
 "nbformat": 4,
 "nbformat_minor": 5
}
