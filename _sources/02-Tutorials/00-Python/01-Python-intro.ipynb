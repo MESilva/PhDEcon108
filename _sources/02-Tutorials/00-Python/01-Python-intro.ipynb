{
 "cells": [
  {
   "cell_type": "markdown",
   "id": "0db45891-0e2a-4df8-b6fa-f6038225df61",
   "metadata": {},
   "source": [
    "# Introduction to Python"
   ]
  },
  {
   "cell_type": "markdown",
   "id": "c647d0ad-e7e5-4f06-b16d-ed9ec3636d88",
   "metadata": {
    "tags": []
   },
   "source": [
    "## Build-in types\n",
    "\n",
    "The __type__ of an object determines what we can do with it and use it for."
   ]
  },
  {
   "cell_type": "code",
   "execution_count": 1,
   "id": "8238b3e1-1d25-4e25-a572-8dba1f15501b",
   "metadata": {
    "tags": []
   },
   "outputs": [
    {
     "data": {
      "text/plain": [
       "int"
      ]
     },
     "execution_count": 1,
     "metadata": {},
     "output_type": "execute_result"
    }
   ],
   "source": [
    "type(2)"
   ]
  },
  {
   "cell_type": "code",
   "execution_count": 2,
   "id": "c4b7c8f6-60ee-4836-87ed-3ba74f9797c6",
   "metadata": {
    "tags": []
   },
   "outputs": [
    {
     "data": {
      "text/plain": [
       "float"
      ]
     },
     "execution_count": 2,
     "metadata": {},
     "output_type": "execute_result"
    }
   ],
   "source": [
    "type(2.)"
   ]
  },
  {
   "cell_type": "markdown",
   "id": "67288874-d4ae-4736-a8b2-52b90f4f89db",
   "metadata": {},
   "source": [
    "__Note__: `2.` is shorthand for `2.0`"
   ]
  },
  {
   "cell_type": "code",
   "execution_count": 3,
   "id": "cfceed31-0f70-4cf8-a669-b210bd323bf6",
   "metadata": {},
   "outputs": [
    {
     "data": {
      "text/plain": [
       "True"
      ]
     },
     "execution_count": 3,
     "metadata": {},
     "output_type": "execute_result"
    }
   ],
   "source": [
    "2. == 2.0"
   ]
  },
  {
   "cell_type": "code",
   "execution_count": 4,
   "id": "da5f6920-c963-48be-91d6-c832dd484170",
   "metadata": {
    "tags": []
   },
   "outputs": [
    {
     "data": {
      "text/plain": [
       "str"
      ]
     },
     "execution_count": 4,
     "metadata": {},
     "output_type": "execute_result"
    }
   ],
   "source": [
    "type(\"2\")"
   ]
  },
  {
   "cell_type": "code",
   "execution_count": 5,
   "id": "1804dec2-15ce-42d2-a5dc-33f15c27efb2",
   "metadata": {},
   "outputs": [
    {
     "data": {
      "text/plain": [
       "6"
      ]
     },
     "execution_count": 5,
     "metadata": {},
     "output_type": "execute_result"
    }
   ],
   "source": [
    "2*3"
   ]
  },
  {
   "cell_type": "code",
   "execution_count": 6,
   "id": "ac628b32-065a-446c-96db-485073933f87",
   "metadata": {
    "tags": []
   },
   "outputs": [
    {
     "data": {
      "text/plain": [
       "'222'"
      ]
     },
     "execution_count": 6,
     "metadata": {},
     "output_type": "execute_result"
    }
   ],
   "source": [
    "\"2\"*3"
   ]
  },
  {
   "cell_type": "markdown",
   "id": "fe70ba6c-eb27-42ec-9b63-65640238d34f",
   "metadata": {
    "tags": []
   },
   "source": [
    "converting from one type to another"
   ]
  },
  {
   "cell_type": "code",
   "execution_count": 7,
   "id": "bc566856-89b6-4ade-ab28-13718bc2798d",
   "metadata": {
    "tags": []
   },
   "outputs": [
    {
     "data": {
      "text/plain": [
       "int"
      ]
     },
     "execution_count": 7,
     "metadata": {},
     "output_type": "execute_result"
    }
   ],
   "source": [
    "type(int(\"2\"))"
   ]
  },
  {
   "cell_type": "code",
   "execution_count": 8,
   "id": "7af8c975-81ef-46cd-a152-0c40e9c9d7af",
   "metadata": {
    "tags": []
   },
   "outputs": [
    {
     "data": {
      "text/plain": [
       "float"
      ]
     },
     "execution_count": 8,
     "metadata": {},
     "output_type": "execute_result"
    }
   ],
   "source": [
    "type(float(\"2\"))"
   ]
  },
  {
   "cell_type": "code",
   "execution_count": 9,
   "id": "8c44b63b-443f-40cb-8043-216ca27bde6f",
   "metadata": {
    "tags": []
   },
   "outputs": [
    {
     "data": {
      "text/plain": [
       "str"
      ]
     },
     "execution_count": 9,
     "metadata": {},
     "output_type": "execute_result"
    }
   ],
   "source": [
    "type(str(2))"
   ]
  },
  {
   "cell_type": "markdown",
   "id": "6eee2e38-ce94-4916-b852-4c1ee6dcd7b3",
   "metadata": {},
   "source": [
    "The `type` function told us that `2` is an `int` (short for integer), `2.` is a `float` (short for floating point number), and `\"2\"` is a `str` (short for string). Note that the single quotes around the characters indicate that it is a string. So, `\"2\"` is a string, but `2` is an integer."
   ]
  },
  {
   "cell_type": "markdown",
   "id": "384680de-5a51-45dd-8f76-0072bee4ff25",
   "metadata": {},
   "source": [
    "## Interactive calculations\n",
    "\n",
    "The following are Python's arithmetic operators\n",
    "\n",
    "|action|operator|\n",
    "|:-------|:----------:|\n",
    "|addition | `+`|\n",
    "|subtraction | `-`|\n",
    "|multiplication | `*`|\n",
    "|division | `/`|\n",
    "|raise to power | `**`|\n",
    "|modulo | `%`|\n",
    "|floor division | `//`|"
   ]
  },
  {
   "cell_type": "code",
   "execution_count": 10,
   "id": "949f6fbe-91df-4bd3-bc1b-f3771f5d2d3d",
   "metadata": {},
   "outputs": [
    {
     "data": {
      "text/plain": [
       "4"
      ]
     },
     "execution_count": 10,
     "metadata": {},
     "output_type": "execute_result"
    }
   ],
   "source": [
    "2 + 2"
   ]
  },
  {
   "cell_type": "code",
   "execution_count": 11,
   "id": "c48e263d-0a5a-43b1-95bb-2cb93c08ffd9",
   "metadata": {},
   "outputs": [
    {
     "data": {
      "text/plain": [
       "20"
      ]
     },
     "execution_count": 11,
     "metadata": {},
     "output_type": "execute_result"
    }
   ],
   "source": [
    "50 - 5*6"
   ]
  },
  {
   "cell_type": "code",
   "execution_count": 12,
   "id": "da2b4468-7e47-42d9-bcd0-9e9f8263af60",
   "metadata": {},
   "outputs": [
    {
     "data": {
      "text/plain": [
       "5.0"
      ]
     },
     "execution_count": 12,
     "metadata": {},
     "output_type": "execute_result"
    }
   ],
   "source": [
    "(50 - 5*6) / 4"
   ]
  },
  {
   "cell_type": "code",
   "execution_count": 13,
   "id": "4c764a39-7be7-4781-b4ca-d481b30bdd71",
   "metadata": {},
   "outputs": [
    {
     "data": {
      "text/plain": [
       "1.6"
      ]
     },
     "execution_count": 13,
     "metadata": {},
     "output_type": "execute_result"
    }
   ],
   "source": [
    "8 / 5  # division always returns a floating point number"
   ]
  },
  {
   "cell_type": "code",
   "execution_count": 14,
   "id": "ded89ee5-5797-45cf-b787-acb1b06e7f5b",
   "metadata": {},
   "outputs": [
    {
     "data": {
      "text/plain": [
       "25"
      ]
     },
     "execution_count": 14,
     "metadata": {},
     "output_type": "execute_result"
    }
   ],
   "source": [
    "5 ** 2  # 5 squared\n",
    "25"
   ]
  },
  {
   "cell_type": "code",
   "execution_count": 15,
   "id": "6dc1d4c8-4025-42b4-a929-d68b632f1948",
   "metadata": {},
   "outputs": [
    {
     "data": {
      "text/plain": [
       "1"
      ]
     },
     "execution_count": 15,
     "metadata": {},
     "output_type": "execute_result"
    }
   ],
   "source": [
    "5%2"
   ]
  },
  {
   "cell_type": "code",
   "execution_count": 16,
   "id": "cf19bc72-5123-43f1-b4f9-c4a3de3f9e8d",
   "metadata": {},
   "outputs": [
    {
     "data": {
      "text/plain": [
       "2"
      ]
     },
     "execution_count": 16,
     "metadata": {},
     "output_type": "execute_result"
    }
   ],
   "source": [
    "5//2"
   ]
  },
  {
   "cell_type": "markdown",
   "id": "1045423c-0fba-4943-a88c-ed9b402836e9",
   "metadata": {},
   "source": [
    "The results from calculations can be stored in (assigned to) variables. For example:"
   ]
  },
  {
   "cell_type": "code",
   "execution_count": 17,
   "id": "e1dc7ef0-7dad-4092-b9d7-34f776acda57",
   "metadata": {},
   "outputs": [],
   "source": [
    "# The equal sign (=) is used to assign a value to a variable.\n",
    "\n",
    "width = 20\n",
    "height = 5 * 9\n",
    "area = width * height"
   ]
  },
  {
   "cell_type": "markdown",
   "id": "89105b30-bc5e-40a2-bc01-af4a5ee67221",
   "metadata": {},
   "source": [
    "Python will not print the result. To do so, type the variable name"
   ]
  },
  {
   "cell_type": "code",
   "execution_count": 18,
   "id": "b9f00c4f-9e79-40fc-832b-479ddb952ed7",
   "metadata": {},
   "outputs": [
    {
     "data": {
      "text/plain": [
       "900"
      ]
     },
     "execution_count": 18,
     "metadata": {},
     "output_type": "execute_result"
    }
   ],
   "source": [
    "area"
   ]
  },
  {
   "cell_type": "markdown",
   "id": "af192a97-6f36-44b4-a10e-10cc3784555a",
   "metadata": {},
   "source": [
    "After assigning a value, we can change it"
   ]
  },
  {
   "cell_type": "code",
   "execution_count": 19,
   "id": "76d602ff-ce79-4222-a5ca-9e330b5512e7",
   "metadata": {},
   "outputs": [
    {
     "name": "stdout",
     "output_type": "stream",
     "text": [
      "The values of x before: 3\n",
      "The values of x after: 4\n"
     ]
    }
   ],
   "source": [
    "x = 3\n",
    "print(f\"The values of x before: {x}\")\n",
    "x = x + 1\n",
    "print(f\"The values of x after: {x}\")"
   ]
  },
  {
   "cell_type": "markdown",
   "id": "fcf0e51c-6d90-4d45-bce4-e94bbee2be2e",
   "metadata": {},
   "source": [
    "The same can be achieved using the  `+=` operator"
   ]
  },
  {
   "cell_type": "code",
   "execution_count": 20,
   "id": "3ac53707-3051-4453-93ac-7994563b2e74",
   "metadata": {},
   "outputs": [
    {
     "name": "stdout",
     "output_type": "stream",
     "text": [
      "The values of x before: 3\n",
      "The values of x after: 4\n"
     ]
    }
   ],
   "source": [
    "x = 3\n",
    "print(f\"The values of x before: {x}\")\n",
    "x += 1 # Note here\n",
    "print(f\"The values of x after: {x}\")"
   ]
  },
  {
   "cell_type": "markdown",
   "id": "be723eca-83ca-4aec-ab13-974e949970e7",
   "metadata": {},
   "source": [
    "We can similarly use `-=`, `*=`, `/=`, `//=`, `%=`, and `**=`."
   ]
  },
  {
   "cell_type": "code",
   "execution_count": 21,
   "id": "060e3cec-ca38-4841-abf8-a9702a0f49c9",
   "metadata": {},
   "outputs": [
    {
     "name": "stdout",
     "output_type": "stream",
     "text": [
      "The values of x before: 3\n",
      "The values of x after: 2\n"
     ]
    }
   ],
   "source": [
    "x = 3\n",
    "print(f\"The values of x before: {x}\")\n",
    "x -= 1 # Note here\n",
    "print(f\"The values of x after: {x}\")"
   ]
  },
  {
   "cell_type": "code",
   "execution_count": 22,
   "id": "b6aa0559-4217-447a-a306-c362447a54ed",
   "metadata": {},
   "outputs": [
    {
     "name": "stdout",
     "output_type": "stream",
     "text": [
      "The values of x before: 3\n",
      "The values of x after: 6\n"
     ]
    }
   ],
   "source": [
    "x = 3\n",
    "print(f\"The values of x before: {x}\")\n",
    "x *= 2 # Note here\n",
    "print(f\"The values of x after: {x}\")"
   ]
  },
  {
   "cell_type": "code",
   "execution_count": 23,
   "id": "825ed8fa-3729-46df-b862-b5df7fbce35a",
   "metadata": {},
   "outputs": [
    {
     "name": "stdout",
     "output_type": "stream",
     "text": [
      "The values of x before: 5\n",
      "The values of x after: 2.5\n"
     ]
    }
   ],
   "source": [
    "x = 5\n",
    "print(f\"The values of x before: {x}\")\n",
    "x /= 2 # Note here\n",
    "print(f\"The values of x after: {x}\")"
   ]
  },
  {
   "cell_type": "code",
   "execution_count": 24,
   "id": "5f1119eb-54ca-4c23-96fd-e583398db5dd",
   "metadata": {},
   "outputs": [
    {
     "name": "stdout",
     "output_type": "stream",
     "text": [
      "The values of x before: 5\n",
      "The values of x after: 2\n"
     ]
    }
   ],
   "source": [
    "x = 5\n",
    "print(f\"The values of x before: {x}\")\n",
    "x //= 2 # Note here\n",
    "print(f\"The values of x after: {x}\")"
   ]
  },
  {
   "cell_type": "code",
   "execution_count": 25,
   "id": "bc981ff0-6a34-4e44-840e-8157a7b3820f",
   "metadata": {},
   "outputs": [
    {
     "name": "stdout",
     "output_type": "stream",
     "text": [
      "The values of x before: 5\n",
      "The values of x after: 1\n"
     ]
    }
   ],
   "source": [
    "x = 5\n",
    "print(f\"The values of x before: {x}\")\n",
    "x %= 2 # Note here\n",
    "print(f\"The values of x after: {x}\")"
   ]
  },
  {
   "cell_type": "code",
   "execution_count": 26,
   "id": "2234022f-5f33-499d-9c87-20a18bde891e",
   "metadata": {},
   "outputs": [
    {
     "name": "stdout",
     "output_type": "stream",
     "text": [
      "The values of x before: 5\n",
      "The values of x after: 25\n"
     ]
    }
   ],
   "source": [
    "x = 5\n",
    "print(f\"The values of x before: {x}\")\n",
    "x **= 2 # Note here\n",
    "print(f\"The values of x after: {x}\")"
   ]
  },
  {
   "cell_type": "markdown",
   "id": "8a31e2dc-2482-4b17-91e5-d795abff2911",
   "metadata": {},
   "source": [
    "### Operations on strings"
   ]
  },
  {
   "cell_type": "code",
   "execution_count": 27,
   "id": "9c94a2e8-10e6-4af4-bd8b-6a665fa69f3c",
   "metadata": {},
   "outputs": [
    {
     "data": {
      "text/plain": [
       "'Olá Olá Olá '"
      ]
     },
     "execution_count": 27,
     "metadata": {},
     "output_type": "execute_result"
    }
   ],
   "source": [
    "\"Olá \" + \"Olá \" + \"Olá \" "
   ]
  },
  {
   "cell_type": "markdown",
   "id": "1b8124fd-89be-4c40-8357-11b6e3f38dac",
   "metadata": {},
   "source": [
    "Note the space in `\"Olá \"`"
   ]
  },
  {
   "cell_type": "code",
   "execution_count": 28,
   "id": "463633e1-851c-4f92-ac73-4b5d7582f014",
   "metadata": {},
   "outputs": [
    {
     "data": {
      "text/plain": [
       "'Olá Olá Olá'"
      ]
     },
     "execution_count": 28,
     "metadata": {},
     "output_type": "execute_result"
    }
   ],
   "source": [
    "\"Olá\" + \" \" + \"Olá\"+ \" \" + \"Olá\" "
   ]
  },
  {
   "cell_type": "code",
   "execution_count": 29,
   "id": "ae2f48cc-beba-449c-a5c4-f9d62c05d091",
   "metadata": {},
   "outputs": [
    {
     "data": {
      "text/plain": [
       "'Olá, Olá, Olá'"
      ]
     },
     "execution_count": 29,
     "metadata": {},
     "output_type": "execute_result"
    }
   ],
   "source": [
    "\"Olá\" + \", \" + \"Olá\"+ \", \" + \"Olá\" "
   ]
  },
  {
   "cell_type": "code",
   "execution_count": 123,
   "id": "1c16c56c-1803-4fdb-9636-f4bf23f3fddb",
   "metadata": {},
   "outputs": [
    {
     "data": {
      "text/plain": [
       "'Olá, Olá, Olá, Olá, Olá, Olá, Olá, Olá, Olá, Olá, Olá, Olá, Olá, Olá, Olá, Olá, Olá, Olá, Olá, Olá, '"
      ]
     },
     "execution_count": 123,
     "metadata": {},
     "output_type": "execute_result"
    }
   ],
   "source": [
    "\"Olá, \"*20"
   ]
  },
  {
   "cell_type": "markdown",
   "id": "e900bb67-d4a1-42e2-a04b-1fee8f5258d0",
   "metadata": {},
   "source": [
    "## Useful data container objects, part I"
   ]
  },
  {
   "cell_type": "markdown",
   "id": "6f22e08f-4fce-4d35-8021-2b4169247ae3",
   "metadata": {},
   "source": [
    "### Lists\n",
    "\n",
    "ordered sequence of objects inside square brackets separated by commas"
   ]
  },
  {
   "cell_type": "code",
   "execution_count": 132,
   "id": "62923f1b-0a6f-49fb-862d-578be5545552",
   "metadata": {},
   "outputs": [],
   "source": [
    "list_of_numbers = [4,1,2,5,6]"
   ]
  },
  {
   "cell_type": "code",
   "execution_count": 133,
   "id": "4a6fa84c-f749-4425-8d2b-1b7cda52af05",
   "metadata": {},
   "outputs": [],
   "source": [
    "list_of_letters = ['a','c','s', 'w', 'ç']"
   ]
  },
  {
   "cell_type": "code",
   "execution_count": 134,
   "id": "0f766160-5625-4030-9f6d-ba08a4efe435",
   "metadata": {},
   "outputs": [
    {
     "data": {
      "text/plain": [
       "(list, list)"
      ]
     },
     "execution_count": 134,
     "metadata": {},
     "output_type": "execute_result"
    }
   ],
   "source": [
    "type(list_of_numbers), type(list_of_letters)"
   ]
  },
  {
   "cell_type": "markdown",
   "id": "88b7d83a-9982-4e61-be89-ca6fea93e7a9",
   "metadata": {},
   "source": [
    "* the length of a list can be found with the build-in `len()` function"
   ]
  },
  {
   "cell_type": "code",
   "execution_count": 135,
   "id": "0acbe542-c5ca-41ac-873e-bce6b929668f",
   "metadata": {},
   "outputs": [
    {
     "data": {
      "text/plain": [
       "5"
      ]
     },
     "execution_count": 135,
     "metadata": {},
     "output_type": "execute_result"
    }
   ],
   "source": [
    "len(list_of_numbers)"
   ]
  },
  {
   "cell_type": "markdown",
   "id": "14870fac-8cfb-4093-9e39-b070610f4f99",
   "metadata": {},
   "source": [
    "* the elements of a list can be referenced by their __index__"
   ]
  },
  {
   "cell_type": "code",
   "execution_count": 79,
   "id": "fac26003-1f00-4a54-b8e3-fd5791098937",
   "metadata": {},
   "outputs": [
    {
     "data": {
      "text/plain": [
       "4"
      ]
     },
     "execution_count": 79,
     "metadata": {},
     "output_type": "execute_result"
    }
   ],
   "source": [
    "list_of_numbers[0]"
   ]
  },
  {
   "cell_type": "code",
   "execution_count": 80,
   "id": "81e9493d-60c9-4774-8e25-0b3ffb000dda",
   "metadata": {},
   "outputs": [
    {
     "data": {
      "text/plain": [
       "'c'"
      ]
     },
     "execution_count": 80,
     "metadata": {},
     "output_type": "execute_result"
    }
   ],
   "source": [
    "list_of_letters[1]"
   ]
  },
  {
   "cell_type": "code",
   "execution_count": 81,
   "id": "a4cfa33d-fbde-4428-bbc4-7bfe8c8211d9",
   "metadata": {},
   "outputs": [
    {
     "data": {
      "text/plain": [
       "6"
      ]
     },
     "execution_count": 81,
     "metadata": {},
     "output_type": "execute_result"
    }
   ],
   "source": [
    "list_of_numbers[-1]"
   ]
  },
  {
   "cell_type": "code",
   "execution_count": 82,
   "id": "e1b59cf6-5ab5-4691-ab66-193e0c9800dc",
   "metadata": {},
   "outputs": [
    {
     "data": {
      "text/plain": [
       "'w'"
      ]
     },
     "execution_count": 82,
     "metadata": {},
     "output_type": "execute_result"
    }
   ],
   "source": [
    "list_of_letters[-2]"
   ]
  },
  {
   "cell_type": "markdown",
   "id": "02cff46a-484b-4f3f-a4ef-2884f5b7b020",
   "metadata": {},
   "source": [
    "* you can __slice__ a list up between certain characters or up to certain characters"
   ]
  },
  {
   "cell_type": "code",
   "execution_count": 83,
   "id": "6ea26b82-4e96-4dec-9dff-aab0c8783312",
   "metadata": {},
   "outputs": [
    {
     "data": {
      "text/plain": [
       "['s', 'w']"
      ]
     },
     "execution_count": 83,
     "metadata": {},
     "output_type": "execute_result"
    }
   ],
   "source": [
    "list_of_letters[2:4]"
   ]
  },
  {
   "cell_type": "code",
   "execution_count": 84,
   "id": "6011b580-b19b-444b-b073-5808d3067a34",
   "metadata": {},
   "outputs": [
    {
     "data": {
      "text/plain": [
       "[1, 2, 5, 6]"
      ]
     },
     "execution_count": 84,
     "metadata": {},
     "output_type": "execute_result"
    }
   ],
   "source": [
    "list_of_numbers[1:5]"
   ]
  },
  {
   "cell_type": "code",
   "execution_count": 85,
   "id": "1344b04b-ff1c-4432-a64d-bb5324506c29",
   "metadata": {},
   "outputs": [
    {
     "data": {
      "text/plain": [
       "[4, 2]"
      ]
     },
     "execution_count": 85,
     "metadata": {},
     "output_type": "execute_result"
    }
   ],
   "source": [
    "list_of_numbers[0:4:2]"
   ]
  },
  {
   "cell_type": "code",
   "execution_count": 86,
   "id": "a07e2ade-7340-4ffa-940a-6cf661619d39",
   "metadata": {},
   "outputs": [
    {
     "data": {
      "text/plain": [
       "['w', 'ç']"
      ]
     },
     "execution_count": 86,
     "metadata": {},
     "output_type": "execute_result"
    }
   ],
   "source": [
    "list_of_letters[3:]"
   ]
  },
  {
   "cell_type": "markdown",
   "id": "5f686137-1833-4ee5-a887-19befa42f279",
   "metadata": {},
   "source": [
    "* the full slice notation is `your_list[start:stop:step]`. If we ommit `stop` the slice goes to the end of the list. The default `step` is 1, so we can ommit it if that's what we want. "
   ]
  },
  {
   "cell_type": "code",
   "execution_count": 87,
   "id": "da38e9bd-bd81-40ae-8ff6-9eb2fd57d148",
   "metadata": {},
   "outputs": [],
   "source": [
    "mixed_list = ['a', 10, 'Ana', 'Bruno', 3, 'Carla', ['w', 'y']]"
   ]
  },
  {
   "cell_type": "code",
   "execution_count": 88,
   "id": "a1e0a69e-1f15-4410-b870-621ebbe97a57",
   "metadata": {},
   "outputs": [
    {
     "data": {
      "text/plain": [
       "'Ana'"
      ]
     },
     "execution_count": 88,
     "metadata": {},
     "output_type": "execute_result"
    }
   ],
   "source": [
    "mixed_list[2]"
   ]
  },
  {
   "cell_type": "code",
   "execution_count": 89,
   "id": "2ddeb29c-4903-459e-8598-aa575aa66566",
   "metadata": {},
   "outputs": [
    {
     "data": {
      "text/plain": [
       "['w', 'y']"
      ]
     },
     "execution_count": 89,
     "metadata": {},
     "output_type": "execute_result"
    }
   ],
   "source": [
    "mixed_list[-1]"
   ]
  },
  {
   "cell_type": "code",
   "execution_count": 90,
   "id": "cf228634-4770-4d5b-bde8-d477106c7d3d",
   "metadata": {},
   "outputs": [
    {
     "data": {
      "text/plain": [
       "'w'"
      ]
     },
     "execution_count": 90,
     "metadata": {},
     "output_type": "execute_result"
    }
   ],
   "source": [
    "mixed_list[-1][0] # mixed_list[-1] is a list, [0] is its first element"
   ]
  },
  {
   "cell_type": "code",
   "execution_count": 91,
   "id": "5ad25ba3-963d-49c8-87e7-166850e4ff41",
   "metadata": {},
   "outputs": [
    {
     "data": {
      "text/plain": [
       "[['w', 'y'], 'Carla', 3, 'Bruno', 'Ana', 10, 'a']"
      ]
     },
     "execution_count": 91,
     "metadata": {},
     "output_type": "execute_result"
    }
   ],
   "source": [
    "mixed_list[::-1] "
   ]
  },
  {
   "cell_type": "markdown",
   "id": "45587308-9922-4216-916c-5803a66e6085",
   "metadata": {},
   "source": [
    "### Tuples\n",
    "ordered sequence of objects inside __parentheses__ separated by commas"
   ]
  },
  {
   "cell_type": "code",
   "execution_count": 92,
   "id": "fead1c71-e2c7-45de-a574-4fd16dbb1d64",
   "metadata": {},
   "outputs": [
    {
     "data": {
      "text/plain": [
       "tuple"
      ]
     },
     "execution_count": 92,
     "metadata": {},
     "output_type": "execute_result"
    }
   ],
   "source": [
    "tuple_of_numbers = (4,1,2,5,6)\n",
    "type(tuple_of_numbers)"
   ]
  },
  {
   "cell_type": "code",
   "execution_count": 93,
   "id": "6891e514-f877-4052-ab24-9da8d26ebd92",
   "metadata": {},
   "outputs": [],
   "source": [
    "tuple_of_letters = ('a','c','s', 'w', 'ç')"
   ]
  },
  {
   "cell_type": "markdown",
   "id": "63e6cfd9-cf4b-4ece-9edf-f29d2f049035",
   "metadata": {},
   "source": [
    "* unlike lists, tuples are read-only (immutable)"
   ]
  },
  {
   "cell_type": "code",
   "execution_count": 94,
   "id": "180c33b8-5282-4696-8ca0-f28b56cca449",
   "metadata": {},
   "outputs": [
    {
     "data": {
      "text/plain": [
       "['a', 'c', 's', 'w', 'ç']"
      ]
     },
     "execution_count": 94,
     "metadata": {},
     "output_type": "execute_result"
    }
   ],
   "source": [
    "list_of_letters"
   ]
  },
  {
   "cell_type": "code",
   "execution_count": 95,
   "id": "e5bcd816-48b7-46bd-8a71-803646b96fff",
   "metadata": {},
   "outputs": [
    {
     "data": {
      "text/plain": [
       "['a', 'c', 's', 'w', 'ã']"
      ]
     },
     "execution_count": 95,
     "metadata": {},
     "output_type": "execute_result"
    }
   ],
   "source": [
    "list_of_letters[-1]='ã'\n",
    "list_of_letters"
   ]
  },
  {
   "cell_type": "code",
   "execution_count": 96,
   "id": "96cbe79e-e3c4-4be3-b747-c5c24c8de7f1",
   "metadata": {},
   "outputs": [
    {
     "data": {
      "text/plain": [
       "('a', 'c', 's', 'w', 'ç')"
      ]
     },
     "execution_count": 96,
     "metadata": {},
     "output_type": "execute_result"
    }
   ],
   "source": [
    "tuple_of_letters"
   ]
  },
  {
   "cell_type": "code",
   "execution_count": 97,
   "id": "0ae37202-40da-45e2-b831-37cb80012cbb",
   "metadata": {},
   "outputs": [
    {
     "ename": "TypeError",
     "evalue": "'tuple' object does not support item assignment",
     "output_type": "error",
     "traceback": [
      "\u001b[1;31m---------------------------------------------------------------------------\u001b[0m",
      "\u001b[1;31mTypeError\u001b[0m                                 Traceback (most recent call last)",
      "Input \u001b[1;32mIn [97]\u001b[0m, in \u001b[0;36m<module>\u001b[1;34m\u001b[0m\n\u001b[1;32m----> 1\u001b[0m tuple_of_letters[\u001b[38;5;241m-\u001b[39m\u001b[38;5;241m1\u001b[39m]\u001b[38;5;241m=\u001b[39m\u001b[38;5;124m'\u001b[39m\u001b[38;5;124mã\u001b[39m\u001b[38;5;124m'\u001b[39m\n",
      "\u001b[1;31mTypeError\u001b[0m: 'tuple' object does not support item assignment"
     ]
    }
   ],
   "source": [
    "tuple_of_letters[-1]='ã'"
   ]
  },
  {
   "cell_type": "markdown",
   "id": "1677566b-946f-4ff3-9d14-cbdee3656c3b",
   "metadata": {},
   "source": [
    "## Conditionals\n",
    "\n",
    "We use conditional to do a set of instructions depending on whether or something is `True`:"
   ]
  },
  {
   "cell_type": "code",
   "execution_count": 160,
   "id": "45712022-b309-4342-b057-ebf7ae8ab25f",
   "metadata": {},
   "outputs": [
    {
     "name": "stdout",
     "output_type": "stream",
     "text": [
      "x is larger\n"
     ]
    }
   ],
   "source": [
    "x, y = 10, 1\n",
    "\n",
    "if y > x:\n",
    "    print(\"y is larger\")\n",
    "elif x > y:\n",
    "    print(\"x is larger\")\n",
    "else:\n",
    "    print(\"x and y are equal\")"
   ]
  },
  {
   "cell_type": "code",
   "execution_count": 162,
   "id": "9c4aa83c-5c35-4bcf-a8bb-279adf7c3252",
   "metadata": {},
   "outputs": [
    {
     "name": "stdout",
     "output_type": "stream",
     "text": [
      "y is larger\n",
      "x and y are equal\n",
      "x is larger\n"
     ]
    }
   ],
   "source": [
    "y = 10\n",
    "\n",
    "for x in [0, 10, 11]:\n",
    "    if y > x:\n",
    "        print(\"y is larger\")\n",
    "    elif x > y:\n",
    "        print(\"x is larger\")\n",
    "    else:\n",
    "        print(\"x and y are equal\")"
   ]
  },
  {
   "cell_type": "markdown",
   "id": "e92fbf53-ab0e-4a7e-b419-ddafdd8e1dc9",
   "metadata": {},
   "source": [
    "## Iterations\n",
    "The above cell is an example of an iteration or a loop. Iterations are used to do an operation many times. "
   ]
  },
  {
   "cell_type": "markdown",
   "id": "e6cdd8e1-b08d-42d7-b71f-26836f5a77b5",
   "metadata": {},
   "source": [
    "### `for` loop\n",
    "\n",
    "iterate over the elements of a sequence"
   ]
  },
  {
   "cell_type": "code",
   "execution_count": 106,
   "id": "911008e6-3a8b-4659-a6c7-419e114f1e10",
   "metadata": {},
   "outputs": [
    {
     "name": "stdout",
     "output_type": "stream",
     "text": [
      "a\n",
      "c\n",
      "s\n",
      "w\n",
      "ã\n"
     ]
    }
   ],
   "source": [
    "for letter in list_of_letters:\n",
    "    print(letter)"
   ]
  },
  {
   "cell_type": "code",
   "execution_count": 107,
   "id": "9d9a4b9c-f41a-4957-b977-c07014dd1289",
   "metadata": {},
   "outputs": [
    {
     "name": "stdout",
     "output_type": "stream",
     "text": [
      "(4, 16)\n",
      "(1, 1)\n",
      "(2, 4)\n",
      "(5, 25)\n",
      "(6, 36)\n"
     ]
    }
   ],
   "source": [
    "for num in tuple_of_numbers:\n",
    "    print((num, num**2))"
   ]
  },
  {
   "cell_type": "code",
   "execution_count": 108,
   "id": "a71082fa-1616-4ed4-aa63-8083b5ce64b5",
   "metadata": {},
   "outputs": [
    {
     "name": "stdout",
     "output_type": "stream",
     "text": [
      "[16, 1, 4, 25, 36]\n"
     ]
    }
   ],
   "source": [
    "list_of_squares=[] # initialize an empty list\n",
    "\n",
    "for num in tuple_of_numbers:\n",
    "    list_of_squares.append(num**2) # append a new element to an existing list\n",
    "    \n",
    "print(list_of_squares)"
   ]
  },
  {
   "cell_type": "markdown",
   "id": "7dbdb402-0b6b-4e41-945b-44a3940bb64e",
   "metadata": {},
   "source": [
    "`enumerate()` is a built-in Python function returning the index in addition to the element of a list or tuple (more generally, a sequence)"
   ]
  },
  {
   "cell_type": "code",
   "execution_count": 110,
   "id": "a1beaf38-5edd-4c45-bb24-5cdec9f67697",
   "metadata": {},
   "outputs": [
    {
     "name": "stdout",
     "output_type": "stream",
     "text": [
      "0 a\n",
      "1 10\n",
      "2 Ana\n",
      "3 Bruno\n",
      "4 3\n",
      "5 Carla\n",
      "6 ['w', 'y']\n"
     ]
    }
   ],
   "source": [
    "for i, x in enumerate(mixed_list):\n",
    "    print(i, x)"
   ]
  },
  {
   "cell_type": "code",
   "execution_count": 111,
   "id": "42bd5024-8d3f-4d79-b9a6-328c809c587f",
   "metadata": {},
   "outputs": [
    {
     "name": "stdout",
     "output_type": "stream",
     "text": [
      "0 4\n",
      "1 1\n",
      "2 2\n",
      "3 5\n",
      "4 6\n"
     ]
    }
   ],
   "source": [
    "for i, x in enumerate(tuple_of_numbers):\n",
    "    print(i, x)"
   ]
  },
  {
   "cell_type": "markdown",
   "id": "4d1657f3-7ab5-4ad2-bead-445a7a83751b",
   "metadata": {},
   "source": [
    "### `while` loop\n",
    "\n",
    "iterate until an expression returns `False`"
   ]
  },
  {
   "cell_type": "code",
   "execution_count": 114,
   "id": "c0c423e8-0f2c-4ab5-b1b9-613185ef1f92",
   "metadata": {},
   "outputs": [
    {
     "name": "stdout",
     "output_type": "stream",
     "text": [
      "0\n",
      "1\n",
      "2\n",
      "3\n",
      "4\n",
      "5\n",
      "6\n",
      "7\n",
      "8\n",
      "9\n",
      "10\n"
     ]
    }
   ],
   "source": [
    "i = 0\n",
    "while i <= 10:\n",
    "    print(i)\n",
    "    i+=1"
   ]
  },
  {
   "cell_type": "code",
   "execution_count": 115,
   "id": "5f691b81-9272-4506-b2bc-c00de9468727",
   "metadata": {},
   "outputs": [
    {
     "data": {
      "text/plain": [
       "[4, 1, 2, 5, 6]"
      ]
     },
     "execution_count": 115,
     "metadata": {},
     "output_type": "execute_result"
    }
   ],
   "source": [
    "list_of_numbers"
   ]
  },
  {
   "cell_type": "code",
   "execution_count": 117,
   "id": "ca10822f-b995-42c1-829c-7bbeafef6988",
   "metadata": {},
   "outputs": [
    {
     "name": "stdout",
     "output_type": "stream",
     "text": [
      "4\n",
      "1\n",
      "2\n"
     ]
    }
   ],
   "source": [
    "i = 0\n",
    "while list_of_numbers[i] < 5:\n",
    "    print(list_of_numbers[i])\n",
    "    i += 1"
   ]
  },
  {
   "cell_type": "code",
   "execution_count": null,
   "id": "31dbedaf-1d5e-4d1e-b518-7397bbfb7913",
   "metadata": {},
   "outputs": [],
   "source": []
  },
  {
   "cell_type": "markdown",
   "id": "a1bd47d1-f6fe-42f1-bfa1-f188ce174a69",
   "metadata": {},
   "source": [
    "## Keywords\n",
    "The following words are reserved in Python - you cannot use them as variables names"
   ]
  },
  {
   "cell_type": "code",
   "execution_count": 118,
   "id": "2c6ea9d2-a3ee-47b6-a51c-4deabbb938e5",
   "metadata": {},
   "outputs": [
    {
     "data": {
      "text/plain": [
       "['False',\n",
       " 'None',\n",
       " 'True',\n",
       " 'and',\n",
       " 'as',\n",
       " 'assert',\n",
       " 'async',\n",
       " 'await',\n",
       " 'break',\n",
       " 'class',\n",
       " 'continue',\n",
       " 'def',\n",
       " 'del',\n",
       " 'elif',\n",
       " 'else',\n",
       " 'except',\n",
       " 'finally',\n",
       " 'for',\n",
       " 'from',\n",
       " 'global',\n",
       " 'if',\n",
       " 'import',\n",
       " 'in',\n",
       " 'is',\n",
       " 'lambda',\n",
       " 'nonlocal',\n",
       " 'not',\n",
       " 'or',\n",
       " 'pass',\n",
       " 'raise',\n",
       " 'return',\n",
       " 'try',\n",
       " 'while',\n",
       " 'with',\n",
       " 'yield']"
      ]
     },
     "execution_count": 118,
     "metadata": {},
     "output_type": "execute_result"
    }
   ],
   "source": [
    "import keyword\n",
    "keyword.kwlist"
   ]
  },
  {
   "cell_type": "markdown",
   "id": "c8718d83-005a-4a1d-81bf-89a4573fb62d",
   "metadata": {
    "tags": []
   },
   "source": [
    "* some examples of use"
   ]
  },
  {
   "cell_type": "code",
   "execution_count": 119,
   "id": "3fd9554f-ac67-4300-ac0f-a8c0a4d4f169",
   "metadata": {
    "tags": []
   },
   "outputs": [
    {
     "data": {
      "text/plain": [
       "False"
      ]
     },
     "execution_count": 119,
     "metadata": {},
     "output_type": "execute_result"
    }
   ],
   "source": [
    "(2>3) is True"
   ]
  },
  {
   "cell_type": "code",
   "execution_count": 120,
   "id": "779c3dc5-e8a0-45e4-8d2b-20c93056a61c",
   "metadata": {
    "tags": []
   },
   "outputs": [
    {
     "data": {
      "text/plain": [
       "True"
      ]
     },
     "execution_count": 120,
     "metadata": {},
     "output_type": "execute_result"
    }
   ],
   "source": [
    "(2>3) is False"
   ]
  },
  {
   "cell_type": "code",
   "execution_count": 121,
   "id": "f03c6c4f-11ca-4852-a9ca-2e88b51b827e",
   "metadata": {},
   "outputs": [
    {
     "data": {
      "text/plain": [
       "True"
      ]
     },
     "execution_count": 121,
     "metadata": {},
     "output_type": "execute_result"
    }
   ],
   "source": [
    "(2<3) and (1>0) # both are true"
   ]
  },
  {
   "cell_type": "code",
   "execution_count": 122,
   "id": "e05effa0-8161-4443-9e42-374c7a5a9faf",
   "metadata": {
    "tags": []
   },
   "outputs": [
    {
     "data": {
      "text/plain": [
       "True"
      ]
     },
     "execution_count": 122,
     "metadata": {},
     "output_type": "execute_result"
    }
   ],
   "source": [
    "(2>3) or (1>0) # at least one is true"
   ]
  },
  {
   "cell_type": "code",
   "execution_count": null,
   "id": "8a63a3e7-c602-4491-84cf-551c575fdcd0",
   "metadata": {},
   "outputs": [],
   "source": []
  }
 ],
 "metadata": {
  "kernelspec": {
   "display_name": "Python 3 (ipykernel)",
   "language": "python",
   "name": "python3"
  },
  "language_info": {
   "codemirror_mode": {
    "name": "ipython",
    "version": 3
   },
   "file_extension": ".py",
   "mimetype": "text/x-python",
   "name": "python",
   "nbconvert_exporter": "python",
   "pygments_lexer": "ipython3",
   "version": "3.10.2"
  }
 },
 "nbformat": 4,
 "nbformat_minor": 5
}
